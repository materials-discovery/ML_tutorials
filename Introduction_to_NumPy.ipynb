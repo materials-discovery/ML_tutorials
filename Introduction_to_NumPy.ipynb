{
  "metadata": {
    "language_info": {
      "codemirror_mode": {
        "name": "python",
        "version": 3
      },
      "file_extension": ".py",
      "mimetype": "text/x-python",
      "name": "python",
      "nbconvert_exporter": "python",
      "pygments_lexer": "ipython3",
      "version": "3.8"
    },
    "kernelspec": {
      "name": "python",
      "display_name": "Python (Pyodide)",
      "language": "python"
    }
  },
  "nbformat_minor": 4,
  "nbformat": 4,
  "cells": [
    {
      "cell_type": "code",
      "source": "#1.\tCreating and manipulating arrays - This exercise introduces the basic functionality of numpy arrays, including creating arrays, accessing elements, and modifying elements.\nimport numpy as np\n\n# Creating an array\na = np.array([1, 2, 3, 4])\nprint(\"Array: \", a)\n\n# Accessing an element\nprint(\"Third element: \", a[2])\n\n# Modifying an element\na[2] = 5\nprint(\"Modified array: \", a)",
      "metadata": {},
      "execution_count": null,
      "outputs": []
    },
    {
      "cell_type": "code",
      "source": "#2.\tArray operations - This exercise introduces basic array operations such as addition, subtraction, multiplication and division.\nimport numpy as np\n\n# Creating arrays\na = np.array([1, 2, 3, 4])\nb = np.array([5, 6, 7, 8])\n\n# Addition\nc = a + b\nprint(\"Addition: \", c)\n\n# Subtraction\nc = a - b\nprint(\"Subtraction: \", c)\n\n# Multiplication\nc = a * b\nprint(\"Multiplication: \", c)\n\n# Division\nc = a / b\nprint(\"Division: \", c)",
      "metadata": {},
      "execution_count": null,
      "outputs": []
    },
    {
      "cell_type": "code",
      "source": "#3.\tArray reshaping - This exercise introduces how to reshape arrays, including changing the shape and dimension of an array.\nimport numpy as np\n\n# Creating an array\na = np.array([1, 2, 3, 4, 5, 6, 7, 8])\nprint(\"Original array: \", a)\n\n# Reshaping to 2x4\nb = a.reshape(2, 4)\nprint(\"Reshaped array: \", b)\n\n# Transposing the array\nc = b.T\nprint(\"Transposed array: \", c)",
      "metadata": {},
      "execution_count": null,
      "outputs": []
    },
    {
      "cell_type": "code",
      "source": "#4.\tArray indexing and slicing - This exercise introduces how to index and slice arrays, including selecting specific elements and sub-arrays.\nimport numpy as np\n\n# Creating an array\na = np.array([1, 2, 3, 4, 5, 6, 7, 8])\nprint(\"Original array: \", a)\n\n# Indexing a specific element\nprint(\"Second element: \", a[1])\n\n# Slicing a sub-array\nb = a[2:5]\nprint(\"Sliced array: \", b)",
      "metadata": {},
      "execution_count": null,
      "outputs": []
    },
    {
      "cell_type": "code",
      "source": "#5.\tArray statistics - This exercise introduces basic statistical functions available in numpy such as mean, median, standard deviation, and variance.\nimport numpy as np\n\n# Creating an array\na = np.array([1, 2, 3, 4, 5, 6, 7, 8])\nprint(\"Original array: \", a)\n\n# Mean\nmean = np.mean(a)\nprint(\"Mean: \", mean)\n\n# Median\nmedian = np.median(a)\nprint(\"Median: \", median)\n\n# Standard deviation\nstd = np.std(a)\nprint(\"Standard deviation: \", std)\n\n# Variance\nvar = np.var(a)\nprint(\"Variance: \", var)\n#Please note that these are just simple examples, Numpy is a powerful library and have a lot of functionality, these examples just show the basic functionality of it.",
      "metadata": {},
      "execution_count": null,
      "outputs": []
    }
  ]
}