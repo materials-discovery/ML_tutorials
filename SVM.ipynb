{
  "nbformat": 4,
  "nbformat_minor": 0,
  "metadata": {
    "colab": {
      "provenance": []
    },
    "kernelspec": {
      "name": "python3",
      "display_name": "Python 3"
    },
    "language_info": {
      "name": "python"
    }
  },
  "cells": [
    {
      "cell_type": "code",
      "execution_count": 1,
      "metadata": {
        "id": "l5q65xPgmh7I"
      },
      "outputs": [],
      "source": [
        "\n",
        "#import the necessary libraries\n",
        "import pandas as pd\n",
        "import numpy as np\n",
        "import matplotlib.pyplot as plt\n",
        "from sklearn.svm import SVC\n",
        "from sklearn.model_selection import train_test_split\n",
        "from sklearn.preprocessing import StandardScaler\n",
        "from sklearn import metrics\n",
        "from sklearn.metrics import confusion_matrix, accuracy_score\n",
        "from sklearn.model_selection import cross_val_score\n"
      ]
    },
    {
      "cell_type": "code",
      "source": [
        "\n",
        "# load the dataset\n",
        "url = 'https://archive.ics.uci.edu/ml/machine-learning-databases/iris/iris.data'\n",
        "colnames = ['sepal_length', 'sepal_width', 'petal_length', 'petal_width', 'species']\n",
        "iris = pd.read_csv(url, header=None, names=colnames)\n",
        "#iris = pd.read_csv(url)\n",
        "data = iris\n"
      ],
      "metadata": {
        "id": "kYbMk_RGmi3Q"
      },
      "execution_count": 2,
      "outputs": []
    },
    {
      "cell_type": "code",
      "source": [
        "\n",
        "#select the features and target\n",
        "X = data[['sepal_length', 'sepal_width', 'petal_length', 'petal_width']]\n",
        "y = data['species']\n",
        "\n"
      ],
      "metadata": {
        "id": "9WYt3OfhmjmT"
      },
      "execution_count": 3,
      "outputs": []
    },
    {
      "cell_type": "code",
      "source": [
        "#scale the dataset\n",
        "scaler = StandardScaler()\n",
        "X_scaled = scaler.fit_transform(X)\n"
      ],
      "metadata": {
        "id": "ktna1F3xmkIB"
      },
      "execution_count": 4,
      "outputs": []
    },
    {
      "cell_type": "code",
      "source": [
        "#split the data into train and test sets\n",
        "Xtrain, Xtest, ytrain, ytest = train_test_split(X_scaled, y, test_size=0.2, random_state=42)\n"
      ],
      "metadata": {
        "id": "_bqO5fN0mkl-"
      },
      "execution_count": 5,
      "outputs": []
    },
    {
      "cell_type": "code",
      "source": [
        "#define and fit the SVM model\n",
        "svm = SVC()\n",
        "svm.fit(Xtrain, ytrain)\n"
      ],
      "metadata": {
        "colab": {
          "base_uri": "https://localhost:8080/"
        },
        "id": "R5aqapzFmlJN",
        "outputId": "a673ecd3-b31c-4745-dde4-44e4093613cb"
      },
      "execution_count": 6,
      "outputs": [
        {
          "output_type": "execute_result",
          "data": {
            "text/plain": [
              "SVC()"
            ]
          },
          "metadata": {},
          "execution_count": 6
        }
      ]
    },
    {
      "cell_type": "code",
      "source": [
        "#make predictions\n",
        "predictions = svm.predict(Xtest)\n"
      ],
      "metadata": {
        "id": "M92hRzYzmlrF"
      },
      "execution_count": 7,
      "outputs": []
    },
    {
      "cell_type": "code",
      "source": [
        "#evaluate the model\n",
        "accuracy = metrics.accuracy_score(ytest, predictions)\n",
        "print(\"The accuracy of the model is:\", accuracy)\n"
      ],
      "metadata": {
        "colab": {
          "base_uri": "https://localhost:8080/"
        },
        "id": "qqpmiN3HmmNQ",
        "outputId": "20bdc027-deec-4d2c-94f1-246781c440e4"
      },
      "execution_count": 8,
      "outputs": [
        {
          "output_type": "stream",
          "name": "stdout",
          "text": [
            "The accuracy of the model is: 1.0\n"
          ]
        }
      ]
    },
    {
      "cell_type": "code",
      "source": [
        "#calculate different metrics\n",
        "print(metrics.classification_report(ytest, predictions))\n"
      ],
      "metadata": {
        "colab": {
          "base_uri": "https://localhost:8080/"
        },
        "id": "hMaQnpKunHPU",
        "outputId": "a13fb592-c12f-483e-ff64-a435ec2c7c06"
      },
      "execution_count": 9,
      "outputs": [
        {
          "output_type": "stream",
          "name": "stdout",
          "text": [
            "                 precision    recall  f1-score   support\n",
            "\n",
            "    Iris-setosa       1.00      1.00      1.00        10\n",
            "Iris-versicolor       1.00      1.00      1.00         9\n",
            " Iris-virginica       1.00      1.00      1.00        11\n",
            "\n",
            "       accuracy                           1.00        30\n",
            "      macro avg       1.00      1.00      1.00        30\n",
            "   weighted avg       1.00      1.00      1.00        30\n",
            "\n"
          ]
        }
      ]
    },
    {
      "cell_type": "code",
      "source": [
        "#visualize confusion matrix\n",
        "cm = confusion_matrix(ytest, predictions)\n",
        "plt.figure(figsize=(8,8))\n",
        "plt.title('Confusion matrix of SVM Classification of Iris Dataset')\n",
        "plt.imshow(cm)\n",
        "plt.colorbar()\n",
        "plt.xlabel('Predicted')\n",
        "plt.ylabel('True')\n",
        "plt.show()\n"
      ],
      "metadata": {
        "colab": {
          "base_uri": "https://localhost:8080/",
          "height": 472
        },
        "id": "xsMp5xb1nHzy",
        "outputId": "7d4827a8-ba80-41b8-cae0-aecdbd3821f8"
      },
      "execution_count": 10,
      "outputs": [
        {
          "output_type": "display_data",
          "data": {
            "text/plain": [
              "<Figure size 576x576 with 2 Axes>"
            ],
            "image/png": "[encoded data removed]"
          },
          "metadata": {
            "needs_background": "light"
          }
        }
      ]
    },
    {
      "cell_type": "code",
      "source": [
        "#use cross-validation to tune hyperparameters\n",
        "clf = SVC(kernel='rbf', gamma='auto')\n",
        "scores = cross_val_score(clf, X_scaled, y, cv=5)\n",
        "print(\"Cross-Validation scores:\", scores)\n"
      ],
      "metadata": {
        "colab": {
          "base_uri": "https://localhost:8080/"
        },
        "id": "5NpHPkT2nIOY",
        "outputId": "753ab477-93a3-421a-e449-b30873be814f"
      },
      "execution_count": 11,
      "outputs": [
        {
          "output_type": "stream",
          "name": "stdout",
          "text": [
            "Cross-Validation scores: [0.96666667 0.96666667 0.96666667 0.93333333 1.        ]\n"
          ]
        }
      ]
    },
    {
      "cell_type": "code",
      "source": [
        "#repeat the code to show the effect of the kernel\n",
        "clf = SVC(kernel='linear', gamma='auto')\n",
        "scores = cross_val_score(clf, X_scaled, y, cv=5)\n",
        "print(\"Cross-Validation scores with linear kernel:\", scores)"
      ],
      "metadata": {
        "colab": {
          "base_uri": "https://localhost:8080/"
        },
        "id": "ei6Vw_Z3nPJ4",
        "outputId": "94fa932b-64c2-4a95-c03d-f8ee12e6348e"
      },
      "execution_count": 12,
      "outputs": [
        {
          "output_type": "stream",
          "name": "stdout",
          "text": [
            "Cross-Validation scores with linear kernel: [0.96666667 1.         0.93333333 0.93333333 1.        ]\n"
          ]
        }
      ]
    }
  ]
}