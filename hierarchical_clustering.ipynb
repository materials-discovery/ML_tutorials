{
  "cells": [
    {
      "cell_type": "code",
      "source": [
        "#a code example in Python that demonstrates the strengths and weaknesses of hierarchical clustering using the Iris dataset and visualizing the results.\n",
        "#First, we'll import the necessary libraries and load the Iris dataset:\n",
        "\n",
        "import numpy as np\n",
        "import pandas as pd\n",
        "import matplotlib.pyplot as plt\n",
        "from sklearn.datasets import load_iris\n",
        "from scipy.cluster.hierarchy import linkage, dendrogram, fcluster\n",
        "\n",
        "iris = load_iris()\n",
        "X = iris.data\n",
        "y = iris.target\n"
      ],
      "metadata": {
        "id": "bvbUpODgEL3l"
      },
      "execution_count": null,
      "outputs": []
    },
    {
      "cell_type": "code",
      "source": [
        "#Next, we'll apply hierarchical clustering using different linkage methods and visualize the resulting dendrograms:\n",
        "\n",
        "methods = ['single', 'complete', 'average', 'ward']\n",
        "\n",
        "for method in methods:\n",
        "    Z = linkage(X, method=method)\n",
        "    dendrogram(Z)\n",
        "    plt.title(f'Dendrogram ({method} linkage)')\n",
        "    plt.xlabel('Sample index')\n",
        "    plt.ylabel('Distance')\n",
        "    plt.show()"
      ],
      "metadata": {
        "id": "l9k4C7bjELy9"
      },
      "execution_count": null,
      "outputs": []
    },
    {
      "cell_type": "code",
      "source": [
        "#This code will generate four dendrograms using different linkage methods: single linkage, complete linkage, average linkage, and Ward's linkage. Each dendrogram shows how the data points are hierarchically clustered based on their similarities or differences.\n",
        "#Next, we'll visualize the clustering results using a chosen number of clusters:\n",
        "\n",
        "k = 3\n",
        "Z = linkage(X, method='ward')\n",
        "labels = fcluster(Z, k, criterion='maxclust')\n",
        "\n",
        "plt.scatter(X[:, 0], X[:, 1], c=labels)\n",
        "plt.xlabel('Sepal length')\n",
        "plt.ylabel('Sepal width')\n",
        "plt.show()\n",
        "\n",
        "#This code will apply hierarchical clustering with Ward's linkage and three clusters, and visualize the resulting clusters using the sepal length versus sepal width features of the Iris dataset.\n"
      ],
      "metadata": {
        "id": "kqswi1UwELsE"
      },
      "execution_count": null,
      "outputs": []
    },
    {
      "cell_type": "code",
      "source": [],
      "metadata": {
        "id": "5LdVGe5XELmY"
      },
      "execution_count": null,
      "outputs": []
    },
    {
      "cell_type": "code",
      "source": [],
      "metadata": {
        "id": "w01qmJtHELg8"
      },
      "execution_count": null,
      "outputs": []
    },
    {
      "cell_type": "code",
      "source": [],
      "metadata": {
        "id": "7nHU7FJTELc3"
      },
      "execution_count": null,
      "outputs": []
    },
    {
      "cell_type": "code",
      "source": [],
      "metadata": {
        "id": "L1DCtsVvELYh"
      },
      "execution_count": null,
      "outputs": []
    },
    {
      "cell_type": "code",
      "source": [],
      "metadata": {
        "id": "LlDz8m0yELTJ"
      },
      "execution_count": null,
      "outputs": []
    },
    {
      "cell_type": "code",
      "source": [],
      "metadata": {
        "id": "08YU_JnWELM4"
      },
      "execution_count": null,
      "outputs": []
    }
  ],
  "metadata": {
    "colab": {
      "name": "Welcome to Colaboratory",
      "toc_visible": true,
      "provenance": []
    },
    "kernelspec": {
      "display_name": "Python 3",
      "name": "python3"
    }
  },
  "nbformat": 4,
  "nbformat_minor": 0
}