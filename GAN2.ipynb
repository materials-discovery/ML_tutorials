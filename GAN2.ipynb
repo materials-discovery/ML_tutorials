{
  "nbformat": 4,
  "nbformat_minor": 0,
  "metadata": {
    "colab": {
      "provenance": []
    },
    "kernelspec": {
      "name": "python3",
      "display_name": "Python 3"
    },
    "language_info": {
      "name": "python"
    }
  },
  "cells": [
    {
      "cell_type": "code",
      "source": [
        "!pip install rdkit"
      ],
      "metadata": {
        "colab": {
          "base_uri": "https://localhost:8080/"
        },
        "id": "_ZNHbMyvcaxe",
        "outputId": "1972a00a-201c-40d7-b5f5-181137fa64e1"
      },
      "execution_count": 18,
      "outputs": [
        {
          "output_type": "stream",
          "name": "stdout",
          "text": [
            "Requirement already satisfied: rdkit in /usr/local/lib/python3.11/dist-packages (2024.9.5)\n",
            "Requirement already satisfied: numpy in /usr/local/lib/python3.11/dist-packages (from rdkit) (1.26.4)\n",
            "Requirement already satisfied: Pillow in /usr/local/lib/python3.11/dist-packages (from rdkit) (11.1.0)\n"
          ]
        }
      ]
    },
    {
      "cell_type": "markdown",
      "source": [
        "# %% [markdown]\n",
        "# # Molecule Generation Using GAN in PyTorch\n",
        "#\n",
        "# This notebook demonstrates an end-to-end workflow for generating novel molecules using a Generative Adversarial Network (GAN) implemented in PyTorch.\n",
        "#\n",
        "# **Workflow Overview:**\n",
        "#\n",
        "# 1. **Data Download & Preprocessing**\n",
        "#    - Download an online SMILES dataset.\n",
        "#    - Load and filter valid SMILES using RDKit.\n",
        "#    - Create a vocabulary for tokenizing SMILES.\n",
        "#    - Visualize the length distribution of SMILES strings.\n",
        "#\n",
        "# 2. **Dataset Creation**\n",
        "#    - Define a custom PyTorch Dataset that tokenizes and pads the SMILES.\n",
        "#    - Load the dataset using DataLoader.\n",
        "#\n",
        "# 3. **GAN Model Architecture**\n",
        "#    - Define the Generator: maps latent vectors to SMILES sequences using an LSTM and Gumbel-Softmax.\n",
        "#    - Define the Discriminator: classifies one-hot encoded SMILES using an embedding layer and bidirectional LSTM.\n",
        "#\n",
        "# 4. **Training the GAN**\n",
        "#    - Train using an adversarial training loop.\n",
        "#    - Print and plot losses over epochs.\n",
        "#\n",
        "# 5. **Molecule Generation and Evaluation**\n",
        "#    - Generate new molecules using the trained Generator.\n",
        "#    - Convert the outputs back to SMILES strings.\n",
        "#    - Validate generated molecules using RDKit.\n",
        "#    - Plot a grid of valid molecules.\n",
        "#\n",
        "# Let's get started!"
      ],
      "metadata": {
        "id": "ahglddauhTF-"
      }
    },
    {
      "cell_type": "code",
      "source": [
        "# %%\n",
        "import os\n",
        "import json\n",
        "import random\n",
        "from pathlib import Path\n",
        "from datetime import datetime\n",
        "from typing import List, Dict, Any\n",
        "\n",
        "import requests                     # For downloading datasets\n",
        "import numpy as np                  # For numerical operations\n",
        "import torch                        # Main PyTorch package\n",
        "import torch.nn as nn               # For neural network modules\n",
        "import torch.nn.functional as F     # For activation functions and utilities\n",
        "import matplotlib.pyplot as plt     # For plotting graphs and images\n",
        "from tqdm import tqdm               # For progress bars\n",
        "\n",
        "# RDKit for molecule processing and visualization\n",
        "from rdkit import Chem\n",
        "from rdkit.Chem import Draw\n",
        "\n",
        "# Determine device for training\n",
        "device = torch.device(\"cuda\" if torch.cuda.is_available() else \"cpu\")\n",
        "print(\"Using device:\", device)\n"
      ],
      "metadata": {
        "colab": {
          "base_uri": "https://localhost:8080/"
        },
        "id": "p_eg-t4Z1unE",
        "outputId": "f1852dc8-0ebf-44e3-ebd2-a705d58c0979"
      },
      "execution_count": 19,
      "outputs": [
        {
          "output_type": "stream",
          "name": "stdout",
          "text": [
            "Using device: cpu\n"
          ]
        }
      ]
    },
    {
      "cell_type": "code",
      "source": [
        "# %% [markdown]\n",
        "# ## 1. Data Download & Preprocessing\n",
        "#\n",
        "# In this section, we:\n",
        "#\n",
        "# - Download a sample SMILES dataset from an online repository.\n",
        "# - Load SMILES strings from the file.\n",
        "# - Filter out invalid SMILES using RDKit.\n",
        "# - Build a character-level vocabulary for tokenizing the SMILES.\n",
        "# - Plot the distribution of SMILES string lengths.\n",
        "#\n",
        "# **Note:** The dataset used here is a sample file from MolGAN’s repository.\n"
      ],
      "metadata": {
        "id": "d4zld_fx1ulF"
      },
      "execution_count": 20,
      "outputs": []
    },
    {
      "cell_type": "code",
      "source": [
        "# %%\n",
        "def download_dataset(url: str, save_path: str) -> None:\n",
        "    \"\"\"\n",
        "    Downloads the dataset from the specified URL if not already present locally.\n",
        "    \"\"\"\n",
        "    if os.path.exists(save_path):\n",
        "        print(f\"Dataset already exists at {save_path}. Skipping download.\")\n",
        "        return\n",
        "\n",
        "    print(f\"Downloading dataset from {url} ...\")\n",
        "    response = requests.get(url, stream=True)\n",
        "    total_length = response.headers.get('content-length')\n",
        "\n",
        "    if total_length is None:\n",
        "        with open(save_path, 'wb') as f:\n",
        "            f.write(response.content)\n",
        "    else:\n",
        "        total_length = int(total_length)\n",
        "        with open(save_path, 'wb') as f:\n",
        "            for data in tqdm(response.iter_content(chunk_size=4096), total=total_length//4096, desc=\"Downloading\"):\n",
        "                f.write(data)\n",
        "    print(f\"Dataset downloaded and saved to {save_path}.\")\n",
        "\n",
        "def load_smiles_dataset(file_path: str) -> List[str]:\n",
        "    \"\"\"\n",
        "    Loads SMILES strings from a text file (one SMILES per line).\n",
        "    \"\"\"\n",
        "    smiles_list = []\n",
        "    with open(file_path, 'r') as f:\n",
        "        for line in f:\n",
        "            line = line.strip()\n",
        "            if line:\n",
        "                smiles_list.append(line)\n",
        "    print(f\"Loaded {len(smiles_list)} SMILES strings from {file_path}.\")\n",
        "    return smiles_list\n",
        "\n",
        "def filter_valid_smiles(smiles_list: List[str]) -> List[str]:\n",
        "    \"\"\"\n",
        "    Filters out invalid SMILES strings using RDKit.\n",
        "    \"\"\"\n",
        "    valid_smiles = []\n",
        "    invalid_count = 0\n",
        "    for smi in smiles_list:\n",
        "        mol = Chem.MolFromSmiles(smi)\n",
        "        if mol is not None:\n",
        "            valid_smiles.append(smi)\n",
        "        else:\n",
        "            invalid_count += 1\n",
        "    print(f\"Filtered out {invalid_count} invalid SMILES. {len(valid_smiles)} valid SMILES remain.\")\n",
        "    return valid_smiles\n",
        "\n",
        "def create_vocabulary(smiles_list: List[str]) -> Dict[str, int]:\n",
        "    \"\"\"\n",
        "    Creates a character-to-index mapping from the SMILES strings.\n",
        "    \"\"\"\n",
        "    vocab = {}\n",
        "    for smi in smiles_list:\n",
        "        for char in smi:\n",
        "            if char not in vocab:\n",
        "                vocab[char] = len(vocab)\n",
        "    # Add special padding token.\n",
        "    if \"<PAD>\" not in vocab:\n",
        "        vocab[\"<PAD>\"] = len(vocab)\n",
        "    print(f\"Created vocabulary with {len(vocab)} tokens.\")\n",
        "    return vocab\n",
        "\n",
        "def tokenize_smiles(smiles: str, vocab: Dict[str, int]) -> List[int]:\n",
        "    \"\"\"\n",
        "    Tokenizes a SMILES string using the provided vocabulary.\n",
        "    \"\"\"\n",
        "    return [vocab[char] for char in smiles]\n",
        "\n",
        "def pad_sequence(seq: List[int], max_length: int, pad_value: int) -> List[int]:\n",
        "    \"\"\"\n",
        "    Pads or truncates a sequence to the maximum length.\n",
        "    \"\"\"\n",
        "    padded_seq = seq[:max_length]\n",
        "    padded_seq += [pad_value] * (max_length - len(padded_seq))\n",
        "    return padded_seq\n"
      ],
      "metadata": {
        "id": "Ll0rzvCV1ui8"
      },
      "execution_count": 21,
      "outputs": []
    },
    {
      "cell_type": "code",
      "source": [
        "# %%\n",
        "# Define the dataset URL and local filename.\n",
        "#dataset_url = \"https://raw.githubusercontent.com/tsudalab/MolGAN/master/data/zinc_sample.txt\"\n",
        "dataset_file = \"zinc_sample.txt\"\n",
        "\n",
        "# Download the dataset if needed.\n",
        "#download_dataset(dataset_url, dataset_file)\n",
        "\n",
        "# Load SMILES strings from file.\n",
        "smiles_list = load_smiles_dataset(dataset_file)\n",
        "\n",
        "# Filter out invalid SMILES.\n",
        "smiles_list = filter_valid_smiles(smiles_list)\n",
        "\n",
        "# Build the vocabulary for tokenizing SMILES.\n",
        "vocab = create_vocabulary(smiles_list)\n",
        "print(\"Vocabulary:\", vocab)\n",
        "\n",
        "# Create the inverse mapping (for decoding tokens later).\n",
        "idx_to_char = {idx: char for char, idx in vocab.items()}\n",
        "\n",
        "# Determine the maximum sequence length in the dataset.\n",
        "max_length = max(len(smi) for smi in smiles_list)\n",
        "print(\"Maximum SMILES length:\", max_length)\n"
      ],
      "metadata": {
        "colab": {
          "base_uri": "https://localhost:8080/"
        },
        "id": "U0vf1JP01ugl",
        "outputId": "9cfc1d17-0b9f-4dad-f49e-18cf42d7ff9e"
      },
      "execution_count": 22,
      "outputs": [
        {
          "output_type": "stream",
          "name": "stdout",
          "text": [
            "Loaded 482 SMILES strings from zinc_sample.txt.\n",
            "Filtered out 0 invalid SMILES. 482 valid SMILES remain.\n",
            "Created vocabulary with 10 tokens.\n",
            "Vocabulary: {'C': 0, '1': 1, '=': 2, '(': 3, 'O': 4, ')': 5, '2': 6, '3': 7, '#': 8, '<PAD>': 9}\n",
            "Maximum SMILES length: 62\n"
          ]
        }
      ]
    },
    {
      "cell_type": "code",
      "source": [
        "# %%\n",
        "# Visualize the distribution of SMILES string lengths.\n",
        "smiles_lengths = [len(smi) for smi in smiles_list]\n",
        "plt.figure(figsize=(10, 6))\n",
        "plt.hist(smiles_lengths, bins=range(0, max(smiles_lengths) + 2, 1), color='skyblue', edgecolor='black')\n",
        "plt.title(\"Distribution of SMILES String Lengths\")\n",
        "plt.xlabel(\"Length\")\n",
        "plt.ylabel(\"Frequency\")\n",
        "plt.show()\n",
        "\n",
        "# %% [markdown]\n",
        "# ## 2. Create a Custom PyTorch Dataset\n",
        "#\n",
        "# We now create a custom PyTorch Dataset that:\n",
        "# - Tokenizes the SMILES strings.\n",
        "# - Pads them to a fixed maximum length.\n",
        "# - Converts them to tensors for model training.\n",
        "#\n",
        "# We then load the dataset using a DataLoader for batch processing.\n"
      ],
      "metadata": {
        "colab": {
          "base_uri": "https://localhost:8080/",
          "height": 452
        },
        "id": "usC0mFY01ueE",
        "outputId": "188520cf-1cf0-4b55-f4fd-c053363db80f"
      },
      "execution_count": 23,
      "outputs": [
        {
          "output_type": "display_data",
          "data": {
            "text/plain": [
              "<Figure size 1000x600 with 1 Axes>"
            ],
            "image/png": "[encoded data removed]"
          },
          "metadata": {}
        }
      ]
    },
    {
      "cell_type": "code",
      "source": [],
      "metadata": {
        "id": "MOUTSOsI4Ev9"
      },
      "execution_count": 23,
      "outputs": []
    },
    {
      "cell_type": "code",
      "source": [
        "# %%\n",
        "from torch.utils.data import Dataset, DataLoader\n",
        "\n",
        "class SmilesDataset(Dataset):\n",
        "    def __init__(self, smiles_list: List[str], vocab: Dict[str, int], max_length: int):\n",
        "        self.vocab = vocab\n",
        "        self.max_length = max_length\n",
        "        self.pad_value = vocab[\"<PAD>\"]\n",
        "        self.smiles_list = smiles_list\n",
        "        # Tokenize and pad all SMILES strings.\n",
        "        self.tokenized_data = [pad_sequence(tokenize_smiles(smi, vocab), max_length, self.pad_value)\n",
        "                               for smi in smiles_list]\n",
        "\n",
        "    def __len__(self):\n",
        "        return len(self.tokenized_data)\n",
        "\n",
        "    def __getitem__(self, idx):\n",
        "        sample = self.tokenized_data[idx]\n",
        "        return torch.tensor(sample, dtype=torch.long)\n"
      ],
      "metadata": {
        "id": "IhoAZyRz1ubt"
      },
      "execution_count": 24,
      "outputs": []
    },
    {
      "cell_type": "code",
      "source": [
        "# %%\n",
        "# Create the dataset and DataLoader.\n",
        "batch_size = 64\n",
        "dataset = SmilesDataset(smiles_list, vocab, max_length)\n",
        "data_loader = DataLoader(dataset, batch_size=batch_size, shuffle=True, drop_last=True)\n",
        "print(\"DataLoader created with batch size:\", batch_size)\n",
        "\n",
        "# %% [markdown]\n",
        "# ## 3. GAN Architecture: Generator and Discriminator\n",
        "#\n",
        "# We now define our GAN models:\n",
        "#\n",
        "# - **Generator:**\n",
        "#   Takes a latent noise vector and maps it through a fully connected layer and an LSTM to produce a sequence of logits over the vocabulary. We then apply the Gumbel-Softmax trick to obtain a one-hot style output that represents a SMILES string.\n",
        "#\n",
        "# - **Discriminator:**\n",
        "#   Converts one-hot encoded SMILES sequences into dense embeddings and uses a bidirectional LSTM to extract sequence features. The final linear layer outputs a probability that the input sequence is real.\n",
        "#\n"
      ],
      "metadata": {
        "colab": {
          "base_uri": "https://localhost:8080/"
        },
        "id": "XZXA9S4X1uYt",
        "outputId": "dda73c1b-acec-47cf-dde8-33a7ff2929ba"
      },
      "execution_count": 25,
      "outputs": [
        {
          "output_type": "stream",
          "name": "stdout",
          "text": [
            "DataLoader created with batch size: 64\n"
          ]
        }
      ]
    },
    {
      "cell_type": "code",
      "source": [
        "# %%\n",
        "class Generator(nn.Module):\n",
        "    def __init__(self, latent_dim: int, hidden_dim: int, seq_length: int, vocab_size: int, temperature: float = 0.8):\n",
        "        super(Generator, self).__init__()\n",
        "        self.latent_dim = latent_dim\n",
        "        self.hidden_dim = hidden_dim\n",
        "        self.seq_length = seq_length\n",
        "        self.vocab_size = vocab_size\n",
        "        self.temperature = temperature\n",
        "\n",
        "        # Project the latent vector to a sequence of hidden states.\n",
        "        self.fc = nn.Linear(latent_dim, hidden_dim * seq_length)\n",
        "        # LSTM for sequential modeling.\n",
        "        self.lstm = nn.LSTM(input_size=hidden_dim, hidden_size=hidden_dim, num_layers=2, batch_first=True)\n",
        "        # Final projection to vocabulary logits.\n",
        "        self.fc_out = nn.Linear(hidden_dim, vocab_size)\n",
        "\n",
        "    def forward(self, z: torch.Tensor) -> torch.Tensor:\n",
        "        batch_size = z.size(0)\n",
        "        x = self.fc(z)\n",
        "        x = x.view(batch_size, self.seq_length, self.hidden_dim)\n",
        "        lstm_out, _ = self.lstm(x)\n",
        "        logits = self.fc_out(lstm_out)\n",
        "        # Apply Gumbel-Softmax to sample differentiably from the logits.\n",
        "        gumbel_output = F.gumbel_softmax(logits, tau=self.temperature, hard=True, dim=-1)\n",
        "        return gumbel_output\n",
        "\n",
        "class Discriminator(nn.Module):\n",
        "    def __init__(self, vocab_size: int, embed_dim: int, hidden_dim: int, seq_length: int):\n",
        "        super(Discriminator, self).__init__()\n",
        "        self.vocab_size = vocab_size\n",
        "        self.embed_dim = embed_dim\n",
        "        self.hidden_dim = hidden_dim\n",
        "        self.seq_length = seq_length\n",
        "\n",
        "        # Linear layer to convert one-hot vectors to embeddings.\n",
        "        self.embedding = nn.Linear(vocab_size, embed_dim)\n",
        "        # Bidirectional LSTM for extracting sequential features.\n",
        "        self.lstm = nn.LSTM(input_size=embed_dim, hidden_size=hidden_dim, num_layers=2,\n",
        "                            batch_first=True, bidirectional=True)\n",
        "        # Final fully connected layer for classification.\n",
        "        self.fc = nn.Linear(hidden_dim * 2, 1)\n",
        "\n",
        "    def forward(self, x: torch.Tensor) -> torch.Tensor:\n",
        "        x_embed = self.embedding(x)\n",
        "        lstm_out, _ = self.lstm(x_embed)\n",
        "        lstm_last = torch.mean(lstm_out, dim=1)  # Use average pooling over time steps.\n",
        "        logits = self.fc(lstm_last)\n",
        "        prob = torch.sigmoid(logits)\n",
        "        return prob\n"
      ],
      "metadata": {
        "id": "_Dtrl7Xg18Vt"
      },
      "execution_count": 26,
      "outputs": []
    },
    {
      "cell_type": "code",
      "source": [
        "# %%\n",
        "# Set hyperparameters for our models.\n",
        "latent_dim = 100\n",
        "gen_hidden_dim = 256\n",
        "disc_hidden_dim = 256\n",
        "embed_dim = 128\n",
        "temperature = 0.8\n",
        "vocab_size = len(vocab)\n",
        "seq_length = max_length\n",
        "\n",
        "# Initialize the Generator and Discriminator.\n",
        "generator = Generator(latent_dim, gen_hidden_dim, seq_length, vocab_size, temperature).to(device)\n",
        "# For ease of use in training, add vocab_size as an attribute.\n",
        "generator.vocab_size = vocab_size\n",
        "discriminator = Discriminator(vocab_size, embed_dim, disc_hidden_dim, seq_length).to(device)\n",
        "\n",
        "print(\"Generator and Discriminator have been initialized.\")\n",
        "\n",
        "# %% [markdown]\n",
        "# ## 4. Training the GAN\n",
        "#\n",
        "# In this section, we train the GAN using an adversarial training loop.\n",
        "#\n",
        "# **Training Details:**\n",
        "#\n",
        "# - **Discriminator Training:**\n",
        "#   The discriminator is trained on both real SMILES (converted to one-hot encoding) and fake SMILES generated by the Generator. Binary cross entropy loss is used.\n",
        "#\n",
        "# - **Generator Training:**\n",
        "#   The generator is trained to fool the discriminator, so we train it with the goal of getting the discriminator to predict \"real\" for its generated samples.\n",
        "#\n",
        "# The losses for both models are printed and stored for later visualization.\n"
      ],
      "metadata": {
        "colab": {
          "base_uri": "https://localhost:8080/"
        },
        "id": "icGqywlu18S0",
        "outputId": "973e51e9-e1c2-4f70-8f24-3a4858cee755"
      },
      "execution_count": 27,
      "outputs": [
        {
          "output_type": "stream",
          "name": "stdout",
          "text": [
            "Generator and Discriminator have been initialized.\n"
          ]
        }
      ]
    },
    {
      "cell_type": "code",
      "source": [
        "# %%\n",
        "def train_gan(generator: nn.Module,\n",
        "              discriminator: nn.Module,\n",
        "              data_loader: DataLoader,\n",
        "              latent_dim: int,\n",
        "              num_epochs: int,\n",
        "              device: torch.device,\n",
        "              lr: float = 0.0002) -> Dict[str, List[float]]:\n",
        "    \"\"\"\n",
        "    Trains the GAN using adversarial training.\n",
        "    \"\"\"\n",
        "    # Loss function and optimizers.\n",
        "    criterion = nn.BCELoss()\n",
        "    optimizer_G = torch.optim.Adam(generator.parameters(), lr=lr, betas=(0.5, 0.999))\n",
        "    optimizer_D = torch.optim.Adam(discriminator.parameters(), lr=lr, betas=(0.5, 0.999))\n",
        "\n",
        "    loss_history = {\"G\": [], \"D\": []}\n",
        "\n",
        "    generator.train()\n",
        "    discriminator.train()\n",
        "\n",
        "    for epoch in range(num_epochs):\n",
        "        epoch_loss_G = 0.0\n",
        "        epoch_loss_D = 0.0\n",
        "\n",
        "        for real_sequences in tqdm(data_loader, desc=f\"Epoch {epoch+1}/{num_epochs}\"):\n",
        "            batch_size = real_sequences.size(0)\n",
        "            real_sequences = real_sequences.to(device)\n",
        "\n",
        "            # Convert real sequences (indices) to one-hot encoding.\n",
        "            real_onehot = F.one_hot(real_sequences, num_classes=vocab_size).float().to(device)\n",
        "\n",
        "            # Create labels.\n",
        "            real_labels = torch.ones(batch_size, 1, device=device)\n",
        "            fake_labels = torch.zeros(batch_size, 1, device=device)\n",
        "\n",
        "            # ---------------------------\n",
        "            # Train the Discriminator\n",
        "            # ---------------------------\n",
        "            optimizer_D.zero_grad()\n",
        "            output_real = discriminator(real_onehot)\n",
        "            loss_real = criterion(output_real, real_labels)\n",
        "\n",
        "            # Generate fake samples.\n",
        "            z = torch.randn(batch_size, latent_dim, device=device)\n",
        "            fake_onehot = generator(z)\n",
        "            output_fake = discriminator(fake_onehot.detach())\n",
        "            loss_fake = criterion(output_fake, fake_labels)\n",
        "\n",
        "            loss_D = loss_real + loss_fake\n",
        "            loss_D.backward()\n",
        "            optimizer_D.step()\n",
        "\n",
        "            # ---------------------------\n",
        "            # Train the Generator\n",
        "            # ---------------------------\n",
        "            optimizer_G.zero_grad()\n",
        "            output_fake_for_G = discriminator(fake_onehot)\n",
        "            loss_G = criterion(output_fake_for_G, real_labels)\n",
        "            loss_G.backward()\n",
        "            optimizer_G.step()\n",
        "\n",
        "            epoch_loss_D += loss_D.item()\n",
        "            epoch_loss_G += loss_G.item()\n",
        "\n",
        "        avg_loss_D = epoch_loss_D / len(data_loader)\n",
        "        avg_loss_G = epoch_loss_G / len(data_loader)\n",
        "        loss_history[\"D\"].append(avg_loss_D)\n",
        "        loss_history[\"G\"].append(avg_loss_G)\n",
        "        print(f\"Epoch {epoch+1}/{num_epochs} - Loss_D: {avg_loss_D:.4f}, Loss_G: {avg_loss_G:.4f}\")\n",
        "\n",
        "    return loss_history\n"
      ],
      "metadata": {
        "id": "H4DsZNp018NV"
      },
      "execution_count": 28,
      "outputs": []
    },
    {
      "cell_type": "code",
      "source": [
        "# %%\n",
        "# Set the number of epochs and start training.\n",
        "num_epochs = 50\n",
        "print(\"Starting GAN training...\")\n",
        "loss_history = train_gan(generator, discriminator, data_loader, latent_dim, num_epochs, device, lr=0.0002)\n",
        "print(\"Training complete.\")\n"
      ],
      "metadata": {
        "colab": {
          "base_uri": "https://localhost:8080/"
        },
        "id": "b_ePw2wZ2Exk",
        "outputId": "9cac2895-2181-4264-8b76-f3881205488d"
      },
      "execution_count": 35,
      "outputs": [
        {
          "output_type": "stream",
          "name": "stdout",
          "text": [
            "Starting GAN training...\n"
          ]
        },
        {
          "output_type": "stream",
          "name": "stderr",
          "text": [
            "Epoch 1/50: 100%|██████████| 7/7 [00:39<00:00,  5.61s/it]\n"
          ]
        },
        {
          "output_type": "stream",
          "name": "stdout",
          "text": [
            "Epoch 1/50 - Loss_D: 1.0325, Loss_G: 1.5342\n"
          ]
        },
        {
          "output_type": "stream",
          "name": "stderr",
          "text": [
            "Epoch 2/50: 100%|██████████| 7/7 [00:38<00:00,  5.54s/it]\n"
          ]
        },
        {
          "output_type": "stream",
          "name": "stdout",
          "text": [
            "Epoch 2/50 - Loss_D: 0.6443, Loss_G: 1.5820\n"
          ]
        },
        {
          "output_type": "stream",
          "name": "stderr",
          "text": [
            "Epoch 3/50: 100%|██████████| 7/7 [00:38<00:00,  5.46s/it]\n"
          ]
        },
        {
          "output_type": "stream",
          "name": "stdout",
          "text": [
            "Epoch 3/50 - Loss_D: 0.6309, Loss_G: 1.7064\n"
          ]
        },
        {
          "output_type": "stream",
          "name": "stderr",
          "text": [
            "Epoch 4/50: 100%|██████████| 7/7 [00:38<00:00,  5.55s/it]\n"
          ]
        },
        {
          "output_type": "stream",
          "name": "stdout",
          "text": [
            "Epoch 4/50 - Loss_D: 0.4745, Loss_G: 1.9398\n"
          ]
        },
        {
          "output_type": "stream",
          "name": "stderr",
          "text": [
            "Epoch 5/50: 100%|██████████| 7/7 [00:38<00:00,  5.48s/it]\n"
          ]
        },
        {
          "output_type": "stream",
          "name": "stdout",
          "text": [
            "Epoch 5/50 - Loss_D: 0.4515, Loss_G: 2.2541\n"
          ]
        },
        {
          "output_type": "stream",
          "name": "stderr",
          "text": [
            "Epoch 6/50: 100%|██████████| 7/7 [00:38<00:00,  5.43s/it]\n"
          ]
        },
        {
          "output_type": "stream",
          "name": "stdout",
          "text": [
            "Epoch 6/50 - Loss_D: 0.5160, Loss_G: 2.2076\n"
          ]
        },
        {
          "output_type": "stream",
          "name": "stderr",
          "text": [
            "Epoch 7/50: 100%|██████████| 7/7 [00:38<00:00,  5.44s/it]\n"
          ]
        },
        {
          "output_type": "stream",
          "name": "stdout",
          "text": [
            "Epoch 7/50 - Loss_D: 0.7102, Loss_G: 2.0073\n"
          ]
        },
        {
          "output_type": "stream",
          "name": "stderr",
          "text": [
            "Epoch 8/50: 100%|██████████| 7/7 [00:38<00:00,  5.46s/it]\n"
          ]
        },
        {
          "output_type": "stream",
          "name": "stdout",
          "text": [
            "Epoch 8/50 - Loss_D: 0.7299, Loss_G: 1.9907\n"
          ]
        },
        {
          "output_type": "stream",
          "name": "stderr",
          "text": [
            "Epoch 9/50: 100%|██████████| 7/7 [00:38<00:00,  5.48s/it]\n"
          ]
        },
        {
          "output_type": "stream",
          "name": "stdout",
          "text": [
            "Epoch 9/50 - Loss_D: 0.3384, Loss_G: 2.1655\n"
          ]
        },
        {
          "output_type": "stream",
          "name": "stderr",
          "text": [
            "Epoch 10/50: 100%|██████████| 7/7 [00:40<00:00,  5.75s/it]\n"
          ]
        },
        {
          "output_type": "stream",
          "name": "stdout",
          "text": [
            "Epoch 10/50 - Loss_D: 0.1619, Loss_G: 2.7661\n"
          ]
        },
        {
          "output_type": "stream",
          "name": "stderr",
          "text": [
            "Epoch 11/50: 100%|██████████| 7/7 [00:40<00:00,  5.78s/it]\n"
          ]
        },
        {
          "output_type": "stream",
          "name": "stdout",
          "text": [
            "Epoch 11/50 - Loss_D: 0.0813, Loss_G: 3.2380\n"
          ]
        },
        {
          "output_type": "stream",
          "name": "stderr",
          "text": [
            "Epoch 12/50: 100%|██████████| 7/7 [00:40<00:00,  5.75s/it]\n"
          ]
        },
        {
          "output_type": "stream",
          "name": "stdout",
          "text": [
            "Epoch 12/50 - Loss_D: 0.0411, Loss_G: 3.9228\n"
          ]
        },
        {
          "output_type": "stream",
          "name": "stderr",
          "text": [
            "Epoch 13/50: 100%|██████████| 7/7 [00:39<00:00,  5.58s/it]\n"
          ]
        },
        {
          "output_type": "stream",
          "name": "stdout",
          "text": [
            "Epoch 13/50 - Loss_D: 0.0267, Loss_G: 4.5419\n"
          ]
        },
        {
          "output_type": "stream",
          "name": "stderr",
          "text": [
            "Epoch 14/50: 100%|██████████| 7/7 [00:38<00:00,  5.46s/it]\n"
          ]
        },
        {
          "output_type": "stream",
          "name": "stdout",
          "text": [
            "Epoch 14/50 - Loss_D: 0.0218, Loss_G: 4.8218\n"
          ]
        },
        {
          "output_type": "stream",
          "name": "stderr",
          "text": [
            "Epoch 15/50: 100%|██████████| 7/7 [00:38<00:00,  5.44s/it]\n"
          ]
        },
        {
          "output_type": "stream",
          "name": "stdout",
          "text": [
            "Epoch 15/50 - Loss_D: 0.0202, Loss_G: 4.9788\n"
          ]
        },
        {
          "output_type": "stream",
          "name": "stderr",
          "text": [
            "Epoch 16/50: 100%|██████████| 7/7 [00:38<00:00,  5.49s/it]\n"
          ]
        },
        {
          "output_type": "stream",
          "name": "stdout",
          "text": [
            "Epoch 16/50 - Loss_D: 0.0195, Loss_G: 5.1006\n"
          ]
        },
        {
          "output_type": "stream",
          "name": "stderr",
          "text": [
            "Epoch 17/50: 100%|██████████| 7/7 [00:38<00:00,  5.44s/it]\n"
          ]
        },
        {
          "output_type": "stream",
          "name": "stdout",
          "text": [
            "Epoch 17/50 - Loss_D: 0.0188, Loss_G: 5.1823\n"
          ]
        },
        {
          "output_type": "stream",
          "name": "stderr",
          "text": [
            "Epoch 18/50: 100%|██████████| 7/7 [00:38<00:00,  5.44s/it]\n"
          ]
        },
        {
          "output_type": "stream",
          "name": "stdout",
          "text": [
            "Epoch 18/50 - Loss_D: 0.0178, Loss_G: 5.2963\n"
          ]
        },
        {
          "output_type": "stream",
          "name": "stderr",
          "text": [
            "Epoch 19/50: 100%|██████████| 7/7 [00:39<00:00,  5.58s/it]\n"
          ]
        },
        {
          "output_type": "stream",
          "name": "stdout",
          "text": [
            "Epoch 19/50 - Loss_D: 0.0181, Loss_G: 5.3874\n"
          ]
        },
        {
          "output_type": "stream",
          "name": "stderr",
          "text": [
            "Epoch 20/50: 100%|██████████| 7/7 [00:39<00:00,  5.63s/it]\n"
          ]
        },
        {
          "output_type": "stream",
          "name": "stdout",
          "text": [
            "Epoch 20/50 - Loss_D: 0.0178, Loss_G: 5.4995\n"
          ]
        },
        {
          "output_type": "stream",
          "name": "stderr",
          "text": [
            "Epoch 21/50: 100%|██████████| 7/7 [00:39<00:00,  5.65s/it]\n"
          ]
        },
        {
          "output_type": "stream",
          "name": "stdout",
          "text": [
            "Epoch 21/50 - Loss_D: 0.0176, Loss_G: 5.5619\n"
          ]
        },
        {
          "output_type": "stream",
          "name": "stderr",
          "text": [
            "Epoch 22/50: 100%|██████████| 7/7 [00:38<00:00,  5.55s/it]\n"
          ]
        },
        {
          "output_type": "stream",
          "name": "stdout",
          "text": [
            "Epoch 22/50 - Loss_D: 0.0175, Loss_G: 5.5401\n"
          ]
        },
        {
          "output_type": "stream",
          "name": "stderr",
          "text": [
            "Epoch 23/50: 100%|██████████| 7/7 [00:38<00:00,  5.48s/it]\n"
          ]
        },
        {
          "output_type": "stream",
          "name": "stdout",
          "text": [
            "Epoch 23/50 - Loss_D: 0.0168, Loss_G: 5.6348\n"
          ]
        },
        {
          "output_type": "stream",
          "name": "stderr",
          "text": [
            "Epoch 24/50: 100%|██████████| 7/7 [00:38<00:00,  5.44s/it]\n"
          ]
        },
        {
          "output_type": "stream",
          "name": "stdout",
          "text": [
            "Epoch 24/50 - Loss_D: 0.0172, Loss_G: 5.6843\n"
          ]
        },
        {
          "output_type": "stream",
          "name": "stderr",
          "text": [
            "Epoch 25/50: 100%|██████████| 7/7 [00:37<00:00,  5.43s/it]\n"
          ]
        },
        {
          "output_type": "stream",
          "name": "stdout",
          "text": [
            "Epoch 25/50 - Loss_D: 0.0170, Loss_G: 5.7287\n"
          ]
        },
        {
          "output_type": "stream",
          "name": "stderr",
          "text": [
            "Epoch 26/50: 100%|██████████| 7/7 [00:38<00:00,  5.57s/it]\n"
          ]
        },
        {
          "output_type": "stream",
          "name": "stdout",
          "text": [
            "Epoch 26/50 - Loss_D: 0.0169, Loss_G: 5.8401\n"
          ]
        },
        {
          "output_type": "stream",
          "name": "stderr",
          "text": [
            "Epoch 27/50: 100%|██████████| 7/7 [00:39<00:00,  5.63s/it]\n"
          ]
        },
        {
          "output_type": "stream",
          "name": "stdout",
          "text": [
            "Epoch 27/50 - Loss_D: 0.0168, Loss_G: 5.8587\n"
          ]
        },
        {
          "output_type": "stream",
          "name": "stderr",
          "text": [
            "Epoch 28/50: 100%|██████████| 7/7 [00:39<00:00,  5.64s/it]\n"
          ]
        },
        {
          "output_type": "stream",
          "name": "stdout",
          "text": [
            "Epoch 28/50 - Loss_D: 0.0167, Loss_G: 5.7811\n"
          ]
        },
        {
          "output_type": "stream",
          "name": "stderr",
          "text": [
            "Epoch 29/50: 100%|██████████| 7/7 [00:39<00:00,  5.61s/it]\n"
          ]
        },
        {
          "output_type": "stream",
          "name": "stdout",
          "text": [
            "Epoch 29/50 - Loss_D: 0.0167, Loss_G: 5.9332\n"
          ]
        },
        {
          "output_type": "stream",
          "name": "stderr",
          "text": [
            "Epoch 30/50: 100%|██████████| 7/7 [00:38<00:00,  5.54s/it]\n"
          ]
        },
        {
          "output_type": "stream",
          "name": "stdout",
          "text": [
            "Epoch 30/50 - Loss_D: 0.0166, Loss_G: 5.8295\n"
          ]
        },
        {
          "output_type": "stream",
          "name": "stderr",
          "text": [
            "Epoch 31/50: 100%|██████████| 7/7 [00:37<00:00,  5.41s/it]\n"
          ]
        },
        {
          "output_type": "stream",
          "name": "stdout",
          "text": [
            "Epoch 31/50 - Loss_D: 0.0165, Loss_G: 5.9595\n"
          ]
        },
        {
          "output_type": "stream",
          "name": "stderr",
          "text": [
            "Epoch 32/50: 100%|██████████| 7/7 [00:37<00:00,  5.41s/it]\n"
          ]
        },
        {
          "output_type": "stream",
          "name": "stdout",
          "text": [
            "Epoch 32/50 - Loss_D: 0.0165, Loss_G: 5.8829\n"
          ]
        },
        {
          "output_type": "stream",
          "name": "stderr",
          "text": [
            "Epoch 33/50: 100%|██████████| 7/7 [00:37<00:00,  5.41s/it]\n"
          ]
        },
        {
          "output_type": "stream",
          "name": "stdout",
          "text": [
            "Epoch 33/50 - Loss_D: 0.0165, Loss_G: 6.0247\n"
          ]
        },
        {
          "output_type": "stream",
          "name": "stderr",
          "text": [
            "Epoch 34/50: 100%|██████████| 7/7 [00:37<00:00,  5.41s/it]\n"
          ]
        },
        {
          "output_type": "stream",
          "name": "stdout",
          "text": [
            "Epoch 34/50 - Loss_D: 0.0164, Loss_G: 5.9159\n"
          ]
        },
        {
          "output_type": "stream",
          "name": "stderr",
          "text": [
            "Epoch 35/50: 100%|██████████| 7/7 [00:38<00:00,  5.44s/it]\n"
          ]
        },
        {
          "output_type": "stream",
          "name": "stdout",
          "text": [
            "Epoch 35/50 - Loss_D: 0.0163, Loss_G: 5.9078\n"
          ]
        },
        {
          "output_type": "stream",
          "name": "stderr",
          "text": [
            "Epoch 36/50: 100%|██████████| 7/7 [00:38<00:00,  5.43s/it]\n"
          ]
        },
        {
          "output_type": "stream",
          "name": "stdout",
          "text": [
            "Epoch 36/50 - Loss_D: 0.0163, Loss_G: 5.9377\n"
          ]
        },
        {
          "output_type": "stream",
          "name": "stderr",
          "text": [
            "Epoch 37/50: 100%|██████████| 7/7 [00:37<00:00,  5.42s/it]\n"
          ]
        },
        {
          "output_type": "stream",
          "name": "stdout",
          "text": [
            "Epoch 37/50 - Loss_D: 0.0163, Loss_G: 6.1184\n"
          ]
        },
        {
          "output_type": "stream",
          "name": "stderr",
          "text": [
            "Epoch 38/50: 100%|██████████| 7/7 [00:38<00:00,  5.43s/it]\n"
          ]
        },
        {
          "output_type": "stream",
          "name": "stdout",
          "text": [
            "Epoch 38/50 - Loss_D: 0.0162, Loss_G: 6.0104\n"
          ]
        },
        {
          "output_type": "stream",
          "name": "stderr",
          "text": [
            "Epoch 39/50: 100%|██████████| 7/7 [00:38<00:00,  5.45s/it]\n"
          ]
        },
        {
          "output_type": "stream",
          "name": "stdout",
          "text": [
            "Epoch 39/50 - Loss_D: 0.0162, Loss_G: 6.0350\n"
          ]
        },
        {
          "output_type": "stream",
          "name": "stderr",
          "text": [
            "Epoch 40/50: 100%|██████████| 7/7 [00:38<00:00,  5.43s/it]\n"
          ]
        },
        {
          "output_type": "stream",
          "name": "stdout",
          "text": [
            "Epoch 40/50 - Loss_D: 0.0162, Loss_G: 6.1130\n"
          ]
        },
        {
          "output_type": "stream",
          "name": "stderr",
          "text": [
            "Epoch 41/50: 100%|██████████| 7/7 [00:37<00:00,  5.40s/it]\n"
          ]
        },
        {
          "output_type": "stream",
          "name": "stdout",
          "text": [
            "Epoch 41/50 - Loss_D: 0.0161, Loss_G: 6.0860\n"
          ]
        },
        {
          "output_type": "stream",
          "name": "stderr",
          "text": [
            "Epoch 42/50: 100%|██████████| 7/7 [00:37<00:00,  5.42s/it]\n"
          ]
        },
        {
          "output_type": "stream",
          "name": "stdout",
          "text": [
            "Epoch 42/50 - Loss_D: 0.0163, Loss_G: 5.8749\n"
          ]
        },
        {
          "output_type": "stream",
          "name": "stderr",
          "text": [
            "Epoch 43/50: 100%|██████████| 7/7 [00:37<00:00,  5.41s/it]\n"
          ]
        },
        {
          "output_type": "stream",
          "name": "stdout",
          "text": [
            "Epoch 43/50 - Loss_D: 0.0165, Loss_G: 5.8964\n"
          ]
        },
        {
          "output_type": "stream",
          "name": "stderr",
          "text": [
            "Epoch 44/50: 100%|██████████| 7/7 [00:37<00:00,  5.40s/it]\n"
          ]
        },
        {
          "output_type": "stream",
          "name": "stdout",
          "text": [
            "Epoch 44/50 - Loss_D: 0.0174, Loss_G: 5.5868\n"
          ]
        },
        {
          "output_type": "stream",
          "name": "stderr",
          "text": [
            "Epoch 45/50: 100%|██████████| 7/7 [00:37<00:00,  5.43s/it]\n"
          ]
        },
        {
          "output_type": "stream",
          "name": "stdout",
          "text": [
            "Epoch 45/50 - Loss_D: 0.0172, Loss_G: 5.7540\n"
          ]
        },
        {
          "output_type": "stream",
          "name": "stderr",
          "text": [
            "Epoch 46/50: 100%|██████████| 7/7 [00:37<00:00,  5.42s/it]\n"
          ]
        },
        {
          "output_type": "stream",
          "name": "stdout",
          "text": [
            "Epoch 46/50 - Loss_D: 0.0170, Loss_G: 5.8749\n"
          ]
        },
        {
          "output_type": "stream",
          "name": "stderr",
          "text": [
            "Epoch 47/50: 100%|██████████| 7/7 [00:37<00:00,  5.40s/it]\n"
          ]
        },
        {
          "output_type": "stream",
          "name": "stdout",
          "text": [
            "Epoch 47/50 - Loss_D: 0.0170, Loss_G: 6.1640\n"
          ]
        },
        {
          "output_type": "stream",
          "name": "stderr",
          "text": [
            "Epoch 48/50: 100%|██████████| 7/7 [00:38<00:00,  5.45s/it]\n"
          ]
        },
        {
          "output_type": "stream",
          "name": "stdout",
          "text": [
            "Epoch 48/50 - Loss_D: 0.0022, Loss_G: 6.1848\n"
          ]
        },
        {
          "output_type": "stream",
          "name": "stderr",
          "text": [
            "Epoch 49/50: 100%|██████████| 7/7 [00:37<00:00,  5.43s/it]\n"
          ]
        },
        {
          "output_type": "stream",
          "name": "stdout",
          "text": [
            "Epoch 49/50 - Loss_D: 0.0169, Loss_G: 6.2168\n"
          ]
        },
        {
          "output_type": "stream",
          "name": "stderr",
          "text": [
            "Epoch 50/50: 100%|██████████| 7/7 [00:37<00:00,  5.41s/it]"
          ]
        },
        {
          "output_type": "stream",
          "name": "stdout",
          "text": [
            "Epoch 50/50 - Loss_D: 0.0169, Loss_G: 6.1804\n",
            "Training complete.\n"
          ]
        },
        {
          "output_type": "stream",
          "name": "stderr",
          "text": [
            "\n"
          ]
        }
      ]
    },
    {
      "cell_type": "code",
      "source": [
        "# %%\n",
        "# Plot the training loss history.\n",
        "plt.figure(figsize=(10, 5))\n",
        "plt.plot(loss_history[\"D\"], label=\"Discriminator Loss\", marker='o')\n",
        "plt.plot(loss_history[\"G\"], label=\"Generator Loss\", marker='o')\n",
        "plt.title(\"Training Loss History\")\n",
        "plt.xlabel(\"Epoch\")\n",
        "plt.ylabel(\"Loss\")\n",
        "plt.legend()\n",
        "plt.grid(True)\n",
        "plt.show()\n"
      ],
      "metadata": {
        "colab": {
          "base_uri": "https://localhost:8080/",
          "height": 215
        },
        "id": "6YFlLFji2EhE",
        "outputId": "a4f1d652-17a5-4132-dc10-5fe896e6d3d9"
      },
      "execution_count": 1,
      "outputs": [
        {
          "output_type": "error",
          "ename": "NameError",
          "evalue": "name 'plt' is not defined",
          "traceback": [
            "\u001b[0;31m---------------------------------------------------------------------------\u001b[0m",
            "\u001b[0;31mNameError\u001b[0m                                 Traceback (most recent call last)",
            "\u001b[0;32m<ipython-input-1-ed1219f434ab>\u001b[0m in \u001b[0;36m<cell line: 0>\u001b[0;34m()\u001b[0m\n\u001b[1;32m      1\u001b[0m \u001b[0;31m# %%\u001b[0m\u001b[0;34m\u001b[0m\u001b[0;34m\u001b[0m\u001b[0m\n\u001b[1;32m      2\u001b[0m \u001b[0;31m# Plot the training loss history.\u001b[0m\u001b[0;34m\u001b[0m\u001b[0;34m\u001b[0m\u001b[0m\n\u001b[0;32m----> 3\u001b[0;31m \u001b[0mplt\u001b[0m\u001b[0;34m.\u001b[0m\u001b[0mfigure\u001b[0m\u001b[0;34m(\u001b[0m\u001b[0mfigsize\u001b[0m\u001b[0;34m=\u001b[0m\u001b[0;34m(\u001b[0m\u001b[0;36m10\u001b[0m\u001b[0;34m,\u001b[0m \u001b[0;36m5\u001b[0m\u001b[0;34m)\u001b[0m\u001b[0;34m)\u001b[0m\u001b[0;34m\u001b[0m\u001b[0;34m\u001b[0m\u001b[0m\n\u001b[0m\u001b[1;32m      4\u001b[0m \u001b[0mplt\u001b[0m\u001b[0;34m.\u001b[0m\u001b[0mplot\u001b[0m\u001b[0;34m(\u001b[0m\u001b[0mloss_history\u001b[0m\u001b[0;34m[\u001b[0m\u001b[0;34m\"D\"\u001b[0m\u001b[0;34m]\u001b[0m\u001b[0;34m,\u001b[0m \u001b[0mlabel\u001b[0m\u001b[0;34m=\u001b[0m\u001b[0;34m\"Discriminator Loss\"\u001b[0m\u001b[0;34m,\u001b[0m \u001b[0mmarker\u001b[0m\u001b[0;34m=\u001b[0m\u001b[0;34m'o'\u001b[0m\u001b[0;34m)\u001b[0m\u001b[0;34m\u001b[0m\u001b[0;34m\u001b[0m\u001b[0m\n\u001b[1;32m      5\u001b[0m \u001b[0mplt\u001b[0m\u001b[0;34m.\u001b[0m\u001b[0mplot\u001b[0m\u001b[0;34m(\u001b[0m\u001b[0mloss_history\u001b[0m\u001b[0;34m[\u001b[0m\u001b[0;34m\"G\"\u001b[0m\u001b[0;34m]\u001b[0m\u001b[0;34m,\u001b[0m \u001b[0mlabel\u001b[0m\u001b[0;34m=\u001b[0m\u001b[0;34m\"Generator Loss\"\u001b[0m\u001b[0;34m,\u001b[0m \u001b[0mmarker\u001b[0m\u001b[0;34m=\u001b[0m\u001b[0;34m'o'\u001b[0m\u001b[0;34m)\u001b[0m\u001b[0;34m\u001b[0m\u001b[0;34m\u001b[0m\u001b[0m\n",
            "\u001b[0;31mNameError\u001b[0m: name 'plt' is not defined"
          ]
        }
      ]
    },
    {
      "cell_type": "markdown",
      "source": [
        "# %% [markdown]\n",
        "# ## 5. Molecule Generation, Evaluation, and Visualization\n",
        "#\n",
        "# With our trained generator, we now:\n",
        "#\n",
        "# 1. **Generate Molecules:**  \n",
        "#    Use the Generator to produce new one-hot encoded SMILES sequences from random latent vectors.\n",
        "#\n",
        "# 2. **Decode SMILES:**  \n",
        "#    Convert one-hot encoded outputs back into SMILES strings.\n",
        "#\n",
        "# 3. **Validate Molecules:**  \n",
        "#    Use RDKit to check whether the generated SMILES are chemically valid.\n",
        "#\n",
        "# 4. **Visualize Molecules:**  \n",
        "#    Display a grid of valid molecules.\n",
        "#\n",
        "# Let's go through each step.\n"
      ],
      "metadata": {
        "id": "Xd1xRJ352Jnd"
      }
    },
    {
      "cell_type": "code",
      "source": [
        "# %%\n",
        "def onehot_to_smiles(onehot_seq: torch.Tensor, idx_to_char: Dict[int, str]) -> str:\n",
        "    \"\"\"\n",
        "    Converts a one-hot encoded sequence back to a SMILES string.\n",
        "    \"\"\"\n",
        "    # Get the token with the highest probability at each time step.\n",
        "    indices = torch.argmax(onehot_seq, dim=-1).cpu().numpy().tolist()\n",
        "    smiles = \"\".join([idx_to_char[i] for i in indices])\n",
        "    # Remove padding tokens.\n",
        "    smiles = smiles.replace(\"<PAD>\", \"\")\n",
        "    return smiles\n",
        "\n",
        "def generate_molecules(generator: nn.Module,\n",
        "                       latent_dim: int,\n",
        "                       num_samples: int,\n",
        "                       idx_to_char: Dict[int, str],\n",
        "                       device: torch.device) -> List[str]:\n",
        "    \"\"\"\n",
        "    Uses the Generator to produce new SMILES strings.\n",
        "    \"\"\"\n",
        "    generator.eval()\n",
        "    generated_smiles = []\n",
        "    with torch.no_grad():\n",
        "        # Generate latent noise.\n",
        "        z = torch.randn(num_samples, latent_dim, device=device)\n",
        "        fake_sequences = generator(z)\n",
        "        for seq in fake_sequences:\n",
        "            smiles = onehot_to_smiles(seq, idx_to_char)\n",
        "            generated_smiles.append(smiles)\n",
        "    return generated_smiles\n",
        "\n",
        "def validate_smiles(smiles_list: List[str]) -> List[str]:\n",
        "    \"\"\"\n",
        "    Validates generated SMILES by attempting to parse them with RDKit.\n",
        "    \"\"\"\n",
        "    valid_smiles = []\n",
        "    for smi in smiles_list:\n",
        "        mol = Chem.MolFromSmiles(smi)\n",
        "        if mol is not None:\n",
        "            valid_smiles.append(smi)\n",
        "    print(f\"Validated {len(valid_smiles)} out of {len(smiles_list)} generated SMILES.\")\n",
        "    return valid_smiles\n",
        "\n",
        "def plot_molecules(smiles_list: List[str], mols_per_row: int = 5, img_size: tuple = (300, 300)) -> None:\n",
        "    \"\"\"\n",
        "    Plots a grid of valid molecules using RDKit and matplotlib.\n",
        "    \"\"\"\n",
        "    mols = []\n",
        "    for smi in smiles_list:\n",
        "        mol = Chem.MolFromSmiles(smi)\n",
        "        if mol is not None:\n",
        "            mols.append(mol)\n",
        "    if not mols:\n",
        "        print(\"No valid molecules to plot.\")\n",
        "        return\n",
        "\n",
        "    grid_img = Draw.MolsToGridImage(mols, molsPerRow=mols_per_row, subImgSize=img_size)\n",
        "    plt.figure(figsize=(10, 10))\n",
        "    plt.imshow(grid_img)\n",
        "    plt.axis(\"off\")\n",
        "    plt.title(\"Generated Molecules\")\n",
        "    plt.show()\n"
      ],
      "metadata": {
        "id": "mwzhvHfY2Eec"
      },
      "execution_count": null,
      "outputs": []
    },
    {
      "cell_type": "code",
      "source": [
        "# %%\n",
        "# Generate new molecules using the trained generator.\n",
        "num_samples = 100\n",
        "generated_smiles = generate_molecules(generator, latent_dim, num_samples, idx_to_char, device)\n",
        "print(\"Some generated SMILES examples:\")\n",
        "for i, smi in enumerate(generated_smiles[:10]):\n",
        "    print(f\"{i+1}: {smi}\")\n"
      ],
      "metadata": {
        "id": "gSFnW88C2Eb8"
      },
      "execution_count": null,
      "outputs": []
    },
    {
      "cell_type": "code",
      "source": [
        "# %%\n",
        "# Validate the generated SMILES.\n",
        "valid_generated_smiles = validate_smiles(generated_smiles)\n",
        "print(\"Some valid SMILES examples:\")\n",
        "for i, smi in enumerate(valid_generated_smiles[:10]):\n",
        "    print(f\"{i+1}: {smi}\")\n"
      ],
      "metadata": {
        "id": "_8CWBFFH2EZN"
      },
      "execution_count": null,
      "outputs": []
    },
    {
      "cell_type": "code",
      "execution_count": null,
      "metadata": {
        "id": "s0VbBm49cLix"
      },
      "outputs": [],
      "source": [
        "\n",
        "\n",
        "# %%\n",
        "# Plot the grid of valid generated molecules.\n",
        "plot_molecules(valid_generated_smiles, mols_per_row=5, img_size=(200, 200))\n",
        "\n",
        "# %% [markdown]\n",
        "# ## Conclusion\n",
        "#\n",
        "# In this notebook we:\n",
        "#\n",
        "# - Downloaded and preprocessed a SMILES dataset.\n",
        "# - Built a custom PyTorch dataset for molecule generation.\n",
        "# - Defined and trained a GAN (Generator and Discriminator) with detailed monitoring.\n",
        "# - Generated, validated, and visualized new molecules.\n",
        "#\n",
        "# This detailed workflow demonstrates how GANs can be applied to the task of molecule generation using PyTorch. Feel free to adjust hyperparameters, network architectures, or evaluation metrics to explore further improvements.\n",
        "#\n",
        "# Happy molecule generation!\n"
      ]
    }
  ]
}