{
  "nbformat": 4,
  "nbformat_minor": 0,
  "metadata": {
    "colab": {
      "provenance": []
    },
    "kernelspec": {
      "name": "python3",
      "display_name": "Python 3"
    },
    "language_info": {
      "name": "python"
    }
  },
  "cells": [
    {
      "cell_type": "code",
      "source": [
        "!pip install selfies\n",
        "!pip install rdkit-pypi"
      ],
      "metadata": {
        "colab": {
          "base_uri": "https://localhost:8080/"
        },
        "id": "o1kdhswGW5fU",
        "outputId": "36d7d36f-2ad5-424c-80bd-09f90baf7f8d"
      },
      "execution_count": 2,
      "outputs": [
        {
          "output_type": "stream",
          "name": "stdout",
          "text": [
            "Collecting selfies\n",
            "  Downloading selfies-2.2.0-py3-none-any.whl.metadata (14 kB)\n",
            "Downloading selfies-2.2.0-py3-none-any.whl (36 kB)\n",
            "Installing collected packages: selfies\n",
            "Successfully installed selfies-2.2.0\n",
            "Collecting rdkit-pypi\n",
            "  Downloading rdkit_pypi-2022.9.5-cp311-cp311-manylinux_2_17_x86_64.manylinux2014_x86_64.whl.metadata (3.9 kB)\n",
            "Requirement already satisfied: numpy in /usr/local/lib/python3.11/dist-packages (from rdkit-pypi) (1.26.4)\n",
            "Requirement already satisfied: Pillow in /usr/local/lib/python3.11/dist-packages (from rdkit-pypi) (11.1.0)\n",
            "Downloading rdkit_pypi-2022.9.5-cp311-cp311-manylinux_2_17_x86_64.manylinux2014_x86_64.whl (29.4 MB)\n",
            "\u001b[2K   \u001b[90m━━━━━━━━━━━━━━━━━━━━━━━━━━━━━━━━━━━━━━━━\u001b[0m \u001b[32m29.4/29.4 MB\u001b[0m \u001b[31m23.1 MB/s\u001b[0m eta \u001b[36m0:00:00\u001b[0m\n",
            "\u001b[?25hInstalling collected packages: rdkit-pypi\n",
            "Successfully installed rdkit-pypi-2022.9.5\n"
          ]
        }
      ]
    },
    {
      "cell_type": "code",
      "execution_count": 9,
      "metadata": {
        "colab": {
          "base_uri": "https://localhost:8080/",
          "height": 1000
        },
        "id": "yBPBKB6bW2wA",
        "outputId": "02c4f386-955a-4930-90c6-d826626e40d0"
      },
      "outputs": [
        {
          "output_type": "stream",
          "name": "stdout",
          "text": [
            "Loading SELFIES from CSV...\n",
            "Loaded 19996 SELFIES from filtered_dataset.csv.\n",
            "Vocabulary size: 123\n",
            "Starting training...\n"
          ]
        },
        {
          "output_type": "stream",
          "name": "stderr",
          "text": [
            "[17:29:12] Explicit valence for atom # 2 Br, 3, is greater than permitted\n",
            "[17:29:12] Explicit valence for atom # 0 Na, 2, is greater than permitted\n",
            "[17:29:12] Explicit valence for atom # 0 K, 3, is greater than permitted\n",
            "[17:29:12] Explicit valence for atom # 2 K, 3, is greater than permitted\n",
            "[17:29:12] Explicit valence for atom # 6 K, 2, is greater than permitted\n",
            "[17:29:12] Explicit valence for atom # 1 K, 3, is greater than permitted\n",
            "[17:29:12] Explicit valence for atom # 4 Na, 3, is greater than permitted\n",
            "[17:29:12] Explicit valence for atom # 0 Na, 3, is greater than permitted\n",
            "[17:29:12] Explicit valence for atom # 5 K, 4, is greater than permitted\n",
            "[17:29:12] Explicit valence for atom # 12 K, 2, is greater than permitted\n",
            "[17:29:13] Explicit valence for atom # 0 Br, 2, is greater than permitted\n",
            "[17:29:13] Explicit valence for atom # 1 Na, 3, is greater than permitted\n",
            "[17:29:13] Explicit valence for atom # 0 Na, 3, is greater than permitted\n",
            "[17:29:13] Explicit valence for atom # 6 Br, 3, is greater than permitted\n",
            "[17:29:13] Explicit valence for atom # 3 Cl, 3, is greater than permitted\n",
            "[17:29:13] Explicit valence for atom # 1 Na, 2, is greater than permitted\n",
            "[17:29:13] Explicit valence for atom # 3 Br, 3, is greater than permitted\n",
            "[17:29:13] Explicit valence for atom # 4 K, 2, is greater than permitted\n",
            "[17:29:13] Explicit valence for atom # 2 Na, 2, is greater than permitted\n",
            "[17:29:13] Explicit valence for atom # 8 Br, 3, is greater than permitted\n",
            "[17:29:13] Explicit valence for atom # 3 K, 3, is greater than permitted\n",
            "[17:29:13] Explicit valence for atom # 3 Na, 2, is greater than permitted\n",
            "[17:29:13] Explicit valence for atom # 3 K, 2, is greater than permitted\n",
            "[17:29:13] Explicit valence for atom # 2 Na, 3, is greater than permitted\n",
            "[17:29:13] Explicit valence for atom # 17 K, 2, is greater than permitted\n",
            "[17:29:13] Explicit valence for atom # 2 Na, 3, is greater than permitted\n",
            "[17:29:13] Explicit valence for atom # 1 Na, 3, is greater than permitted\n",
            "[17:29:13] Explicit valence for atom # 3 K, 3, is greater than permitted\n",
            "[17:29:13] Explicit valence for atom # 4 Na, 3, is greater than permitted\n",
            "[17:29:13] Explicit valence for atom # 6 Na, 2, is greater than permitted\n",
            "[17:29:13] Explicit valence for atom # 7 Na, 2, is greater than permitted\n",
            "[17:29:13] Explicit valence for atom # 1 K, 3, is greater than permitted\n",
            "[17:29:13] Explicit valence for atom # 2 Cl, 2, is greater than permitted\n",
            "[17:29:13] Explicit valence for atom # 6 K, 3, is greater than permitted\n",
            "[17:29:13] Explicit valence for atom # 4 K, 3, is greater than permitted\n",
            "[17:29:13] Explicit valence for atom # 2 Na, 3, is greater than permitted\n",
            "[17:29:13] Explicit valence for atom # 18 Na, 3, is greater than permitted\n",
            "[17:29:13] Explicit valence for atom # 0 Na, 2, is greater than permitted\n",
            "[17:29:13] Explicit valence for atom # 6 Na, 4, is greater than permitted\n",
            "[17:29:13] Explicit valence for atom # 6 Na, 2, is greater than permitted\n",
            "[17:29:13] Explicit valence for atom # 3 Cl, 3, is greater than permitted\n",
            "[17:29:13] Explicit valence for atom # 0 K, 3, is greater than permitted\n",
            "[17:29:13] Explicit valence for atom # 3 Na, 3, is greater than permitted\n",
            "[17:29:13] Explicit valence for atom # 4 K, 2, is greater than permitted\n",
            "[17:29:13] Explicit valence for atom # 8 Br, 4, is greater than permitted\n",
            "[17:29:13] Explicit valence for atom # 4 Cl, 4, is greater than permitted\n",
            "[17:29:13] Explicit valence for atom # 7 Na, 5, is greater than permitted\n",
            "[17:29:13] Explicit valence for atom # 2 K, 3, is greater than permitted\n",
            "[17:29:13] Explicit valence for atom # 4 Na, 2, is greater than permitted\n",
            "[17:29:13] Explicit valence for atom # 0 Na, 4, is greater than permitted\n",
            "[17:29:13] Explicit valence for atom # 2 Na, 2, is greater than permitted\n",
            "[17:29:13] Explicit valence for atom # 5 K, 3, is greater than permitted\n",
            "[17:29:13] Explicit valence for atom # 12 K, 3, is greater than permitted\n",
            "[17:29:13] Explicit valence for atom # 4 Na, 2, is greater than permitted\n",
            "[17:29:13] Explicit valence for atom # 12 K, 2, is greater than permitted\n",
            "[17:29:13] Explicit valence for atom # 0 K, 3, is greater than permitted\n",
            "[17:29:13] Explicit valence for atom # 2 Na, 3, is greater than permitted\n",
            "[17:29:13] Explicit valence for atom # 6 K, 3, is greater than permitted\n",
            "[17:29:13] Explicit valence for atom # 0 Br, 2, is greater than permitted\n",
            "[17:29:13] Explicit valence for atom # 4 Br, 3, is greater than permitted\n",
            "[17:29:13] Explicit valence for atom # 9 Na, 3, is greater than permitted\n",
            "[17:29:13] Explicit valence for atom # 8 Br, 3, is greater than permitted\n",
            "[17:29:13] Explicit valence for atom # 19 Cl, 3, is greater than permitted\n",
            "[17:29:13] Explicit valence for atom # 4 Na, 2, is greater than permitted\n",
            "[17:29:13] Explicit valence for atom # 1 Br, 3, is greater than permitted\n",
            "[17:29:14] Explicit valence for atom # 2 K, 2, is greater than permitted\n",
            "[17:29:14] Explicit valence for atom # 2 Br, 3, is greater than permitted\n",
            "[17:29:14] Explicit valence for atom # 0 Cl, 2, is greater than permitted\n",
            "[17:29:14] Explicit valence for atom # 3 K, 5, is greater than permitted\n",
            "[17:29:14] Explicit valence for atom # 2 K, 2, is greater than permitted\n",
            "[17:29:14] Explicit valence for atom # 8 Br, 3, is greater than permitted\n",
            "[17:29:14] Explicit valence for atom # 5 Na, 3, is greater than permitted\n",
            "[17:29:14] Explicit valence for atom # 5 Na, 4, is greater than permitted\n",
            "[17:29:14] Explicit valence for atom # 7 K, 3, is greater than permitted\n",
            "[17:29:14] Explicit valence for atom # 3 Na, 3, is greater than permitted\n",
            "[17:29:14] Explicit valence for atom # 9 Na, 2, is greater than permitted\n",
            "[17:29:14] Explicit valence for atom # 0 Cl, 2, is greater than permitted\n",
            "[17:29:14] Explicit valence for atom # 4 Na, 2, is greater than permitted\n",
            "[17:29:14] Explicit valence for atom # 3 Br, 3, is greater than permitted\n",
            "[17:29:14] Explicit valence for atom # 18 Na, 4, is greater than permitted\n",
            "[17:29:14] Explicit valence for atom # 3 Cl, 3, is greater than permitted\n",
            "[17:29:14] Explicit valence for atom # 13 Br, 3, is greater than permitted\n",
            "[17:29:14] Explicit valence for atom # 6 Na, 4, is greater than permitted\n",
            "[17:29:14] Explicit valence for atom # 1 K, 3, is greater than permitted\n",
            "[17:29:14] Explicit valence for atom # 6 K, 4, is greater than permitted\n",
            "[17:29:14] Explicit valence for atom # 0 Na, 2, is greater than permitted\n",
            "[17:29:14] Explicit valence for atom # 6 K, 3, is greater than permitted\n",
            "[17:29:14] Explicit valence for atom # 7 Na, 3, is greater than permitted\n",
            "[17:29:14] Explicit valence for atom # 6 K, 3, is greater than permitted\n",
            "[17:29:14] Explicit valence for atom # 7 Cl, 3, is greater than permitted\n",
            "[17:29:14] Explicit valence for atom # 4 K, 2, is greater than permitted\n",
            "[17:29:14] Explicit valence for atom # 0 Br, 2, is greater than permitted\n",
            "[17:29:14] Explicit valence for atom # 5 K, 2, is greater than permitted\n",
            "[17:29:14] Explicit valence for atom # 2 Na, 3, is greater than permitted\n",
            "[17:29:14] Explicit valence for atom # 6 Cl, 3, is greater than permitted\n",
            "[17:29:14] Explicit valence for atom # 1 Na, 3, is greater than permitted\n",
            "[17:29:14] Explicit valence for atom # 1 Na, 3, is greater than permitted\n",
            "[17:29:14] Explicit valence for atom # 1 K, 3, is greater than permitted\n",
            "[17:29:14] Explicit valence for atom # 4 Na, 2, is greater than permitted\n",
            "[17:29:14] Explicit valence for atom # 2 Br, 3, is greater than permitted\n",
            "[17:29:14] Explicit valence for atom # 0 Na, 2, is greater than permitted\n",
            "[17:29:14] Explicit valence for atom # 6 Br, 2, is greater than permitted\n",
            "[17:29:14] Explicit valence for atom # 1 K, 3, is greater than permitted\n",
            "[17:29:14] Explicit valence for atom # 5 Cl, 4, is greater than permitted\n",
            "[17:29:14] Explicit valence for atom # 3 Br, 3, is greater than permitted\n",
            "[17:29:14] Explicit valence for atom # 6 K, 4, is greater than permitted\n",
            "[17:29:14] Explicit valence for atom # 3 K, 3, is greater than permitted\n",
            "[17:29:14] Explicit valence for atom # 1 Br, 3, is greater than permitted\n",
            "[17:29:14] Explicit valence for atom # 12 Na, 2, is greater than permitted\n",
            "[17:29:14] Explicit valence for atom # 7 K, 3, is greater than permitted\n",
            "[17:29:14] Explicit valence for atom # 1 K, 3, is greater than permitted\n",
            "[17:29:14] Explicit valence for atom # 10 Na, 3, is greater than permitted\n",
            "[17:29:15] Explicit valence for atom # 3 Br, 3, is greater than permitted\n",
            "[17:29:15] Explicit valence for atom # 6 Cl, 2, is greater than permitted\n",
            "[17:29:15] Explicit valence for atom # 11 Na, 2, is greater than permitted\n",
            "[17:29:15] Explicit valence for atom # 5 Na, 3, is greater than permitted\n",
            "[17:29:15] Explicit valence for atom # 2 Br, 3, is greater than permitted\n",
            "[17:29:15] Explicit valence for atom # 5 Na, 3, is greater than permitted\n",
            "[17:29:15] Explicit valence for atom # 8 Br, 4, is greater than permitted\n",
            "[17:29:15] Explicit valence for atom # 4 Na, 3, is greater than permitted\n",
            "[17:29:15] Explicit valence for atom # 5 K, 3, is greater than permitted\n",
            "[17:29:15] Explicit valence for atom # 0 Na, 2, is greater than permitted\n",
            "[17:29:15] Explicit valence for atom # 5 K, 2, is greater than permitted\n",
            "[17:29:15] Explicit valence for atom # 3 K, 3, is greater than permitted\n",
            "[17:29:15] Explicit valence for atom # 6 Na, 3, is greater than permitted\n",
            "[17:29:15] Explicit valence for atom # 2 Na, 2, is greater than permitted\n",
            "[17:29:15] Explicit valence for atom # 8 K, 2, is greater than permitted\n",
            "[17:29:15] Explicit valence for atom # 8 Br, 3, is greater than permitted\n",
            "[17:29:15] Explicit valence for atom # 6 Na, 2, is greater than permitted\n",
            "[17:29:15] Explicit valence for atom # 7 K, 3, is greater than permitted\n",
            "[17:29:15] Explicit valence for atom # 3 Na, 2, is greater than permitted\n",
            "[17:29:15] Explicit valence for atom # 5 K, 3, is greater than permitted\n",
            "[17:29:15] Explicit valence for atom # 0 K, 2, is greater than permitted\n",
            "[17:29:15] Explicit valence for atom # 8 K, 2, is greater than permitted\n",
            "[17:29:15] Explicit valence for atom # 1 Na, 3, is greater than permitted\n",
            "[17:29:15] Explicit valence for atom # 4 Cl, 3, is greater than permitted\n",
            "[17:29:15] Explicit valence for atom # 12 K, 5, is greater than permitted\n",
            "[17:29:15] Explicit valence for atom # 0 Na, 2, is greater than permitted\n",
            "[17:29:15] Explicit valence for atom # 4 K, 3, is greater than permitted\n",
            "[17:29:15] Explicit valence for atom # 7 Br, 3, is greater than permitted\n",
            "[17:29:15] WARNING: not removing hydrogen atom without neighbors\n",
            "[17:29:15] Explicit valence for atom # 7 Br, 3, is greater than permitted\n",
            "[17:29:15] Explicit valence for atom # 2 Na, 2, is greater than permitted\n",
            "[17:29:15] Explicit valence for atom # 1 Cl, 3, is greater than permitted\n",
            "[17:29:15] Explicit valence for atom # 0 Cl, 2, is greater than permitted\n",
            "[17:29:15] Explicit valence for atom # 4 Br, 3, is greater than permitted\n",
            "[17:29:15] Explicit valence for atom # 5 Br, 3, is greater than permitted\n",
            "[17:29:15] Explicit valence for atom # 7 Na, 3, is greater than permitted\n",
            "[17:29:15] Explicit valence for atom # 1 K, 2, is greater than permitted\n",
            "[17:29:15] Explicit valence for atom # 3 K, 2, is greater than permitted\n",
            "[17:29:15] Explicit valence for atom # 4 Cl, 3, is greater than permitted\n",
            "[17:29:15] Explicit valence for atom # 15 K, 3, is greater than permitted\n",
            "[17:29:15] Explicit valence for atom # 3 K, 2, is greater than permitted\n",
            "[17:29:15] Explicit valence for atom # 13 Na, 2, is greater than permitted\n",
            "[17:29:15] Explicit valence for atom # 0 Na, 2, is greater than permitted\n",
            "[17:29:15] Explicit valence for atom # 6 Cl, 3, is greater than permitted\n",
            "[17:29:15] Explicit valence for atom # 1 Br, 4, is greater than permitted\n",
            "[17:29:15] Explicit valence for atom # 0 K, 2, is greater than permitted\n",
            "[17:29:15] Explicit valence for atom # 4 Br, 3, is greater than permitted\n",
            "[17:29:15] Explicit valence for atom # 6 K, 3, is greater than permitted\n",
            "[17:29:15] Explicit valence for atom # 6 Cl, 4, is greater than permitted\n",
            "[17:29:15] Explicit valence for atom # 3 K, 3, is greater than permitted\n",
            "[17:29:15] Explicit valence for atom # 4 K, 3, is greater than permitted\n",
            "[17:29:15] Explicit valence for atom # 2 K, 3, is greater than permitted\n",
            "[17:29:15] Explicit valence for atom # 3 Cl, 3, is greater than permitted\n",
            "[17:29:15] Explicit valence for atom # 4 K, 2, is greater than permitted\n",
            "[17:29:15] Explicit valence for atom # 2 Na, 2, is greater than permitted\n",
            "[17:29:15] Explicit valence for atom # 0 K, 2, is greater than permitted\n",
            "[17:29:15] Explicit valence for atom # 1 K, 3, is greater than permitted\n",
            "[17:29:15] Explicit valence for atom # 1 Cl, 4, is greater than permitted\n",
            "[17:29:15] Explicit valence for atom # 0 Br, 2, is greater than permitted\n",
            "[17:29:15] Explicit valence for atom # 1 Cl, 3, is greater than permitted\n",
            "[17:29:15] Explicit valence for atom # 7 Br, 2, is greater than permitted\n",
            "[17:29:15] Explicit valence for atom # 2 Cl, 3, is greater than permitted\n",
            "[17:29:16] Explicit valence for atom # 0 Na, 3, is greater than permitted\n",
            "[17:29:16] Explicit valence for atom # 0 Na, 3, is greater than permitted\n",
            "[17:29:16] Explicit valence for atom # 5 Na, 3, is greater than permitted\n",
            "[17:29:16] Explicit valence for atom # 1 Se, 8, is greater than permitted\n",
            "[17:29:16] Explicit valence for atom # 2 K, 2, is greater than permitted\n",
            "[17:29:16] Explicit valence for atom # 6 Cl, 3, is greater than permitted\n",
            "[17:29:16] Explicit valence for atom # 1 Na, 3, is greater than permitted\n",
            "[17:29:16] Explicit valence for atom # 3 Na, 4, is greater than permitted\n",
            "[17:29:16] Explicit valence for atom # 2 K, 3, is greater than permitted\n",
            "[17:29:16] Explicit valence for atom # 0 K, 2, is greater than permitted\n",
            "[17:29:16] Explicit valence for atom # 9 Cl, 3, is greater than permitted\n",
            "[17:29:16] Explicit valence for atom # 17 Na, 2, is greater than permitted\n",
            "[17:29:16] Explicit valence for atom # 6 K, 3, is greater than permitted\n",
            "[17:29:16] Explicit valence for atom # 3 Cl, 3, is greater than permitted\n",
            "[17:29:16] Explicit valence for atom # 5 Br, 3, is greater than permitted\n",
            "[17:29:16] Explicit valence for atom # 19 Na, 3, is greater than permitted\n",
            "[17:29:16] Explicit valence for atom # 0 Na, 2, is greater than permitted\n",
            "[17:29:16] Explicit valence for atom # 13 K, 2, is greater than permitted\n",
            "[17:29:16] Explicit valence for atom # 2 K, 2, is greater than permitted\n",
            "[17:29:16] Explicit valence for atom # 1 K, 2, is greater than permitted\n",
            "[17:29:16] Explicit valence for atom # 4 Br, 3, is greater than permitted\n",
            "[17:29:16] Explicit valence for atom # 10 K, 4, is greater than permitted\n",
            "[17:29:16] Explicit valence for atom # 4 K, 2, is greater than permitted\n",
            "[17:29:16] Explicit valence for atom # 5 K, 3, is greater than permitted\n",
            "[17:29:16] Explicit valence for atom # 15 K, 2, is greater than permitted\n",
            "[17:29:16] Explicit valence for atom # 6 Br, 3, is greater than permitted\n",
            "[17:29:16] Explicit valence for atom # 2 Cl, 4, is greater than permitted\n",
            "[17:29:16] Explicit valence for atom # 6 K, 2, is greater than permitted\n",
            "[17:29:16] Explicit valence for atom # 1 Na, 3, is greater than permitted\n",
            "[17:29:16] Explicit valence for atom # 1 K, 3, is greater than permitted\n",
            "[17:29:16] Explicit valence for atom # 4 Br, 3, is greater than permitted\n",
            "[17:29:16] Explicit valence for atom # 0 K, 3, is greater than permitted\n",
            "[17:29:16] Explicit valence for atom # 3 Na, 3, is greater than permitted\n",
            "[17:29:16] Explicit valence for atom # 8 K, 3, is greater than permitted\n",
            "[17:29:16] Explicit valence for atom # 1 K, 5, is greater than permitted\n",
            "[17:29:16] Explicit valence for atom # 13 Cl, 2, is greater than permitted\n",
            "[17:29:16] Explicit valence for atom # 9 K, 3, is greater than permitted\n",
            "[17:29:16] Explicit valence for atom # 2 Cl, 3, is greater than permitted\n",
            "[17:29:16] Explicit valence for atom # 7 Cl, 3, is greater than permitted\n",
            "[17:29:16] Explicit valence for atom # 8 Cl, 3, is greater than permitted\n",
            "[17:29:16] Explicit valence for atom # 0 Cl, 2, is greater than permitted\n",
            "[17:29:16] Explicit valence for atom # 3 Na, 2, is greater than permitted\n",
            "[17:29:16] Explicit valence for atom # 1 K, 4, is greater than permitted\n",
            "[17:29:16] Explicit valence for atom # 0 Na, 2, is greater than permitted\n",
            "[17:29:16] Explicit valence for atom # 2 Na, 3, is greater than permitted\n",
            "[17:29:16] Explicit valence for atom # 2 Na, 3, is greater than permitted\n",
            "[17:29:16] Explicit valence for atom # 5 K, 2, is greater than permitted\n",
            "[17:29:17] Explicit valence for atom # 3 Na, 3, is greater than permitted\n",
            "[17:29:17] Explicit valence for atom # 3 Na, 2, is greater than permitted\n",
            "[17:29:17] Explicit valence for atom # 3 K, 2, is greater than permitted\n",
            "[17:29:17] Explicit valence for atom # 2 K, 2, is greater than permitted\n",
            "[17:29:17] Explicit valence for atom # 3 Na, 2, is greater than permitted\n",
            "[17:29:17] Explicit valence for atom # 6 K, 2, is greater than permitted\n",
            "[17:29:17] Explicit valence for atom # 5 K, 2, is greater than permitted\n",
            "[17:29:17] Explicit valence for atom # 5 K, 2, is greater than permitted\n",
            "[17:29:17] Explicit valence for atom # 0 K, 2, is greater than permitted\n",
            "[17:29:17] Explicit valence for atom # 6 Na, 2, is greater than permitted\n",
            "[17:29:17] Explicit valence for atom # 2 K, 2, is greater than permitted\n",
            "[17:29:17] Explicit valence for atom # 2 Na, 3, is greater than permitted\n",
            "[17:29:17] Explicit valence for atom # 2 Na, 3, is greater than permitted\n",
            "[17:29:17] Explicit valence for atom # 7 Br, 3, is greater than permitted\n",
            "[17:29:17] Explicit valence for atom # 3 Cl, 3, is greater than permitted\n",
            "[17:29:17] Explicit valence for atom # 8 Cl, 3, is greater than permitted\n",
            "[17:29:17] Explicit valence for atom # 5 K, 2, is greater than permitted\n",
            "[17:29:17] Explicit valence for atom # 6 Br, 3, is greater than permitted\n",
            "[17:29:17] Explicit valence for atom # 2 Cl, 3, is greater than permitted\n",
            "[17:29:17] Explicit valence for atom # 4 Cl, 3, is greater than permitted\n",
            "[17:29:17] Explicit valence for atom # 0 Cl, 2, is greater than permitted\n",
            "[17:29:17] Explicit valence for atom # 3 Na, 2, is greater than permitted\n",
            "[17:29:17] Explicit valence for atom # 5 K, 5, is greater than permitted\n",
            "[17:29:17] Explicit valence for atom # 7 Br, 3, is greater than permitted\n"
          ]
        },
        {
          "output_type": "stream",
          "name": "stdout",
          "text": [
            "Epoch [5/500] | D Loss: 1.336 | G Adv Loss: 0.656 | RL Loss: 59.080 | Mean Reward: 0.688\n"
          ]
        },
        {
          "output_type": "stream",
          "name": "stderr",
          "text": [
            "[17:29:17] Explicit valence for atom # 1 Br, 3, is greater than permitted\n",
            "[17:29:17] Explicit valence for atom # 4 Br, 3, is greater than permitted\n",
            "[17:29:17] Explicit valence for atom # 1 Na, 3, is greater than permitted\n",
            "[17:29:17] Explicit valence for atom # 0 K, 2, is greater than permitted\n",
            "[17:29:17] Explicit valence for atom # 3 Na, 3, is greater than permitted\n",
            "[17:29:17] Explicit valence for atom # 4 Br, 4, is greater than permitted\n",
            "[17:29:17] Explicit valence for atom # 0 Na, 2, is greater than permitted\n",
            "[17:29:17] Explicit valence for atom # 6 K, 2, is greater than permitted\n",
            "[17:29:17] Explicit valence for atom # 0 Na, 2, is greater than permitted\n",
            "[17:29:17] Explicit valence for atom # 3 Na, 3, is greater than permitted\n",
            "[17:29:17] Explicit valence for atom # 8 Na, 3, is greater than permitted\n",
            "[17:29:17] Explicit valence for atom # 3 Na, 3, is greater than permitted\n",
            "[17:29:17] Explicit valence for atom # 1 K, 2, is greater than permitted\n",
            "[17:29:17] Explicit valence for atom # 1 Br, 3, is greater than permitted\n",
            "[17:29:17] Explicit valence for atom # 0 K, 3, is greater than permitted\n",
            "[17:29:18] Explicit valence for atom # 1 K, 2, is greater than permitted\n",
            "[17:29:18] Explicit valence for atom # 4 Na, 3, is greater than permitted\n",
            "[17:29:18] Explicit valence for atom # 3 Na, 3, is greater than permitted\n",
            "[17:29:18] Explicit valence for atom # 4 Na, 3, is greater than permitted\n",
            "[17:29:18] Explicit valence for atom # 1 Br, 2, is greater than permitted\n",
            "[17:29:18] Explicit valence for atom # 2 K, 2, is greater than permitted\n",
            "[17:29:18] Explicit valence for atom # 0 Na, 2, is greater than permitted\n",
            "[17:29:18] Explicit valence for atom # 2 Na, 3, is greater than permitted\n",
            "[17:29:18] Explicit valence for atom # 4 K, 3, is greater than permitted\n",
            "[17:29:18] Explicit valence for atom # 1 Na, 2, is greater than permitted\n",
            "[17:29:18] Explicit valence for atom # 1 Cl, 3, is greater than permitted\n",
            "[17:29:18] Explicit valence for atom # 1 Br, 3, is greater than permitted\n",
            "[17:29:18] Explicit valence for atom # 1 Na, 2, is greater than permitted\n",
            "[17:29:18] Explicit valence for atom # 12 K, 2, is greater than permitted\n",
            "[17:29:18] Explicit valence for atom # 3 Cl, 3, is greater than permitted\n",
            "[17:29:18] Explicit valence for atom # 0 Na, 2, is greater than permitted\n",
            "[17:29:18] Explicit valence for atom # 2 K, 3, is greater than permitted\n",
            "[17:29:18] Explicit valence for atom # 2 Cl, 3, is greater than permitted\n",
            "[17:29:18] Explicit valence for atom # 1 K, 5, is greater than permitted\n",
            "[17:29:18] Explicit valence for atom # 0 K, 2, is greater than permitted\n",
            "[17:29:18] Explicit valence for atom # 4 K, 3, is greater than permitted\n",
            "[17:29:18] Explicit valence for atom # 5 Cl, 4, is greater than permitted\n",
            "[17:29:18] Explicit valence for atom # 1 Na, 2, is greater than permitted\n",
            "[17:29:18] Explicit valence for atom # 0 Na, 2, is greater than permitted\n",
            "[17:29:18] Explicit valence for atom # 0 Br, 2, is greater than permitted\n",
            "[17:29:18] Explicit valence for atom # 2 Na, 4, is greater than permitted\n",
            "[17:29:18] Explicit valence for atom # 0 K, 2, is greater than permitted\n",
            "[17:29:18] Explicit valence for atom # 2 Br, 3, is greater than permitted\n",
            "[17:29:18] Explicit valence for atom # 0 Cl, 2, is greater than permitted\n",
            "[17:29:18] Explicit valence for atom # 3 Br, 3, is greater than permitted\n",
            "[17:29:18] Explicit valence for atom # 1 Cl, 3, is greater than permitted\n",
            "[17:29:18] Explicit valence for atom # 3 Br, 5, is greater than permitted\n",
            "[17:29:18] Explicit valence for atom # 5 K, 3, is greater than permitted\n",
            "[17:29:19] Explicit valence for atom # 3 Cl, 3, is greater than permitted\n",
            "[17:29:19] Explicit valence for atom # 1 Cl, 3, is greater than permitted\n",
            "[17:29:19] Explicit valence for atom # 2 Cl, 2, is greater than permitted\n",
            "[17:29:19] Explicit valence for atom # 5 Br, 3, is greater than permitted\n",
            "[17:29:19] Explicit valence for atom # 2 Br, 3, is greater than permitted\n",
            "[17:29:19] Explicit valence for atom # 0 Cl, 2, is greater than permitted\n",
            "[17:29:19] Explicit valence for atom # 14 Cl, 2, is greater than permitted\n",
            "[17:29:19] Explicit valence for atom # 4 Na, 3, is greater than permitted\n",
            "[17:29:19] Explicit valence for atom # 3 K, 3, is greater than permitted\n",
            "[17:29:19] Explicit valence for atom # 4 Cl, 4, is greater than permitted\n",
            "[17:29:19] Explicit valence for atom # 0 Cl, 2, is greater than permitted\n",
            "[17:29:19] Explicit valence for atom # 2 K, 3, is greater than permitted\n",
            "[17:29:19] Explicit valence for atom # 1 Na, 3, is greater than permitted\n",
            "[17:29:19] Explicit valence for atom # 0 Br, 2, is greater than permitted\n",
            "[17:29:19] Explicit valence for atom # 5 Na, 2, is greater than permitted\n",
            "[17:29:19] Explicit valence for atom # 3 Br, 2, is greater than permitted\n",
            "[17:29:19] Explicit valence for atom # 5 Br, 3, is greater than permitted\n",
            "[17:29:19] Explicit valence for atom # 4 Na, 2, is greater than permitted\n",
            "[17:29:19] Explicit valence for atom # 1 Cl, 3, is greater than permitted\n",
            "[17:29:19] Explicit valence for atom # 1 Br, 2, is greater than permitted\n",
            "[17:29:19] Explicit valence for atom # 3 Br, 3, is greater than permitted\n",
            "[17:29:19] Explicit valence for atom # 1 K, 4, is greater than permitted\n",
            "[17:29:19] Explicit valence for atom # 0 Na, 2, is greater than permitted\n",
            "[17:29:19] Explicit valence for atom # 1 Na, 3, is greater than permitted\n",
            "[17:29:19] Explicit valence for atom # 7 K, 2, is greater than permitted\n",
            "[17:29:19] Explicit valence for atom # 3 K, 2, is greater than permitted\n",
            "[17:29:19] Explicit valence for atom # 1 Na, 3, is greater than permitted\n",
            "[17:29:19] Explicit valence for atom # 1 K, 3, is greater than permitted\n",
            "[17:29:19] Explicit valence for atom # 8 Na, 2, is greater than permitted\n",
            "[17:29:19] Explicit valence for atom # 3 Br, 3, is greater than permitted\n",
            "[17:29:20] Explicit valence for atom # 1 Cl, 3, is greater than permitted\n",
            "[17:29:20] Explicit valence for atom # 2 Cl, 2, is greater than permitted\n",
            "[17:29:20] Explicit valence for atom # 0 Cl, 2, is greater than permitted\n",
            "[17:29:20] Explicit valence for atom # 4 K, 2, is greater than permitted\n",
            "[17:29:20] Explicit valence for atom # 3 K, 2, is greater than permitted\n",
            "[17:29:20] Explicit valence for atom # 1 Na, 2, is greater than permitted\n",
            "[17:29:20] Explicit valence for atom # 3 K, 4, is greater than permitted\n",
            "[17:29:20] Explicit valence for atom # 1 Cl, 3, is greater than permitted\n",
            "[17:29:20] Explicit valence for atom # 1 K, 3, is greater than permitted\n",
            "[17:29:20] Explicit valence for atom # 1 K, 3, is greater than permitted\n",
            "[17:29:20] Explicit valence for atom # 2 Cl, 3, is greater than permitted\n",
            "[17:29:20] Explicit valence for atom # 2 Na, 2, is greater than permitted\n",
            "[17:29:20] Explicit valence for atom # 0 Na, 2, is greater than permitted\n",
            "[17:29:20] Explicit valence for atom # 2 K, 4, is greater than permitted\n",
            "[17:29:20] Explicit valence for atom # 1 Na, 3, is greater than permitted\n",
            "[17:29:20] Explicit valence for atom # 5 Cl, 3, is greater than permitted\n",
            "[17:29:20] Explicit valence for atom # 6 K, 2, is greater than permitted\n",
            "[17:29:20] Explicit valence for atom # 1 Na, 2, is greater than permitted\n",
            "[17:29:20] Explicit valence for atom # 2 Br, 3, is greater than permitted\n",
            "[17:29:20] Explicit valence for atom # 1 Na, 3, is greater than permitted\n",
            "[17:29:20] Explicit valence for atom # 3 Na, 2, is greater than permitted\n",
            "[17:29:20] Explicit valence for atom # 1 Na, 3, is greater than permitted\n",
            "[17:29:20] WARNING: not removing hydrogen atom without neighbors\n",
            "[17:29:20] Explicit valence for atom # 3 Br, 3, is greater than permitted\n",
            "[17:29:20] Explicit valence for atom # 5 K, 2, is greater than permitted\n",
            "[17:29:20] Explicit valence for atom # 2 Na, 3, is greater than permitted\n",
            "[17:29:20] Explicit valence for atom # 4 Na, 2, is greater than permitted\n",
            "[17:29:20] Explicit valence for atom # 3 K, 3, is greater than permitted\n",
            "[17:29:20] Explicit valence for atom # 1 Na, 3, is greater than permitted\n",
            "[17:29:20] Explicit valence for atom # 5 Na, 2, is greater than permitted\n",
            "[17:29:20] Explicit valence for atom # 0 Cl, 2, is greater than permitted\n",
            "[17:29:20] Explicit valence for atom # 2 Br, 3, is greater than permitted\n",
            "[17:29:20] Explicit valence for atom # 0 Cl, 2, is greater than permitted\n",
            "[17:29:20] Explicit valence for atom # 1 K, 2, is greater than permitted\n",
            "[17:29:20] Explicit valence for atom # 4 Br, 3, is greater than permitted\n",
            "[17:29:20] Explicit valence for atom # 2 Na, 2, is greater than permitted\n",
            "[17:29:20] Explicit valence for atom # 0 Br, 2, is greater than permitted\n",
            "[17:29:20] Explicit valence for atom # 7 Na, 3, is greater than permitted\n",
            "[17:29:20] Explicit valence for atom # 1 Na, 3, is greater than permitted\n",
            "[17:29:21] Explicit valence for atom # 4 Cl, 2, is greater than permitted\n",
            "[17:29:21] Explicit valence for atom # 1 Br, 4, is greater than permitted\n",
            "[17:29:21] Explicit valence for atom # 2 Na, 4, is greater than permitted\n",
            "[17:29:21] Explicit valence for atom # 0 Na, 3, is greater than permitted\n",
            "[17:29:21] Explicit valence for atom # 2 Br, 4, is greater than permitted\n",
            "[17:29:21] Explicit valence for atom # 0 Na, 2, is greater than permitted\n",
            "[17:29:21] Explicit valence for atom # 2 Na, 2, is greater than permitted\n",
            "[17:29:21] Explicit valence for atom # 3 Na, 4, is greater than permitted\n",
            "[17:29:21] Explicit valence for atom # 0 Cl, 3, is greater than permitted\n",
            "[17:29:21] Explicit valence for atom # 2 Na, 3, is greater than permitted\n",
            "[17:29:21] Explicit valence for atom # 1 Cl, 3, is greater than permitted\n",
            "[17:29:21] Explicit valence for atom # 2 K, 3, is greater than permitted\n",
            "[17:29:21] Explicit valence for atom # 1 Cl, 2, is greater than permitted\n",
            "[17:29:21] Explicit valence for atom # 4 Br, 2, is greater than permitted\n",
            "[17:29:21] Explicit valence for atom # 1 Na, 2, is greater than permitted\n",
            "[17:29:21] Explicit valence for atom # 1 Na, 2, is greater than permitted\n",
            "[17:29:21] Explicit valence for atom # 0 Na, 2, is greater than permitted\n",
            "[17:29:21] Explicit valence for atom # 1 Br, 4, is greater than permitted\n",
            "[17:29:21] Explicit valence for atom # 8 Na, 2, is greater than permitted\n",
            "[17:29:21] Explicit valence for atom # 2 K, 2, is greater than permitted\n",
            "[17:29:21] Explicit valence for atom # 2 Na, 3, is greater than permitted\n",
            "[17:29:21] Explicit valence for atom # 0 Br, 2, is greater than permitted\n",
            "[17:29:21] Explicit valence for atom # 2 Br, 2, is greater than permitted\n",
            "[17:29:21] Explicit valence for atom # 5 Na, 2, is greater than permitted\n",
            "[17:29:21] Explicit valence for atom # 1 Br, 2, is greater than permitted\n",
            "[17:29:21] Explicit valence for atom # 1 K, 2, is greater than permitted\n"
          ]
        },
        {
          "output_type": "stream",
          "name": "stdout",
          "text": [
            "Epoch [10/500] | D Loss: 1.053 | G Adv Loss: 1.058 | RL Loss: 21.128 | Mean Reward: 0.844\n"
          ]
        },
        {
          "output_type": "stream",
          "name": "stderr",
          "text": [
            "[17:29:22] WARNING: not removing hydrogen atom without neighbors\n",
            "[17:29:22] Explicit valence for atom # 1 Cl, 4, is greater than permitted\n",
            "[17:29:22] Explicit valence for atom # 0 K, 2, is greater than permitted\n",
            "[17:29:22] Explicit valence for atom # 4 Cl, 3, is greater than permitted\n",
            "[17:29:22] Explicit valence for atom # 4 K, 4, is greater than permitted\n",
            "[17:29:22] Explicit valence for atom # 3 K, 3, is greater than permitted\n",
            "[17:29:22] Explicit valence for atom # 0 K, 3, is greater than permitted\n",
            "[17:29:22] Explicit valence for atom # 0 Na, 3, is greater than permitted\n",
            "[17:29:22] Explicit valence for atom # 1 Na, 3, is greater than permitted\n",
            "[17:29:22] Explicit valence for atom # 1 K, 2, is greater than permitted\n",
            "[17:29:22] Explicit valence for atom # 2 Cl, 3, is greater than permitted\n",
            "[17:29:22] Explicit valence for atom # 1 Cl, 2, is greater than permitted\n",
            "[17:29:22] Explicit valence for atom # 1 K, 3, is greater than permitted\n",
            "[17:29:22] Explicit valence for atom # 1 Na, 2, is greater than permitted\n",
            "[17:29:22] Explicit valence for atom # 2 Cl, 3, is greater than permitted\n",
            "[17:29:22] Explicit valence for atom # 1 Na, 2, is greater than permitted\n",
            "[17:29:22] Explicit valence for atom # 2 Cl, 2, is greater than permitted\n",
            "[17:29:23] Explicit valence for atom # 0 Cl, 2, is greater than permitted\n",
            "[17:29:23] Explicit valence for atom # 1 Na, 2, is greater than permitted\n",
            "[17:29:23] Explicit valence for atom # 2 K, 2, is greater than permitted\n",
            "[17:29:23] Explicit valence for atom # 0 K, 2, is greater than permitted\n",
            "[17:29:23] Explicit valence for atom # 1 Cl, 3, is greater than permitted\n",
            "[17:29:23] Explicit valence for atom # 1 K, 2, is greater than permitted\n",
            "[17:29:23] Explicit valence for atom # 3 Br, 3, is greater than permitted\n",
            "[17:29:23] Explicit valence for atom # 2 Br, 3, is greater than permitted\n",
            "[17:29:23] Explicit valence for atom # 0 Na, 2, is greater than permitted\n",
            "[17:29:23] Explicit valence for atom # 0 Na, 2, is greater than permitted\n",
            "[17:29:23] Explicit valence for atom # 8 Na, 2, is greater than permitted\n",
            "[17:29:24] Explicit valence for atom # 0 K, 2, is greater than permitted\n",
            "[17:29:24] Explicit valence for atom # 0 Cl, 2, is greater than permitted\n",
            "[17:29:24] Explicit valence for atom # 2 Cl, 2, is greater than permitted\n",
            "[17:29:24] Explicit valence for atom # 3 Na, 2, is greater than permitted\n",
            "[17:29:24] Explicit valence for atom # 3 Cl, 2, is greater than permitted\n",
            "[17:29:24] Explicit valence for atom # 1 K, 3, is greater than permitted\n",
            "[17:29:24] Explicit valence for atom # 2 K, 2, is greater than permitted\n",
            "[17:29:24] Explicit valence for atom # 0 Na, 2, is greater than permitted\n",
            "[17:29:24] Explicit valence for atom # 1 K, 3, is greater than permitted\n",
            "[17:29:24] Explicit valence for atom # 0 Na, 3, is greater than permitted\n",
            "[17:29:24] Explicit valence for atom # 0 Na, 4, is greater than permitted\n",
            "[17:29:24] Explicit valence for atom # 0 Na, 2, is greater than permitted\n",
            "[17:29:24] Explicit valence for atom # 1 K, 3, is greater than permitted\n",
            "[17:29:25] Explicit valence for atom # 1 Na, 3, is greater than permitted\n",
            "[17:29:25] Explicit valence for atom # 3 K, 2, is greater than permitted\n",
            "[17:29:25] Explicit valence for atom # 0 Na, 2, is greater than permitted\n",
            "[17:29:25] Explicit valence for atom # 4 Na, 2, is greater than permitted\n",
            "[17:29:25] Explicit valence for atom # 3 Na, 2, is greater than permitted\n",
            "[17:29:25] Explicit valence for atom # 1 Br, 5, is greater than permitted\n",
            "[17:29:25] Explicit valence for atom # 1 K, 2, is greater than permitted\n",
            "[17:29:25] Explicit valence for atom # 1 Na, 3, is greater than permitted\n",
            "[17:29:25] Explicit valence for atom # 0 Br, 2, is greater than permitted\n",
            "[17:29:25] Explicit valence for atom # 1 Na, 3, is greater than permitted\n",
            "[17:29:25] Explicit valence for atom # 0 Cl, 2, is greater than permitted\n",
            "[17:29:25] Explicit valence for atom # 2 Cl, 3, is greater than permitted\n",
            "[17:29:25] Explicit valence for atom # 1 K, 2, is greater than permitted\n",
            "[17:29:25] Explicit valence for atom # 4 Cl, 4, is greater than permitted\n",
            "[17:29:25] Explicit valence for atom # 2 Na, 2, is greater than permitted\n",
            "[17:29:26] Explicit valence for atom # 1 Br, 3, is greater than permitted\n",
            "[17:29:26] Explicit valence for atom # 4 Br, 4, is greater than permitted\n",
            "[17:29:26] Explicit valence for atom # 0 K, 4, is greater than permitted\n",
            "[17:29:26] Explicit valence for atom # 1 K, 3, is greater than permitted\n",
            "[17:29:26] Explicit valence for atom # 0 Br, 2, is greater than permitted\n",
            "[17:29:26] Explicit valence for atom # 0 K, 2, is greater than permitted\n",
            "[17:29:26] Explicit valence for atom # 4 Br, 2, is greater than permitted\n",
            "[17:29:26] Explicit valence for atom # 1 Cl, 4, is greater than permitted\n",
            "[17:29:26] Explicit valence for atom # 3 Cl, 2, is greater than permitted\n",
            "[17:29:26] WARNING: not removing hydrogen atom without neighbors\n",
            "[17:29:26] Explicit valence for atom # 4 Na, 2, is greater than permitted\n",
            "[17:29:26] Explicit valence for atom # 0 K, 2, is greater than permitted\n",
            "[17:29:26] Explicit valence for atom # 0 Cl, 2, is greater than permitted\n",
            "[17:29:26] Explicit valence for atom # 2 Cl, 3, is greater than permitted\n",
            "[17:29:26] Explicit valence for atom # 0 Br, 2, is greater than permitted\n",
            "[17:29:26] Explicit valence for atom # 2 Br, 4, is greater than permitted\n",
            "[17:29:26] Explicit valence for atom # 1 K, 2, is greater than permitted\n",
            "[17:29:26] Explicit valence for atom # 1 K, 2, is greater than permitted\n",
            "[17:29:26] Explicit valence for atom # 2 K, 2, is greater than permitted\n",
            "[17:29:26] Explicit valence for atom # 0 Na, 2, is greater than permitted\n",
            "[17:29:26] Explicit valence for atom # 5 Br, 2, is greater than permitted\n",
            "[17:29:27] Explicit valence for atom # 0 Na, 3, is greater than permitted\n",
            "[17:29:27] Explicit valence for atom # 1 Na, 3, is greater than permitted\n",
            "[17:29:27] Explicit valence for atom # 1 K, 3, is greater than permitted\n",
            "[17:29:27] Explicit valence for atom # 0 Br, 3, is greater than permitted\n",
            "[17:29:27] Explicit valence for atom # 0 Br, 3, is greater than permitted\n",
            "[17:29:27] Explicit valence for atom # 0 Na, 2, is greater than permitted\n",
            "[17:29:27] Explicit valence for atom # 0 Na, 2, is greater than permitted\n",
            "[17:29:27] Explicit valence for atom # 4 Na, 4, is greater than permitted\n",
            "[17:29:27] Explicit valence for atom # 0 Br, 2, is greater than permitted\n",
            "[17:29:27] Explicit valence for atom # 1 Cl, 2, is greater than permitted\n",
            "[17:29:27] Explicit valence for atom # 2 K, 4, is greater than permitted\n",
            "[17:29:27] Explicit valence for atom # 1 Na, 2, is greater than permitted\n",
            "[17:29:27] Explicit valence for atom # 2 Cl, 3, is greater than permitted\n",
            "[17:29:27] Explicit valence for atom # 1 Na, 2, is greater than permitted\n",
            "[17:29:27] Explicit valence for atom # 0 K, 2, is greater than permitted\n",
            "[17:29:27] Explicit valence for atom # 1 Na, 2, is greater than permitted\n"
          ]
        },
        {
          "output_type": "stream",
          "name": "stdout",
          "text": [
            "Epoch [15/500] | D Loss: 1.131 | G Adv Loss: 1.579 | RL Loss: 19.293 | Mean Reward: 0.938\n"
          ]
        },
        {
          "output_type": "stream",
          "name": "stderr",
          "text": [
            "[17:29:27] Explicit valence for atom # 0 Na, 2, is greater than permitted\n",
            "[17:29:27] Explicit valence for atom # 1 K, 3, is greater than permitted\n",
            "[17:29:27] Explicit valence for atom # 1 Br, 2, is greater than permitted\n",
            "[17:29:28] WARNING: not removing hydrogen atom without neighbors\n",
            "[17:29:28] Explicit valence for atom # 1 Na, 2, is greater than permitted\n",
            "[17:29:28] Explicit valence for atom # 1 K, 3, is greater than permitted\n",
            "[17:29:28] Explicit valence for atom # 1 K, 2, is greater than permitted\n",
            "[17:29:28] Explicit valence for atom # 0 Na, 2, is greater than permitted\n",
            "[17:29:28] Explicit valence for atom # 3 K, 2, is greater than permitted\n",
            "[17:29:28] Explicit valence for atom # 2 Na, 2, is greater than permitted\n",
            "[17:29:28] Explicit valence for atom # 1 Cl, 3, is greater than permitted\n",
            "[17:29:28] Explicit valence for atom # 2 Na, 2, is greater than permitted\n",
            "[17:29:28] Explicit valence for atom # 0 K, 2, is greater than permitted\n",
            "[17:29:28] Explicit valence for atom # 3 Na, 3, is greater than permitted\n",
            "[17:29:28] Explicit valence for atom # 1 Na, 3, is greater than permitted\n",
            "[17:29:28] Explicit valence for atom # 2 Na, 2, is greater than permitted\n",
            "[17:29:28] Explicit valence for atom # 2 Na, 2, is greater than permitted\n",
            "[17:29:28] Explicit valence for atom # 0 K, 2, is greater than permitted\n",
            "[17:29:28] Explicit valence for atom # 0 Cl, 3, is greater than permitted\n",
            "[17:29:28] Explicit valence for atom # 2 Br, 3, is greater than permitted\n",
            "[17:29:28] Explicit valence for atom # 1 Na, 2, is greater than permitted\n",
            "[17:29:28] Explicit valence for atom # 0 Cl, 2, is greater than permitted\n",
            "[17:29:28] Explicit valence for atom # 2 K, 3, is greater than permitted\n",
            "[17:29:28] Explicit valence for atom # 1 Cl, 3, is greater than permitted\n",
            "[17:29:28] Explicit valence for atom # 0 Na, 2, is greater than permitted\n",
            "[17:29:28] Explicit valence for atom # 3 K, 2, is greater than permitted\n",
            "[17:29:28] Explicit valence for atom # 2 K, 2, is greater than permitted\n",
            "[17:29:28] WARNING: not removing hydrogen atom without neighbors\n",
            "[17:29:28] Explicit valence for atom # 1 K, 3, is greater than permitted\n",
            "[17:29:29] Explicit valence for atom # 1 K, 3, is greater than permitted\n",
            "[17:29:29] Explicit valence for atom # 1 K, 3, is greater than permitted\n",
            "[17:29:29] Explicit valence for atom # 3 K, 2, is greater than permitted\n",
            "[17:29:29] WARNING: not removing hydrogen atom without neighbors\n",
            "[17:29:29] Explicit valence for atom # 1 Na, 2, is greater than permitted\n",
            "[17:29:29] Explicit valence for atom # 1 K, 2, is greater than permitted\n",
            "[17:29:29] Explicit valence for atom # 0 K, 3, is greater than permitted\n",
            "[17:29:29] Explicit valence for atom # 0 Cl, 2, is greater than permitted\n",
            "[17:29:29] Explicit valence for atom # 0 Br, 2, is greater than permitted\n",
            "[17:29:29] WARNING: not removing hydrogen atom without neighbors\n",
            "[17:29:29] Explicit valence for atom # 2 Cl, 2, is greater than permitted\n",
            "[17:29:30] Explicit valence for atom # 3 K, 2, is greater than permitted\n",
            "[17:29:30] Explicit valence for atom # 2 Na, 2, is greater than permitted\n",
            "[17:29:30] Explicit valence for atom # 0 Na, 2, is greater than permitted\n",
            "[17:29:31] Explicit valence for atom # 2 Cl, 3, is greater than permitted\n",
            "[17:29:31] Explicit valence for atom # 1 Na, 3, is greater than permitted\n",
            "[17:29:31] Explicit valence for atom # 1 Br, 3, is greater than permitted\n",
            "[17:29:31] Explicit valence for atom # 0 Cl, 2, is greater than permitted\n",
            "[17:29:31] Explicit valence for atom # 1 Na, 2, is greater than permitted\n",
            "[17:29:31] Explicit valence for atom # 3 Na, 3, is greater than permitted\n",
            "[17:29:31] Explicit valence for atom # 0 Br, 2, is greater than permitted\n",
            "[17:29:31] Explicit valence for atom # 1 K, 2, is greater than permitted\n",
            "[17:29:32] Explicit valence for atom # 1 Na, 4, is greater than permitted\n",
            "[17:29:32] Explicit valence for atom # 1 Na, 2, is greater than permitted\n",
            "[17:29:32] Explicit valence for atom # 0 K, 2, is greater than permitted\n",
            "[17:29:32] Explicit valence for atom # 0 K, 2, is greater than permitted\n"
          ]
        },
        {
          "output_type": "stream",
          "name": "stdout",
          "text": [
            "Epoch [20/500] | D Loss: 0.894 | G Adv Loss: 1.601 | RL Loss: 15.272 | Mean Reward: 1.000\n"
          ]
        },
        {
          "output_type": "stream",
          "name": "stderr",
          "text": [
            "[17:29:32] Explicit valence for atom # 0 Br, 2, is greater than permitted\n",
            "[17:29:33] Explicit valence for atom # 0 Na, 3, is greater than permitted\n",
            "[17:29:33] Explicit valence for atom # 0 Br, 2, is greater than permitted\n",
            "[17:29:33] Explicit valence for atom # 3 Cl, 3, is greater than permitted\n",
            "[17:29:33] Explicit valence for atom # 1 K, 3, is greater than permitted\n",
            "[17:29:33] WARNING: not removing hydrogen atom without neighbors\n",
            "[17:29:33] Explicit valence for atom # 1 Cl, 3, is greater than permitted\n",
            "[17:29:33] Explicit valence for atom # 0 Cl, 2, is greater than permitted\n",
            "[17:29:33] Explicit valence for atom # 2 Br, 2, is greater than permitted\n",
            "[17:29:34] Explicit valence for atom # 1 Na, 3, is greater than permitted\n",
            "[17:29:34] Explicit valence for atom # 1 K, 2, is greater than permitted\n",
            "[17:29:34] Explicit valence for atom # 0 Cl, 2, is greater than permitted\n",
            "[17:29:34] Explicit valence for atom # 0 Br, 2, is greater than permitted\n",
            "[17:29:35] Explicit valence for atom # 0 Cl, 2, is greater than permitted\n",
            "[17:29:35] Explicit valence for atom # 1 Br, 3, is greater than permitted\n",
            "[17:29:36] Explicit valence for atom # 0 K, 2, is greater than permitted\n",
            "[17:29:36] Explicit valence for atom # 1 Na, 2, is greater than permitted\n",
            "[17:29:36] Explicit valence for atom # 0 Na, 2, is greater than permitted\n",
            "[17:29:36] Explicit valence for atom # 1 Na, 4, is greater than permitted\n",
            "[17:29:36] Explicit valence for atom # 0 Br, 2, is greater than permitted\n",
            "[17:29:36] Explicit valence for atom # 0 Br, 2, is greater than permitted\n",
            "[17:29:37] Explicit valence for atom # 0 Na, 3, is greater than permitted\n",
            "[17:29:37] Explicit valence for atom # 0 Cl, 2, is greater than permitted\n",
            "[17:29:37] Explicit valence for atom # 1 K, 3, is greater than permitted\n",
            "[17:29:37] Explicit valence for atom # 1 K, 4, is greater than permitted\n",
            "[17:29:37] Explicit valence for atom # 0 Cl, 2, is greater than permitted\n",
            "[17:29:37] Explicit valence for atom # 0 K, 2, is greater than permitted\n"
          ]
        },
        {
          "output_type": "stream",
          "name": "stdout",
          "text": [
            "Epoch [25/500] | D Loss: 0.236 | G Adv Loss: 1.712 | RL Loss: 12.072 | Mean Reward: 0.906\n"
          ]
        },
        {
          "output_type": "stream",
          "name": "stderr",
          "text": [
            "[17:29:38] Explicit valence for atom # 1 Cl, 3, is greater than permitted\n",
            "[17:29:38] Explicit valence for atom # 0 Cl, 2, is greater than permitted\n",
            "[17:29:38] WARNING: not removing hydrogen atom without neighbors\n",
            "[17:29:38] Explicit valence for atom # 0 Br, 2, is greater than permitted\n",
            "[17:29:38] Explicit valence for atom # 0 Na, 2, is greater than permitted\n",
            "[17:29:38] Explicit valence for atom # 2 Na, 2, is greater than permitted\n",
            "[17:29:39] Explicit valence for atom # 1 Br, 3, is greater than permitted\n",
            "[17:29:39] Explicit valence for atom # 0 Na, 2, is greater than permitted\n",
            "[17:29:39] Explicit valence for atom # 0 Na, 2, is greater than permitted\n",
            "[17:29:39] WARNING: not removing hydrogen atom without neighbors\n",
            "[17:29:39] Explicit valence for atom # 1 Cl, 2, is greater than permitted\n",
            "[17:29:40] WARNING: not removing hydrogen atom without neighbors\n",
            "[17:29:40] Explicit valence for atom # 1 Cl, 3, is greater than permitted\n",
            "[17:29:40] Explicit valence for atom # 1 Na, 2, is greater than permitted\n",
            "[17:29:40] Explicit valence for atom # 1 Na, 3, is greater than permitted\n",
            "[17:29:40] WARNING: not removing hydrogen atom without neighbors\n",
            "[17:29:41] Explicit valence for atom # 0 Na, 2, is greater than permitted\n",
            "[17:29:41] Explicit valence for atom # 3 K, 2, is greater than permitted\n",
            "[17:29:41] Explicit valence for atom # 0 Br, 2, is greater than permitted\n",
            "[17:29:41] Explicit valence for atom # 0 Na, 4, is greater than permitted\n",
            "[17:29:41] Explicit valence for atom # 1 Na, 3, is greater than permitted\n",
            "[17:29:41] WARNING: not removing hydrogen atom without neighbors\n",
            "[17:29:42] Explicit valence for atom # 1 Br, 3, is greater than permitted\n",
            "[17:29:42] Explicit valence for atom # 0 Br, 2, is greater than permitted\n",
            "[17:29:42] Explicit valence for atom # 1 K, 2, is greater than permitted\n",
            "[17:29:42] Explicit valence for atom # 2 Na, 2, is greater than permitted\n",
            "[17:29:42] Explicit valence for atom # 1 K, 3, is greater than permitted\n",
            "[17:29:42] Explicit valence for atom # 1 K, 3, is greater than permitted\n",
            "[17:29:42] Explicit valence for atom # 1 K, 3, is greater than permitted\n"
          ]
        },
        {
          "output_type": "stream",
          "name": "stdout",
          "text": [
            "Epoch [30/500] | D Loss: 0.417 | G Adv Loss: 1.987 | RL Loss: 12.157 | Mean Reward: 0.938\n"
          ]
        },
        {
          "output_type": "stream",
          "name": "stderr",
          "text": [
            "[17:29:43] Explicit valence for atom # 0 Na, 3, is greater than permitted\n",
            "[17:29:43] WARNING: not removing hydrogen atom without neighbors\n",
            "[17:29:43] Explicit valence for atom # 1 Na, 2, is greater than permitted\n",
            "[17:29:43] Explicit valence for atom # 0 Br, 2, is greater than permitted\n",
            "[17:29:43] Explicit valence for atom # 2 K, 2, is greater than permitted\n",
            "[17:29:43] Explicit valence for atom # 1 Cl, 3, is greater than permitted\n",
            "[17:29:43] Explicit valence for atom # 0 Na, 2, is greater than permitted\n",
            "[17:29:43] Explicit valence for atom # 1 Na, 2, is greater than permitted\n",
            "[17:29:43] Explicit valence for atom # 1 K, 2, is greater than permitted\n",
            "[17:29:43] Explicit valence for atom # 0 Na, 2, is greater than permitted\n",
            "[17:29:43] Explicit valence for atom # 1 Cl, 3, is greater than permitted\n",
            "[17:29:43] Explicit valence for atom # 0 Cl, 2, is greater than permitted\n",
            "[17:29:43] Explicit valence for atom # 0 Br, 2, is greater than permitted\n",
            "[17:29:43] Explicit valence for atom # 1 Na, 2, is greater than permitted\n",
            "[17:29:43] Explicit valence for atom # 1 K, 2, is greater than permitted\n",
            "[17:29:44] WARNING: not removing hydrogen atom without neighbors\n",
            "[17:29:44] Explicit valence for atom # 1 Cl, 3, is greater than permitted\n",
            "[17:29:44] Explicit valence for atom # 0 Cl, 2, is greater than permitted\n",
            "[17:29:44] Explicit valence for atom # 0 Na, 2, is greater than permitted\n",
            "[17:29:45] WARNING: not removing hydrogen atom without neighbors\n",
            "[17:29:45] Explicit valence for atom # 1 Na, 3, is greater than permitted\n",
            "[17:29:45] Explicit valence for atom # 0 Cl, 3, is greater than permitted\n",
            "[17:29:45] WARNING: not removing hydrogen atom without neighbors\n",
            "[17:29:45] WARNING: not removing hydrogen atom without neighbors\n",
            "[17:29:46] Explicit valence for atom # 2 K, 2, is greater than permitted\n",
            "[17:29:46] Explicit valence for atom # 0 Na, 2, is greater than permitted\n",
            "[17:29:46] Explicit valence for atom # 0 Na, 2, is greater than permitted\n",
            "[17:29:46] Explicit valence for atom # 1 Br, 4, is greater than permitted\n",
            "[17:29:46] WARNING: not removing hydrogen atom without neighbors\n"
          ]
        },
        {
          "output_type": "stream",
          "name": "stdout",
          "text": [
            "Epoch [35/500] | D Loss: 0.753 | G Adv Loss: 2.255 | RL Loss: 10.631 | Mean Reward: 1.000\n"
          ]
        },
        {
          "output_type": "stream",
          "name": "stderr",
          "text": [
            "[17:29:48] Explicit valence for atom # 1 Br, 2, is greater than permitted\n",
            "[17:29:48] WARNING: not removing hydrogen atom without neighbors\n",
            "[17:29:49] Explicit valence for atom # 1 Na, 2, is greater than permitted\n",
            "[17:29:50] Explicit valence for atom # 0 Cl, 2, is greater than permitted\n",
            "[17:29:50] Explicit valence for atom # 3 Na, 2, is greater than permitted\n",
            "[17:29:50] Explicit valence for atom # 0 Na, 3, is greater than permitted\n",
            "[17:29:51] Explicit valence for atom # 1 Na, 2, is greater than permitted\n",
            "[17:29:51] WARNING: not removing hydrogen atom without neighbors\n",
            "[17:29:52] Explicit valence for atom # 1 Br, 3, is greater than permitted\n"
          ]
        },
        {
          "output_type": "stream",
          "name": "stdout",
          "text": [
            "Epoch [40/500] | D Loss: 0.810 | G Adv Loss: 2.319 | RL Loss: 11.462 | Mean Reward: 1.000\n"
          ]
        },
        {
          "output_type": "stream",
          "name": "stderr",
          "text": [
            "[17:29:53] Explicit valence for atom # 1 K, 2, is greater than permitted\n",
            "[17:29:53] Explicit valence for atom # 0 Cl, 2, is greater than permitted\n",
            "[17:29:53] WARNING: not removing hydrogen atom without neighbors\n",
            "[17:29:54] Explicit valence for atom # 0 Na, 2, is greater than permitted\n",
            "[17:29:54] WARNING: not removing hydrogen atom without neighbors\n",
            "[17:29:55] Explicit valence for atom # 2 Cl, 2, is greater than permitted\n",
            "[17:29:55] Explicit valence for atom # 0 Br, 2, is greater than permitted\n",
            "[17:29:55] WARNING: not removing hydrogen atom without neighbors\n",
            "[17:29:55] WARNING: not removing hydrogen atom without neighbors\n",
            "[17:29:55] Explicit valence for atom # 0 Cl, 2, is greater than permitted\n",
            "[17:29:56] Explicit valence for atom # 0 Br, 4, is greater than permitted\n",
            "[17:29:57] WARNING: not removing hydrogen atom without neighbors\n",
            "[17:29:57] WARNING: not removing hydrogen atom without neighbors\n",
            "[17:29:57] Explicit valence for atom # 0 Na, 2, is greater than permitted\n"
          ]
        },
        {
          "output_type": "stream",
          "name": "stdout",
          "text": [
            "Epoch [45/500] | D Loss: 0.423 | G Adv Loss: 2.665 | RL Loss: 9.441 | Mean Reward: 0.969\n"
          ]
        },
        {
          "output_type": "stream",
          "name": "stderr",
          "text": [
            "[17:29:57] Explicit valence for atom # 0 Cl, 2, is greater than permitted\n",
            "[17:29:57] WARNING: not removing hydrogen atom without neighbors\n",
            "[17:29:58] Explicit valence for atom # 0 Na, 2, is greater than permitted\n",
            "[17:29:58] WARNING: not removing hydrogen atom without neighbors\n",
            "[17:29:59] WARNING: not removing hydrogen atom without neighbors\n",
            "[17:29:59] WARNING: not removing hydrogen atom without neighbors\n",
            "[17:29:59] WARNING: not removing hydrogen atom without neighbors\n",
            "[17:29:59] WARNING: not removing hydrogen atom without neighbors\n",
            "[17:29:59] WARNING: not removing hydrogen atom without neighbors\n",
            "[17:29:59] WARNING: not removing hydrogen atom without neighbors\n",
            "[17:30:00] WARNING: not removing hydrogen atom without neighbors\n",
            "[17:30:00] WARNING: not removing hydrogen atom without neighbors\n",
            "[17:30:01] WARNING: not removing hydrogen atom without neighbors\n",
            "[17:30:01] WARNING: not removing hydrogen atom without neighbors\n",
            "[17:30:02] WARNING: not removing hydrogen atom without neighbors\n",
            "[17:30:02] Explicit valence for atom # 0 Cl, 2, is greater than permitted\n",
            "[17:30:02] Explicit valence for atom # 1 Cl, 3, is greater than permitted\n"
          ]
        },
        {
          "output_type": "stream",
          "name": "stdout",
          "text": [
            "Epoch [50/500] | D Loss: 0.553 | G Adv Loss: 2.745 | RL Loss: 8.962 | Mean Reward: 0.969\n"
          ]
        },
        {
          "output_type": "stream",
          "name": "stderr",
          "text": [
            "[17:30:03] WARNING: not removing hydrogen atom without neighbors\n",
            "[17:30:03] WARNING: not removing hydrogen atom without neighbors\n",
            "[17:30:04] WARNING: not removing hydrogen atom without neighbors\n",
            "[17:30:05] Explicit valence for atom # 0 Na, 2, is greater than permitted\n",
            "[17:30:05] Explicit valence for atom # 0 Cl, 2, is greater than permitted\n",
            "[17:30:06] Explicit valence for atom # 1 K, 2, is greater than permitted\n",
            "[17:30:06] WARNING: not removing hydrogen atom without neighbors\n",
            "[17:30:06] WARNING: not removing hydrogen atom without neighbors\n"
          ]
        },
        {
          "output_type": "stream",
          "name": "stdout",
          "text": [
            "Epoch [55/500] | D Loss: 0.545 | G Adv Loss: 2.839 | RL Loss: 14.085 | Mean Reward: 1.000\n"
          ]
        },
        {
          "output_type": "stream",
          "name": "stderr",
          "text": [
            "[17:30:07] Explicit valence for atom # 0 Na, 2, is greater than permitted\n",
            "[17:30:08] WARNING: not removing hydrogen atom without neighbors\n",
            "[17:30:08] WARNING: not removing hydrogen atom without neighbors\n",
            "[17:30:08] Explicit valence for atom # 0 K, 2, is greater than permitted\n",
            "[17:30:09] WARNING: not removing hydrogen atom without neighbors\n",
            "[17:30:09] Explicit valence for atom # 1 Na, 2, is greater than permitted\n",
            "[17:30:09] WARNING: not removing hydrogen atom without neighbors\n",
            "[17:30:09] WARNING: not removing hydrogen atom without neighbors\n",
            "[17:30:09] Explicit valence for atom # 1 K, 2, is greater than permitted\n",
            "[17:30:10] WARNING: not removing hydrogen atom without neighbors\n",
            "[17:30:11] Explicit valence for atom # 2 Na, 2, is greater than permitted\n",
            "[17:30:11] Explicit valence for atom # 0 Na, 2, is greater than permitted\n",
            "[17:30:11] Explicit valence for atom # 0 Br, 2, is greater than permitted\n",
            "[17:30:11] Explicit valence for atom # 1 K, 2, is greater than permitted\n"
          ]
        },
        {
          "output_type": "stream",
          "name": "stdout",
          "text": [
            "Epoch [60/500] | D Loss: 0.529 | G Adv Loss: 2.482 | RL Loss: 18.368 | Mean Reward: 0.906\n"
          ]
        },
        {
          "output_type": "stream",
          "name": "stderr",
          "text": [
            "[17:30:12] Explicit valence for atom # 1 Na, 2, is greater than permitted\n",
            "[17:30:12] Explicit valence for atom # 2 Na, 2, is greater than permitted\n",
            "[17:30:13] Explicit valence for atom # 2 Br, 4, is greater than permitted\n",
            "[17:30:13] Explicit valence for atom # 0 Na, 3, is greater than permitted\n",
            "[17:30:13] Explicit valence for atom # 3 Na, 2, is greater than permitted\n",
            "[17:30:14] Explicit valence for atom # 0 Br, 2, is greater than permitted\n",
            "[17:30:14] Explicit valence for atom # 1 K, 3, is greater than permitted\n",
            "[17:30:15] WARNING: not removing hydrogen atom without neighbors\n",
            "[17:30:15] Explicit valence for atom # 0 Cl, 2, is greater than permitted\n",
            "[17:30:15] Explicit valence for atom # 1 Cl, 2, is greater than permitted\n",
            "[17:30:16] Explicit valence for atom # 0 K, 2, is greater than permitted\n",
            "[17:30:16] Explicit valence for atom # 1 K, 3, is greater than permitted\n",
            "[17:30:17] WARNING: not removing hydrogen atom without neighbors\n"
          ]
        },
        {
          "output_type": "stream",
          "name": "stdout",
          "text": [
            "Epoch [65/500] | D Loss: 0.406 | G Adv Loss: 3.403 | RL Loss: 16.549 | Mean Reward: 1.000\n"
          ]
        },
        {
          "output_type": "stream",
          "name": "stderr",
          "text": [
            "[17:30:17] Explicit valence for atom # 1 K, 3, is greater than permitted\n",
            "[17:30:18] WARNING: not removing hydrogen atom without neighbors\n",
            "[17:30:18] WARNING: not removing hydrogen atom without neighbors\n",
            "[17:30:18] Explicit valence for atom # 0 Br, 2, is greater than permitted\n",
            "[17:30:19] Explicit valence for atom # 0 K, 2, is greater than permitted\n",
            "[17:30:19] Explicit valence for atom # 0 K, 2, is greater than permitted\n",
            "[17:30:19] WARNING: not removing hydrogen atom without neighbors\n",
            "[17:30:20] Explicit valence for atom # 0 Cl, 2, is greater than permitted\n",
            "[17:30:20] Explicit valence for atom # 0 Na, 2, is greater than permitted\n",
            "[17:30:20] Explicit valence for atom # 0 Cl, 3, is greater than permitted\n",
            "[17:30:20] Explicit valence for atom # 0 K, 2, is greater than permitted\n",
            "[17:30:21] WARNING: not removing hydrogen atom without neighbors\n",
            "[17:30:21] WARNING: not removing hydrogen atom without neighbors\n",
            "[17:30:21] WARNING: not removing hydrogen atom without neighbors\n"
          ]
        },
        {
          "output_type": "stream",
          "name": "stdout",
          "text": [
            "Epoch [70/500] | D Loss: 0.358 | G Adv Loss: 3.907 | RL Loss: 9.900 | Mean Reward: 1.000\n"
          ]
        },
        {
          "output_type": "stream",
          "name": "stderr",
          "text": [
            "[17:30:22] WARNING: not removing hydrogen atom without neighbors\n",
            "[17:30:22] WARNING: not removing hydrogen atom without neighbors\n",
            "[17:30:22] WARNING: not removing hydrogen atom without neighbors\n",
            "[17:30:23] WARNING: not removing hydrogen atom without neighbors\n",
            "[17:30:23] WARNING: not removing hydrogen atom without neighbors\n",
            "[17:30:24] WARNING: not removing hydrogen atom without neighbors\n",
            "[17:30:24] WARNING: not removing hydrogen atom without neighbors\n",
            "[17:30:24] WARNING: not removing hydrogen atom without neighbors\n",
            "[17:30:24] WARNING: not removing hydrogen atom without neighbors\n",
            "[17:30:24] WARNING: not removing hydrogen atom without neighbors\n",
            "[17:30:25] Explicit valence for atom # 1 Cl, 2, is greater than permitted\n",
            "[17:30:25] WARNING: not removing hydrogen atom without neighbors\n",
            "[17:30:25] WARNING: not removing hydrogen atom without neighbors\n",
            "[17:30:26] WARNING: not removing hydrogen atom without neighbors\n",
            "[17:30:26] Explicit valence for atom # 0 Na, 2, is greater than permitted\n"
          ]
        },
        {
          "output_type": "stream",
          "name": "stdout",
          "text": [
            "Epoch [75/500] | D Loss: 0.202 | G Adv Loss: 4.075 | RL Loss: 9.264 | Mean Reward: 1.000\n"
          ]
        },
        {
          "output_type": "stream",
          "name": "stderr",
          "text": [
            "[17:30:27] WARNING: not removing hydrogen atom without neighbors\n",
            "[17:30:27] WARNING: not removing hydrogen atom without neighbors\n",
            "[17:30:28] WARNING: not removing hydrogen atom without neighbors\n",
            "[17:30:29] WARNING: not removing hydrogen atom without neighbors\n",
            "[17:30:29] Explicit valence for atom # 0 K, 2, is greater than permitted\n",
            "[17:30:29] WARNING: not removing hydrogen atom without neighbors\n",
            "[17:30:30] WARNING: not removing hydrogen atom without neighbors\n",
            "[17:30:30] WARNING: not removing hydrogen atom without neighbors\n",
            "[17:30:31] WARNING: not removing hydrogen atom without neighbors\n",
            "[17:30:31] WARNING: not removing hydrogen atom without neighbors\n",
            "[17:30:32] WARNING: not removing hydrogen atom without neighbors\n"
          ]
        },
        {
          "output_type": "stream",
          "name": "stdout",
          "text": [
            "Epoch [80/500] | D Loss: 0.084 | G Adv Loss: 4.525 | RL Loss: 15.951 | Mean Reward: 1.000\n"
          ]
        },
        {
          "output_type": "stream",
          "name": "stderr",
          "text": [
            "[17:30:33] WARNING: not removing hydrogen atom without neighbors\n",
            "[17:30:33] WARNING: not removing hydrogen atom without neighbors\n",
            "[17:30:34] WARNING: not removing hydrogen atom without neighbors\n",
            "[17:30:34] WARNING: not removing hydrogen atom without neighbors\n",
            "[17:30:35] WARNING: not removing hydrogen atom without neighbors\n",
            "[17:30:35] WARNING: not removing hydrogen atom without neighbors\n",
            "[17:30:36] WARNING: not removing hydrogen atom without neighbors\n",
            "[17:30:36] Explicit valence for atom # 0 Cl, 2, is greater than permitted\n",
            "[17:30:36] Explicit valence for atom # 0 K, 2, is greater than permitted\n"
          ]
        },
        {
          "output_type": "stream",
          "name": "stdout",
          "text": [
            "Epoch [85/500] | D Loss: 0.047 | G Adv Loss: 4.568 | RL Loss: 20.293 | Mean Reward: 1.000\n"
          ]
        },
        {
          "output_type": "stream",
          "name": "stderr",
          "text": [
            "[17:30:37] Explicit valence for atom # 0 Na, 2, is greater than permitted\n",
            "[17:30:38] Explicit valence for atom # 0 Na, 2, is greater than permitted\n",
            "[17:30:38] Explicit valence for atom # 1 Br, 3, is greater than permitted\n",
            "[17:30:38] Explicit valence for atom # 0 Br, 2, is greater than permitted\n",
            "[17:30:39] Explicit valence for atom # 0 Na, 3, is greater than permitted\n"
          ]
        },
        {
          "output_type": "stream",
          "name": "stdout",
          "text": [
            "Epoch [90/500] | D Loss: 0.242 | G Adv Loss: 4.667 | RL Loss: 42.524 | Mean Reward: 1.000\n"
          ]
        },
        {
          "output_type": "stream",
          "name": "stderr",
          "text": [
            "[17:30:43] WARNING: not removing hydrogen atom without neighbors\n",
            "[17:30:45] Explicit valence for atom # 0 Na, 2, is greater than permitted\n",
            "[17:30:45] WARNING: not removing hydrogen atom without neighbors\n",
            "[17:30:45] Explicit valence for atom # 2 K, 2, is greater than permitted\n",
            "[17:30:45] Explicit valence for atom # 0 Br, 2, is greater than permitted\n",
            "[17:30:46] Explicit valence for atom # 0 K, 2, is greater than permitted\n",
            "[17:30:46] WARNING: not removing hydrogen atom without neighbors\n",
            "[17:30:47] Explicit valence for atom # 1 Br, 2, is greater than permitted\n"
          ]
        },
        {
          "output_type": "stream",
          "name": "stdout",
          "text": [
            "Epoch [95/500] | D Loss: 0.026 | G Adv Loss: 4.947 | RL Loss: 18.703 | Mean Reward: 1.000\n"
          ]
        },
        {
          "output_type": "stream",
          "name": "stderr",
          "text": [
            "[17:30:47] Explicit valence for atom # 1 Br, 3, is greater than permitted\n",
            "[17:30:47] WARNING: not removing hydrogen atom without neighbors\n",
            "[17:30:48] WARNING: not removing hydrogen atom without neighbors\n"
          ]
        },
        {
          "output_type": "stream",
          "name": "stdout",
          "text": [
            "Epoch [100/500] | D Loss: 0.022 | G Adv Loss: 5.110 | RL Loss: 16.009 | Mean Reward: 1.000\n"
          ]
        },
        {
          "output_type": "stream",
          "name": "stderr",
          "text": [
            "[17:30:55] WARNING: not removing hydrogen atom without neighbors\n",
            "[17:30:56] Explicit valence for atom # 0 Cl, 2, is greater than permitted\n",
            "[17:30:57] Explicit valence for atom # 1 K, 2, is greater than permitted\n",
            "[17:30:57] Explicit valence for atom # 0 Na, 2, is greater than permitted\n",
            "[17:30:57] WARNING: not removing hydrogen atom without neighbors\n"
          ]
        },
        {
          "output_type": "stream",
          "name": "stdout",
          "text": [
            "Epoch [105/500] | D Loss: 0.018 | G Adv Loss: 5.170 | RL Loss: 16.227 | Mean Reward: 1.000\n"
          ]
        },
        {
          "output_type": "stream",
          "name": "stderr",
          "text": [
            "[17:30:57] Explicit valence for atom # 1 Na, 2, is greater than permitted\n",
            "[17:30:57] WARNING: not removing hydrogen atom without neighbors\n",
            "[17:30:58] Explicit valence for atom # 1 Na, 2, is greater than permitted\n",
            "[17:30:58] WARNING: not removing hydrogen atom without neighbors\n",
            "[17:30:59] WARNING: not removing hydrogen atom without neighbors\n",
            "[17:31:01] WARNING: not removing hydrogen atom without neighbors\n"
          ]
        },
        {
          "output_type": "stream",
          "name": "stdout",
          "text": [
            "Epoch [110/500] | D Loss: 0.016 | G Adv Loss: 5.199 | RL Loss: 13.816 | Mean Reward: 1.000\n"
          ]
        },
        {
          "output_type": "stream",
          "name": "stderr",
          "text": [
            "[17:31:03] Explicit valence for atom # 0 Cl, 2, is greater than permitted\n",
            "[17:31:03] WARNING: not removing hydrogen atom without neighbors\n",
            "[17:31:03] WARNING: not removing hydrogen atom without neighbors\n",
            "[17:31:03] Explicit valence for atom # 0 K, 2, is greater than permitted\n",
            "[17:31:04] WARNING: not removing hydrogen atom without neighbors\n",
            "[17:31:04] WARNING: not removing hydrogen atom without neighbors\n",
            "[17:31:05] Explicit valence for atom # 1 K, 2, is greater than permitted\n",
            "[17:31:05] WARNING: not removing hydrogen atom without neighbors\n",
            "[17:31:05] WARNING: not removing hydrogen atom without neighbors\n",
            "[17:31:06] Explicit valence for atom # 0 Br, 2, is greater than permitted\n",
            "[17:31:07] Explicit valence for atom # 0 Br, 2, is greater than permitted\n"
          ]
        },
        {
          "output_type": "stream",
          "name": "stdout",
          "text": [
            "Epoch [115/500] | D Loss: 0.017 | G Adv Loss: 5.236 | RL Loss: 14.431 | Mean Reward: 1.000\n"
          ]
        },
        {
          "output_type": "stream",
          "name": "stderr",
          "text": [
            "[17:31:09] Explicit valence for atom # 0 Na, 2, is greater than permitted\n",
            "[17:31:10] WARNING: not removing hydrogen atom without neighbors\n"
          ]
        },
        {
          "output_type": "stream",
          "name": "stdout",
          "text": [
            "Epoch [120/500] | D Loss: 0.013 | G Adv Loss: 5.256 | RL Loss: 15.104 | Mean Reward: 1.000\n"
          ]
        },
        {
          "output_type": "stream",
          "name": "stderr",
          "text": [
            "[17:31:12] WARNING: not removing hydrogen atom without neighbors\n",
            "[17:31:14] WARNING: not removing hydrogen atom without neighbors\n",
            "[17:31:15] WARNING: not removing hydrogen atom without neighbors\n"
          ]
        },
        {
          "output_type": "stream",
          "name": "stdout",
          "text": [
            "Epoch [125/500] | D Loss: 0.013 | G Adv Loss: 5.361 | RL Loss: 16.906 | Mean Reward: 1.000\n"
          ]
        },
        {
          "output_type": "stream",
          "name": "stderr",
          "text": [
            "[17:31:17] Explicit valence for atom # 1 Na, 2, is greater than permitted\n",
            "[17:31:20] WARNING: not removing hydrogen atom without neighbors\n"
          ]
        },
        {
          "output_type": "stream",
          "name": "stdout",
          "text": [
            "Epoch [130/500] | D Loss: 0.014 | G Adv Loss: 5.095 | RL Loss: 38.109 | Mean Reward: 1.000\n"
          ]
        },
        {
          "output_type": "stream",
          "name": "stderr",
          "text": [
            "[17:31:22] Explicit valence for atom # 2 Na, 2, is greater than permitted\n",
            "[17:31:26] Explicit valence for atom # 0 Na, 2, is greater than permitted\n"
          ]
        },
        {
          "output_type": "stream",
          "name": "stdout",
          "text": [
            "Epoch [135/500] | D Loss: 0.025 | G Adv Loss: 5.310 | RL Loss: 30.679 | Mean Reward: 1.000\n"
          ]
        },
        {
          "output_type": "stream",
          "name": "stderr",
          "text": [
            "[17:31:28] Explicit valence for atom # 1 Na, 4, is greater than permitted\n"
          ]
        },
        {
          "output_type": "stream",
          "name": "stdout",
          "text": [
            "Epoch [140/500] | D Loss: 0.011 | G Adv Loss: 5.558 | RL Loss: 20.031 | Mean Reward: 1.000\n",
            "Epoch [145/500] | D Loss: 0.009 | G Adv Loss: 5.612 | RL Loss: 25.769 | Mean Reward: 1.000\n"
          ]
        },
        {
          "output_type": "stream",
          "name": "stderr",
          "text": [
            "[17:31:39] Explicit valence for atom # 0 Na, 3, is greater than permitted\n"
          ]
        },
        {
          "output_type": "stream",
          "name": "stdout",
          "text": [
            "Epoch [150/500] | D Loss: 0.009 | G Adv Loss: 5.723 | RL Loss: 25.947 | Mean Reward: 1.000\n",
            "Epoch [155/500] | D Loss: 0.013 | G Adv Loss: 4.917 | RL Loss: 22.786 | Mean Reward: 1.000\n",
            "Epoch [160/500] | D Loss: 0.016 | G Adv Loss: 4.591 | RL Loss: 23.189 | Mean Reward: 1.000\n",
            "Epoch [165/500] | D Loss: 0.007 | G Adv Loss: 5.891 | RL Loss: 14.319 | Mean Reward: 1.000\n"
          ]
        },
        {
          "output_type": "stream",
          "name": "stderr",
          "text": [
            "[17:31:57] WARNING: not removing hydrogen atom without neighbors\n",
            "[17:32:00] Explicit valence for atom # 0 Cl, 2, is greater than permitted\n",
            "[17:32:01] WARNING: not removing hydrogen atom without neighbors\n",
            "[17:32:01] Explicit valence for atom # 0 K, 2, is greater than permitted\n"
          ]
        },
        {
          "output_type": "stream",
          "name": "stdout",
          "text": [
            "Epoch [170/500] | D Loss: 0.006 | G Adv Loss: 6.000 | RL Loss: 9.679 | Mean Reward: 0.969\n"
          ]
        },
        {
          "output_type": "stream",
          "name": "stderr",
          "text": [
            "[17:32:06] WARNING: not removing hydrogen atom without neighbors\n"
          ]
        },
        {
          "output_type": "stream",
          "name": "stdout",
          "text": [
            "Epoch [175/500] | D Loss: 0.006 | G Adv Loss: 6.073 | RL Loss: 12.040 | Mean Reward: 1.000\n"
          ]
        },
        {
          "output_type": "stream",
          "name": "stderr",
          "text": [
            "[17:32:08] WARNING: not removing hydrogen atom without neighbors\n",
            "[17:32:11] WARNING: not removing hydrogen atom without neighbors\n",
            "[17:32:11] WARNING: not removing hydrogen atom without neighbors\n",
            "[17:32:11] WARNING: not removing hydrogen atom without neighbors\n",
            "[17:32:11] WARNING: not removing hydrogen atom without neighbors\n"
          ]
        },
        {
          "output_type": "stream",
          "name": "stdout",
          "text": [
            "Epoch [180/500] | D Loss: 0.005 | G Adv Loss: 6.155 | RL Loss: 9.543 | Mean Reward: 1.000\n"
          ]
        },
        {
          "output_type": "stream",
          "name": "stderr",
          "text": [
            "[17:32:13] WARNING: not removing hydrogen atom without neighbors\n",
            "[17:32:14] WARNING: not removing hydrogen atom without neighbors\n",
            "[17:32:15] WARNING: not removing hydrogen atom without neighbors\n",
            "[17:32:15] WARNING: not removing hydrogen atom without neighbors\n",
            "[17:32:16] WARNING: not removing hydrogen atom without neighbors\n"
          ]
        },
        {
          "output_type": "stream",
          "name": "stdout",
          "text": [
            "Epoch [185/500] | D Loss: 0.006 | G Adv Loss: 6.160 | RL Loss: 10.466 | Mean Reward: 1.000\n"
          ]
        },
        {
          "output_type": "stream",
          "name": "stderr",
          "text": [
            "[17:32:17] Explicit valence for atom # 1 K, 2, is greater than permitted\n",
            "[17:32:18] WARNING: not removing hydrogen atom without neighbors\n",
            "[17:32:18] Explicit valence for atom # 0 Na, 2, is greater than permitted\n",
            "[17:32:18] WARNING: not removing hydrogen atom without neighbors\n",
            "[17:32:20] WARNING: not removing hydrogen atom without neighbors\n",
            "[17:32:20] WARNING: not removing hydrogen atom without neighbors\n",
            "[17:32:20] WARNING: not removing hydrogen atom without neighbors\n"
          ]
        },
        {
          "output_type": "stream",
          "name": "stdout",
          "text": [
            "Epoch [190/500] | D Loss: 0.005 | G Adv Loss: 6.193 | RL Loss: 9.030 | Mean Reward: 1.000\n"
          ]
        },
        {
          "output_type": "stream",
          "name": "stderr",
          "text": [
            "[17:32:21] WARNING: not removing hydrogen atom without neighbors\n",
            "[17:32:22] WARNING: not removing hydrogen atom without neighbors\n",
            "[17:32:22] WARNING: not removing hydrogen atom without neighbors\n",
            "[17:32:23] WARNING: not removing hydrogen atom without neighbors\n",
            "[17:32:26] WARNING: not removing hydrogen atom without neighbors\n"
          ]
        },
        {
          "output_type": "stream",
          "name": "stdout",
          "text": [
            "Epoch [195/500] | D Loss: 0.005 | G Adv Loss: 6.163 | RL Loss: 7.564 | Mean Reward: 1.000\n"
          ]
        },
        {
          "output_type": "stream",
          "name": "stderr",
          "text": [
            "[17:32:28] Explicit valence for atom # 0 K, 3, is greater than permitted\n",
            "[17:32:29] WARNING: not removing hydrogen atom without neighbors\n",
            "[17:32:30] WARNING: not removing hydrogen atom without neighbors\n",
            "[17:32:30] WARNING: not removing hydrogen atom without neighbors\n",
            "[17:32:31] WARNING: not removing hydrogen atom without neighbors\n",
            "[17:32:31] WARNING: not removing hydrogen atom without neighbors\n"
          ]
        },
        {
          "output_type": "stream",
          "name": "stdout",
          "text": [
            "Epoch [200/500] | D Loss: 0.199 | G Adv Loss: 6.169 | RL Loss: 9.360 | Mean Reward: 1.000\n"
          ]
        },
        {
          "output_type": "stream",
          "name": "stderr",
          "text": [
            "[17:32:31] WARNING: not removing hydrogen atom without neighbors\n",
            "[17:32:31] WARNING: not removing hydrogen atom without neighbors\n",
            "[17:32:31] WARNING: not removing hydrogen atom without neighbors\n",
            "[17:32:32] Explicit valence for atom # 0 K, 3, is greater than permitted\n",
            "[17:32:32] WARNING: not removing hydrogen atom without neighbors\n",
            "[17:32:33] WARNING: not removing hydrogen atom without neighbors\n",
            "[17:32:33] WARNING: not removing hydrogen atom without neighbors\n",
            "[17:32:34] WARNING: not removing hydrogen atom without neighbors\n",
            "[17:32:35] Explicit valence for atom # 1 K, 2, is greater than permitted\n"
          ]
        },
        {
          "output_type": "stream",
          "name": "stdout",
          "text": [
            "Epoch [205/500] | D Loss: 0.005 | G Adv Loss: 6.131 | RL Loss: 8.894 | Mean Reward: 1.000\n"
          ]
        },
        {
          "output_type": "stream",
          "name": "stderr",
          "text": [
            "[17:32:37] Explicit valence for atom # 2 Na, 2, is greater than permitted\n",
            "[17:32:37] WARNING: not removing hydrogen atom without neighbors\n",
            "[17:32:37] WARNING: not removing hydrogen atom without neighbors\n",
            "[17:32:38] WARNING: not removing hydrogen atom without neighbors\n",
            "[17:32:39] Explicit valence for atom # 0 Na, 3, is greater than permitted\n",
            "[17:32:41] WARNING: not removing hydrogen atom without neighbors\n"
          ]
        },
        {
          "output_type": "stream",
          "name": "stdout",
          "text": [
            "Epoch [210/500] | D Loss: 0.005 | G Adv Loss: 6.140 | RL Loss: 10.755 | Mean Reward: 1.000\n"
          ]
        },
        {
          "output_type": "stream",
          "name": "stderr",
          "text": [
            "[17:32:41] Explicit valence for atom # 0 Br, 3, is greater than permitted\n",
            "[17:32:42] WARNING: not removing hydrogen atom without neighbors\n",
            "[17:32:42] WARNING: not removing hydrogen atom without neighbors\n",
            "[17:32:43] Explicit valence for atom # 1 K, 2, is greater than permitted\n",
            "[17:32:43] WARNING: not removing hydrogen atom without neighbors\n",
            "[17:32:44] WARNING: not removing hydrogen atom without neighbors\n",
            "[17:32:45] WARNING: not removing hydrogen atom without neighbors\n"
          ]
        },
        {
          "output_type": "stream",
          "name": "stdout",
          "text": [
            "Epoch [215/500] | D Loss: 0.005 | G Adv Loss: 6.106 | RL Loss: 7.642 | Mean Reward: 1.000\n"
          ]
        },
        {
          "output_type": "stream",
          "name": "stderr",
          "text": [
            "[17:32:46] WARNING: not removing hydrogen atom without neighbors\n",
            "[17:32:46] WARNING: not removing hydrogen atom without neighbors\n",
            "[17:32:47] WARNING: not removing hydrogen atom without neighbors\n",
            "[17:32:48] WARNING: not removing hydrogen atom without neighbors\n",
            "[17:32:49] WARNING: not removing hydrogen atom without neighbors\n",
            "[17:32:50] WARNING: not removing hydrogen atom without neighbors\n",
            "[17:32:50] WARNING: not removing hydrogen atom without neighbors\n",
            "[17:32:51] WARNING: not removing hydrogen atom without neighbors\n"
          ]
        },
        {
          "output_type": "stream",
          "name": "stdout",
          "text": [
            "Epoch [220/500] | D Loss: 0.005 | G Adv Loss: 6.132 | RL Loss: 6.667 | Mean Reward: 1.000\n"
          ]
        },
        {
          "output_type": "stream",
          "name": "stderr",
          "text": [
            "[17:32:52] WARNING: not removing hydrogen atom without neighbors\n",
            "[17:32:52] WARNING: not removing hydrogen atom without neighbors\n",
            "[17:32:53] WARNING: not removing hydrogen atom without neighbors\n",
            "[17:32:54] Explicit valence for atom # 1 K, 2, is greater than permitted\n",
            "[17:32:54] Explicit valence for atom # 0 Br, 2, is greater than permitted\n",
            "[17:32:54] WARNING: not removing hydrogen atom without neighbors\n",
            "[17:32:54] WARNING: not removing hydrogen atom without neighbors\n",
            "[17:32:54] Explicit valence for atom # 0 Na, 2, is greater than permitted\n",
            "[17:32:55] WARNING: not removing hydrogen atom without neighbors\n",
            "[17:32:55] WARNING: not removing hydrogen atom without neighbors\n",
            "[17:32:56] WARNING: not removing hydrogen atom without neighbors\n"
          ]
        },
        {
          "output_type": "stream",
          "name": "stdout",
          "text": [
            "Epoch [225/500] | D Loss: 0.005 | G Adv Loss: 6.145 | RL Loss: 5.722 | Mean Reward: 1.000\n"
          ]
        },
        {
          "output_type": "stream",
          "name": "stderr",
          "text": [
            "[17:32:57] WARNING: not removing hydrogen atom without neighbors\n",
            "[17:32:58] WARNING: not removing hydrogen atom without neighbors\n",
            "[17:32:58] WARNING: not removing hydrogen atom without neighbors\n",
            "[17:32:58] WARNING: not removing hydrogen atom without neighbors\n",
            "[17:32:58] WARNING: not removing hydrogen atom without neighbors\n",
            "[17:32:58] WARNING: not removing hydrogen atom without neighbors\n",
            "[17:32:59] WARNING: not removing hydrogen atom without neighbors\n",
            "[17:32:59] WARNING: not removing hydrogen atom without neighbors\n",
            "[17:32:59] WARNING: not removing hydrogen atom without neighbors\n",
            "[17:32:59] WARNING: not removing hydrogen atom without neighbors\n"
          ]
        },
        {
          "output_type": "stream",
          "name": "stdout",
          "text": [
            "Epoch [230/500] | D Loss: 0.004 | G Adv Loss: 6.173 | RL Loss: 7.558 | Mean Reward: 1.000\n"
          ]
        },
        {
          "output_type": "stream",
          "name": "stderr",
          "text": [
            "[17:33:03] WARNING: not removing hydrogen atom without neighbors\n",
            "[17:33:03] WARNING: not removing hydrogen atom without neighbors\n",
            "[17:33:04] WARNING: not removing hydrogen atom without neighbors\n",
            "[17:33:05] WARNING: not removing hydrogen atom without neighbors\n",
            "[17:33:05] WARNING: not removing hydrogen atom without neighbors\n",
            "[17:33:05] Explicit valence for atom # 0 Na, 2, is greater than permitted\n",
            "[17:33:05] WARNING: not removing hydrogen atom without neighbors\n"
          ]
        },
        {
          "output_type": "stream",
          "name": "stdout",
          "text": [
            "Epoch [235/500] | D Loss: 0.005 | G Adv Loss: 6.208 | RL Loss: 6.465 | Mean Reward: 1.000\n"
          ]
        },
        {
          "output_type": "stream",
          "name": "stderr",
          "text": [
            "[17:33:08] WARNING: not removing hydrogen atom without neighbors\n",
            "[17:33:09] WARNING: not removing hydrogen atom without neighbors\n",
            "[17:33:10] WARNING: not removing hydrogen atom without neighbors\n",
            "[17:33:10] WARNING: not removing hydrogen atom without neighbors\n",
            "[17:33:10] WARNING: not removing hydrogen atom without neighbors\n"
          ]
        },
        {
          "output_type": "stream",
          "name": "stdout",
          "text": [
            "Epoch [240/500] | D Loss: 0.004 | G Adv Loss: 6.247 | RL Loss: 8.156 | Mean Reward: 1.000\n"
          ]
        },
        {
          "output_type": "stream",
          "name": "stderr",
          "text": [
            "[17:33:11] WARNING: not removing hydrogen atom without neighbors\n",
            "[17:33:12] WARNING: not removing hydrogen atom without neighbors\n",
            "[17:33:12] WARNING: not removing hydrogen atom without neighbors\n",
            "[17:33:14] WARNING: not removing hydrogen atom without neighbors\n",
            "[17:33:15] WARNING: not removing hydrogen atom without neighbors\n",
            "[17:33:16] WARNING: not removing hydrogen atom without neighbors\n"
          ]
        },
        {
          "output_type": "stream",
          "name": "stdout",
          "text": [
            "Epoch [245/500] | D Loss: 0.004 | G Adv Loss: 6.268 | RL Loss: 6.646 | Mean Reward: 1.000\n"
          ]
        },
        {
          "output_type": "stream",
          "name": "stderr",
          "text": [
            "[17:33:16] WARNING: not removing hydrogen atom without neighbors\n",
            "[17:33:18] WARNING: not removing hydrogen atom without neighbors\n",
            "[17:33:18] WARNING: not removing hydrogen atom without neighbors\n",
            "[17:33:18] WARNING: not removing hydrogen atom without neighbors\n",
            "[17:33:19] WARNING: not removing hydrogen atom without neighbors\n",
            "[17:33:20] WARNING: not removing hydrogen atom without neighbors\n",
            "[17:33:20] WARNING: not removing hydrogen atom without neighbors\n",
            "[17:33:20] WARNING: not removing hydrogen atom without neighbors\n",
            "[17:33:21] WARNING: not removing hydrogen atom without neighbors\n",
            "[17:33:21] WARNING: not removing hydrogen atom without neighbors\n"
          ]
        },
        {
          "output_type": "stream",
          "name": "stdout",
          "text": [
            "Epoch [250/500] | D Loss: 0.004 | G Adv Loss: 6.231 | RL Loss: 7.465 | Mean Reward: 1.000\n"
          ]
        },
        {
          "output_type": "stream",
          "name": "stderr",
          "text": [
            "[17:33:21] WARNING: not removing hydrogen atom without neighbors\n",
            "[17:33:22] WARNING: not removing hydrogen atom without neighbors\n",
            "[17:33:22] Explicit valence for atom # 0 K, 2, is greater than permitted\n",
            "[17:33:22] WARNING: not removing hydrogen atom without neighbors\n",
            "[17:33:22] WARNING: not removing hydrogen atom without neighbors\n",
            "[17:33:23] WARNING: not removing hydrogen atom without neighbors\n",
            "[17:33:23] Explicit valence for atom # 0 Cl, 2, is greater than permitted\n",
            "[17:33:23] WARNING: not removing hydrogen atom without neighbors\n",
            "[17:33:24] WARNING: not removing hydrogen atom without neighbors\n",
            "[17:33:24] WARNING: not removing hydrogen atom without neighbors\n",
            "[17:33:24] WARNING: not removing hydrogen atom without neighbors\n"
          ]
        },
        {
          "output_type": "stream",
          "name": "stdout",
          "text": [
            "Epoch [255/500] | D Loss: 0.004 | G Adv Loss: 6.227 | RL Loss: 8.724 | Mean Reward: 1.000\n"
          ]
        },
        {
          "output_type": "stream",
          "name": "stderr",
          "text": [
            "[17:33:27] WARNING: not removing hydrogen atom without neighbors\n",
            "[17:33:29] WARNING: not removing hydrogen atom without neighbors\n",
            "[17:33:29] WARNING: not removing hydrogen atom without neighbors\n",
            "[17:33:30] WARNING: not removing hydrogen atom without neighbors\n",
            "[17:33:31] WARNING: not removing hydrogen atom without neighbors\n"
          ]
        },
        {
          "output_type": "stream",
          "name": "stdout",
          "text": [
            "Epoch [260/500] | D Loss: 0.004 | G Adv Loss: 6.212 | RL Loss: 6.191 | Mean Reward: 1.000\n"
          ]
        },
        {
          "output_type": "stream",
          "name": "stderr",
          "text": [
            "[17:33:31] WARNING: not removing hydrogen atom without neighbors\n",
            "[17:33:32] WARNING: not removing hydrogen atom without neighbors\n",
            "[17:33:33] WARNING: not removing hydrogen atom without neighbors\n",
            "[17:33:34] WARNING: not removing hydrogen atom without neighbors\n",
            "[17:33:34] WARNING: not removing hydrogen atom without neighbors\n"
          ]
        },
        {
          "output_type": "stream",
          "name": "stdout",
          "text": [
            "Epoch [265/500] | D Loss: 0.004 | G Adv Loss: 6.268 | RL Loss: 5.545 | Mean Reward: 1.000\n"
          ]
        },
        {
          "output_type": "stream",
          "name": "stderr",
          "text": [
            "[17:33:36] WARNING: not removing hydrogen atom without neighbors\n",
            "[17:33:37] WARNING: not removing hydrogen atom without neighbors\n",
            "[17:33:37] WARNING: not removing hydrogen atom without neighbors\n",
            "[17:33:37] WARNING: not removing hydrogen atom without neighbors\n",
            "[17:33:39] WARNING: not removing hydrogen atom without neighbors\n",
            "[17:33:39] WARNING: not removing hydrogen atom without neighbors\n",
            "[17:33:40] WARNING: not removing hydrogen atom without neighbors\n"
          ]
        },
        {
          "output_type": "stream",
          "name": "stdout",
          "text": [
            "Epoch [270/500] | D Loss: 0.004 | G Adv Loss: 6.304 | RL Loss: 6.407 | Mean Reward: 1.000\n"
          ]
        },
        {
          "output_type": "stream",
          "name": "stderr",
          "text": [
            "[17:33:41] WARNING: not removing hydrogen atom without neighbors\n",
            "[17:33:41] WARNING: not removing hydrogen atom without neighbors\n",
            "[17:33:42] WARNING: not removing hydrogen atom without neighbors\n",
            "[17:33:44] WARNING: not removing hydrogen atom without neighbors\n",
            "[17:33:45] WARNING: not removing hydrogen atom without neighbors\n",
            "[17:33:45] WARNING: not removing hydrogen atom without neighbors\n",
            "[17:33:45] WARNING: not removing hydrogen atom without neighbors\n",
            "[17:33:45] WARNING: not removing hydrogen atom without neighbors\n"
          ]
        },
        {
          "output_type": "stream",
          "name": "stdout",
          "text": [
            "Epoch [275/500] | D Loss: 0.003 | G Adv Loss: 6.342 | RL Loss: 4.755 | Mean Reward: 1.000\n"
          ]
        },
        {
          "output_type": "stream",
          "name": "stderr",
          "text": [
            "[17:33:46] WARNING: not removing hydrogen atom without neighbors\n",
            "[17:33:46] WARNING: not removing hydrogen atom without neighbors\n",
            "[17:33:48] WARNING: not removing hydrogen atom without neighbors\n",
            "[17:33:49] WARNING: not removing hydrogen atom without neighbors\n",
            "[17:33:49] WARNING: not removing hydrogen atom without neighbors\n",
            "[17:33:50] WARNING: not removing hydrogen atom without neighbors\n"
          ]
        },
        {
          "output_type": "stream",
          "name": "stdout",
          "text": [
            "Epoch [280/500] | D Loss: 0.003 | G Adv Loss: 6.381 | RL Loss: 4.018 | Mean Reward: 1.000\n"
          ]
        },
        {
          "output_type": "stream",
          "name": "stderr",
          "text": [
            "[17:33:51] WARNING: not removing hydrogen atom without neighbors\n",
            "[17:33:51] WARNING: not removing hydrogen atom without neighbors\n",
            "[17:33:51] WARNING: not removing hydrogen atom without neighbors\n",
            "[17:33:51] WARNING: not removing hydrogen atom without neighbors\n",
            "[17:33:52] WARNING: not removing hydrogen atom without neighbors\n",
            "[17:33:52] WARNING: not removing hydrogen atom without neighbors\n",
            "[17:33:53] WARNING: not removing hydrogen atom without neighbors\n",
            "[17:33:53] WARNING: not removing hydrogen atom without neighbors\n",
            "[17:33:54] WARNING: not removing hydrogen atom without neighbors\n",
            "[17:33:54] WARNING: not removing hydrogen atom without neighbors\n",
            "[17:33:54] WARNING: not removing hydrogen atom without neighbors\n",
            "[17:33:54] WARNING: not removing hydrogen atom without neighbors\n",
            "[17:33:55] WARNING: not removing hydrogen atom without neighbors\n",
            "[17:33:55] WARNING: not removing hydrogen atom without neighbors\n",
            "[17:33:55] WARNING: not removing hydrogen atom without neighbors\n",
            "[17:33:55] WARNING: not removing hydrogen atom without neighbors\n",
            "[17:33:55] WARNING: not removing hydrogen atom without neighbors\n"
          ]
        },
        {
          "output_type": "stream",
          "name": "stdout",
          "text": [
            "Epoch [285/500] | D Loss: 0.003 | G Adv Loss: 6.420 | RL Loss: 4.094 | Mean Reward: 1.000\n"
          ]
        },
        {
          "output_type": "stream",
          "name": "stderr",
          "text": [
            "[17:33:56] WARNING: not removing hydrogen atom without neighbors\n",
            "[17:33:56] WARNING: not removing hydrogen atom without neighbors\n",
            "[17:33:56] WARNING: not removing hydrogen atom without neighbors\n",
            "[17:33:57] WARNING: not removing hydrogen atom without neighbors\n",
            "[17:33:57] WARNING: not removing hydrogen atom without neighbors\n",
            "[17:33:58] WARNING: not removing hydrogen atom without neighbors\n",
            "[17:33:58] WARNING: not removing hydrogen atom without neighbors\n",
            "[17:33:58] WARNING: not removing hydrogen atom without neighbors\n",
            "[17:33:58] WARNING: not removing hydrogen atom without neighbors\n",
            "[17:33:58] WARNING: not removing hydrogen atom without neighbors\n",
            "[17:33:58] WARNING: not removing hydrogen atom without neighbors\n",
            "[17:33:58] WARNING: not removing hydrogen atom without neighbors\n",
            "[17:33:59] WARNING: not removing hydrogen atom without neighbors\n",
            "[17:33:59] WARNING: not removing hydrogen atom without neighbors\n",
            "[17:33:59] WARNING: not removing hydrogen atom without neighbors\n",
            "[17:34:00] WARNING: not removing hydrogen atom without neighbors\n"
          ]
        },
        {
          "output_type": "stream",
          "name": "stdout",
          "text": [
            "Epoch [290/500] | D Loss: 0.003 | G Adv Loss: 6.458 | RL Loss: 2.877 | Mean Reward: 1.000\n"
          ]
        },
        {
          "output_type": "stream",
          "name": "stderr",
          "text": [
            "[17:34:01] WARNING: not removing hydrogen atom without neighbors\n",
            "[17:34:01] WARNING: not removing hydrogen atom without neighbors\n",
            "[17:34:01] WARNING: not removing hydrogen atom without neighbors\n",
            "[17:34:01] WARNING: not removing hydrogen atom without neighbors\n",
            "[17:34:01] WARNING: not removing hydrogen atom without neighbors\n",
            "[17:34:01] WARNING: not removing hydrogen atom without neighbors\n",
            "[17:34:02] WARNING: not removing hydrogen atom without neighbors\n",
            "[17:34:03] WARNING: not removing hydrogen atom without neighbors\n",
            "[17:34:04] WARNING: not removing hydrogen atom without neighbors\n",
            "[17:34:04] WARNING: not removing hydrogen atom without neighbors\n"
          ]
        },
        {
          "output_type": "stream",
          "name": "stdout",
          "text": [
            "Epoch [295/500] | D Loss: 0.003 | G Adv Loss: 6.497 | RL Loss: 3.069 | Mean Reward: 1.000\n"
          ]
        },
        {
          "output_type": "stream",
          "name": "stderr",
          "text": [
            "[17:34:06] WARNING: not removing hydrogen atom without neighbors\n",
            "[17:34:06] WARNING: not removing hydrogen atom without neighbors\n",
            "[17:34:07] WARNING: not removing hydrogen atom without neighbors\n",
            "[17:34:07] WARNING: not removing hydrogen atom without neighbors\n",
            "[17:34:08] WARNING: not removing hydrogen atom without neighbors\n",
            "[17:34:08] WARNING: not removing hydrogen atom without neighbors\n",
            "[17:34:09] WARNING: not removing hydrogen atom without neighbors\n",
            "[17:34:09] WARNING: not removing hydrogen atom without neighbors\n",
            "[17:34:09] WARNING: not removing hydrogen atom without neighbors\n",
            "[17:34:10] WARNING: not removing hydrogen atom without neighbors\n",
            "[17:34:10] WARNING: not removing hydrogen atom without neighbors\n"
          ]
        },
        {
          "output_type": "stream",
          "name": "stdout",
          "text": [
            "Epoch [300/500] | D Loss: 0.003 | G Adv Loss: 6.536 | RL Loss: 2.298 | Mean Reward: 1.000\n"
          ]
        },
        {
          "output_type": "stream",
          "name": "stderr",
          "text": [
            "[17:34:11] WARNING: not removing hydrogen atom without neighbors\n",
            "[17:34:13] WARNING: not removing hydrogen atom without neighbors\n",
            "[17:34:13] WARNING: not removing hydrogen atom without neighbors\n",
            "[17:34:13] WARNING: not removing hydrogen atom without neighbors\n"
          ]
        },
        {
          "output_type": "stream",
          "name": "stdout",
          "text": [
            "Epoch [305/500] | D Loss: 0.003 | G Adv Loss: 6.571 | RL Loss: 3.281 | Mean Reward: 1.000\n"
          ]
        },
        {
          "output_type": "stream",
          "name": "stderr",
          "text": [
            "[17:34:15] WARNING: not removing hydrogen atom without neighbors\n",
            "[17:34:15] WARNING: not removing hydrogen atom without neighbors\n",
            "[17:34:15] WARNING: not removing hydrogen atom without neighbors\n",
            "[17:34:15] WARNING: not removing hydrogen atom without neighbors\n",
            "[17:34:16] WARNING: not removing hydrogen atom without neighbors\n",
            "[17:34:16] WARNING: not removing hydrogen atom without neighbors\n",
            "[17:34:16] WARNING: not removing hydrogen atom without neighbors\n",
            "[17:34:17] WARNING: not removing hydrogen atom without neighbors\n",
            "[17:34:17] WARNING: not removing hydrogen atom without neighbors\n"
          ]
        },
        {
          "output_type": "stream",
          "name": "stdout",
          "text": [
            "Epoch [310/500] | D Loss: 0.003 | G Adv Loss: 6.607 | RL Loss: 1.944 | Mean Reward: 1.000\n"
          ]
        },
        {
          "output_type": "stream",
          "name": "stderr",
          "text": [
            "[17:34:20] WARNING: not removing hydrogen atom without neighbors\n",
            "[17:34:22] WARNING: not removing hydrogen atom without neighbors\n",
            "[17:34:22] WARNING: not removing hydrogen atom without neighbors\n",
            "[17:34:23] WARNING: not removing hydrogen atom without neighbors\n",
            "[17:34:24] WARNING: not removing hydrogen atom without neighbors\n"
          ]
        },
        {
          "output_type": "stream",
          "name": "stdout",
          "text": [
            "Epoch [315/500] | D Loss: 0.003 | G Adv Loss: 6.586 | RL Loss: 2.133 | Mean Reward: 1.000\n"
          ]
        },
        {
          "output_type": "stream",
          "name": "stderr",
          "text": [
            "[17:34:25] WARNING: not removing hydrogen atom without neighbors\n",
            "[17:34:28] WARNING: not removing hydrogen atom without neighbors\n",
            "[17:34:28] WARNING: not removing hydrogen atom without neighbors\n",
            "[17:34:28] WARNING: not removing hydrogen atom without neighbors\n"
          ]
        },
        {
          "output_type": "stream",
          "name": "stdout",
          "text": [
            "Epoch [320/500] | D Loss: 0.003 | G Adv Loss: 6.544 | RL Loss: 2.497 | Mean Reward: 1.000\n"
          ]
        },
        {
          "output_type": "stream",
          "name": "stderr",
          "text": [
            "[17:34:30] WARNING: not removing hydrogen atom without neighbors\n",
            "[17:34:30] WARNING: not removing hydrogen atom without neighbors\n",
            "[17:34:31] WARNING: not removing hydrogen atom without neighbors\n",
            "[17:34:32] WARNING: not removing hydrogen atom without neighbors\n",
            "[17:34:33] WARNING: not removing hydrogen atom without neighbors\n",
            "[17:34:33] WARNING: not removing hydrogen atom without neighbors\n",
            "[17:34:33] WARNING: not removing hydrogen atom without neighbors\n",
            "[17:34:34] WARNING: not removing hydrogen atom without neighbors\n"
          ]
        },
        {
          "output_type": "stream",
          "name": "stdout",
          "text": [
            "Epoch [325/500] | D Loss: 0.003 | G Adv Loss: 6.532 | RL Loss: 2.186 | Mean Reward: 1.000\n"
          ]
        },
        {
          "output_type": "stream",
          "name": "stderr",
          "text": [
            "[17:34:35] WARNING: not removing hydrogen atom without neighbors\n",
            "[17:34:35] WARNING: not removing hydrogen atom without neighbors\n",
            "[17:34:35] WARNING: not removing hydrogen atom without neighbors\n",
            "[17:34:36] WARNING: not removing hydrogen atom without neighbors\n",
            "[17:34:37] WARNING: not removing hydrogen atom without neighbors\n",
            "[17:34:37] WARNING: not removing hydrogen atom without neighbors\n",
            "[17:34:38] WARNING: not removing hydrogen atom without neighbors\n",
            "[17:34:38] WARNING: not removing hydrogen atom without neighbors\n"
          ]
        },
        {
          "output_type": "stream",
          "name": "stdout",
          "text": [
            "Epoch [330/500] | D Loss: 0.003 | G Adv Loss: 6.542 | RL Loss: 2.047 | Mean Reward: 1.000\n"
          ]
        },
        {
          "output_type": "stream",
          "name": "stderr",
          "text": [
            "[17:34:40] WARNING: not removing hydrogen atom without neighbors\n",
            "[17:34:40] WARNING: not removing hydrogen atom without neighbors\n",
            "[17:34:40] WARNING: not removing hydrogen atom without neighbors\n",
            "[17:34:42] WARNING: not removing hydrogen atom without neighbors\n",
            "[17:34:42] WARNING: not removing hydrogen atom without neighbors\n",
            "[17:34:44] WARNING: not removing hydrogen atom without neighbors\n",
            "[17:34:45] WARNING: not removing hydrogen atom without neighbors\n",
            "[17:34:46] WARNING: not removing hydrogen atom without neighbors\n"
          ]
        },
        {
          "output_type": "stream",
          "name": "stdout",
          "text": [
            "Epoch [335/500] | D Loss: 0.003 | G Adv Loss: 6.562 | RL Loss: 2.780 | Mean Reward: 1.000\n"
          ]
        },
        {
          "output_type": "stream",
          "name": "stderr",
          "text": [
            "[17:34:49] WARNING: not removing hydrogen atom without neighbors\n",
            "[17:34:49] WARNING: not removing hydrogen atom without neighbors\n",
            "[17:34:50] WARNING: not removing hydrogen atom without neighbors\n"
          ]
        },
        {
          "output_type": "stream",
          "name": "stdout",
          "text": [
            "Epoch [340/500] | D Loss: 0.003 | G Adv Loss: 6.588 | RL Loss: 1.923 | Mean Reward: 1.000\n"
          ]
        },
        {
          "output_type": "stream",
          "name": "stderr",
          "text": [
            "[17:34:52] WARNING: not removing hydrogen atom without neighbors\n"
          ]
        },
        {
          "output_type": "stream",
          "name": "stdout",
          "text": [
            "Epoch [345/500] | D Loss: 0.002 | G Adv Loss: 6.615 | RL Loss: 2.363 | Mean Reward: 1.000\n"
          ]
        },
        {
          "output_type": "stream",
          "name": "stderr",
          "text": [
            "[17:34:59] WARNING: not removing hydrogen atom without neighbors\n",
            "[17:35:00] WARNING: not removing hydrogen atom without neighbors\n",
            "[17:35:00] WARNING: not removing hydrogen atom without neighbors\n",
            "[17:35:00] WARNING: not removing hydrogen atom without neighbors\n"
          ]
        },
        {
          "output_type": "stream",
          "name": "stdout",
          "text": [
            "Epoch [350/500] | D Loss: 0.002 | G Adv Loss: 6.649 | RL Loss: 3.692 | Mean Reward: 1.000\n"
          ]
        },
        {
          "output_type": "stream",
          "name": "stderr",
          "text": [
            "[17:35:05] WARNING: not removing hydrogen atom without neighbors\n",
            "[17:35:05] WARNING: not removing hydrogen atom without neighbors\n",
            "[17:35:06] WARNING: not removing hydrogen atom without neighbors\n",
            "[17:35:06] WARNING: not removing hydrogen atom without neighbors\n"
          ]
        },
        {
          "output_type": "stream",
          "name": "stdout",
          "text": [
            "Epoch [355/500] | D Loss: 0.002 | G Adv Loss: 6.682 | RL Loss: 4.197 | Mean Reward: 1.000\n"
          ]
        },
        {
          "output_type": "stream",
          "name": "stderr",
          "text": [
            "[17:35:10] WARNING: not removing hydrogen atom without neighbors\n",
            "[17:35:11] WARNING: not removing hydrogen atom without neighbors\n",
            "[17:35:11] WARNING: not removing hydrogen atom without neighbors\n",
            "[17:35:12] WARNING: not removing hydrogen atom without neighbors\n"
          ]
        },
        {
          "output_type": "stream",
          "name": "stdout",
          "text": [
            "Epoch [360/500] | D Loss: 0.002 | G Adv Loss: 6.679 | RL Loss: 7.269 | Mean Reward: 1.000\n"
          ]
        },
        {
          "output_type": "stream",
          "name": "stderr",
          "text": [
            "[17:35:14] WARNING: not removing hydrogen atom without neighbors\n",
            "[17:35:15] WARNING: not removing hydrogen atom without neighbors\n",
            "[17:35:16] WARNING: not removing hydrogen atom without neighbors\n"
          ]
        },
        {
          "output_type": "stream",
          "name": "stdout",
          "text": [
            "Epoch [365/500] | D Loss: 0.003 | G Adv Loss: 6.646 | RL Loss: 11.886 | Mean Reward: 1.000\n"
          ]
        },
        {
          "output_type": "stream",
          "name": "stderr",
          "text": [
            "[17:35:17] WARNING: not removing hydrogen atom without neighbors\n",
            "[17:35:20] WARNING: not removing hydrogen atom without neighbors\n"
          ]
        },
        {
          "output_type": "stream",
          "name": "stdout",
          "text": [
            "Epoch [370/500] | D Loss: 0.002 | G Adv Loss: 6.781 | RL Loss: 3.412 | Mean Reward: 1.000\n"
          ]
        },
        {
          "output_type": "stream",
          "name": "stderr",
          "text": [
            "[17:35:23] Explicit valence for atom # 1 K, 2, is greater than permitted\n",
            "[17:35:23] WARNING: not removing hydrogen atom without neighbors\n",
            "[17:35:24] WARNING: not removing hydrogen atom without neighbors\n",
            "[17:35:24] WARNING: not removing hydrogen atom without neighbors\n",
            "[17:35:26] WARNING: not removing hydrogen atom without neighbors\n",
            "[17:35:26] WARNING: not removing hydrogen atom without neighbors\n"
          ]
        },
        {
          "output_type": "stream",
          "name": "stdout",
          "text": [
            "Epoch [375/500] | D Loss: 0.002 | G Adv Loss: 6.813 | RL Loss: 3.348 | Mean Reward: 1.000\n"
          ]
        },
        {
          "output_type": "stream",
          "name": "stderr",
          "text": [
            "[17:35:27] WARNING: not removing hydrogen atom without neighbors\n",
            "[17:35:28] WARNING: not removing hydrogen atom without neighbors\n",
            "[17:35:28] WARNING: not removing hydrogen atom without neighbors\n",
            "[17:35:28] WARNING: not removing hydrogen atom without neighbors\n",
            "[17:35:28] WARNING: not removing hydrogen atom without neighbors\n",
            "[17:35:28] WARNING: not removing hydrogen atom without neighbors\n",
            "[17:35:29] WARNING: not removing hydrogen atom without neighbors\n",
            "[17:35:30] WARNING: not removing hydrogen atom without neighbors\n"
          ]
        },
        {
          "output_type": "stream",
          "name": "stdout",
          "text": [
            "Epoch [380/500] | D Loss: 0.002 | G Adv Loss: 6.844 | RL Loss: 2.475 | Mean Reward: 1.000\n"
          ]
        },
        {
          "output_type": "stream",
          "name": "stderr",
          "text": [
            "[17:35:32] WARNING: not removing hydrogen atom without neighbors\n",
            "[17:35:35] WARNING: not removing hydrogen atom without neighbors\n",
            "[17:35:35] WARNING: not removing hydrogen atom without neighbors\n"
          ]
        },
        {
          "output_type": "stream",
          "name": "stdout",
          "text": [
            "Epoch [385/500] | D Loss: 0.002 | G Adv Loss: 6.858 | RL Loss: 2.805 | Mean Reward: 1.000\n"
          ]
        },
        {
          "output_type": "stream",
          "name": "stderr",
          "text": [
            "[17:35:37] WARNING: not removing hydrogen atom without neighbors\n",
            "[17:35:37] WARNING: not removing hydrogen atom without neighbors\n",
            "[17:35:38] WARNING: not removing hydrogen atom without neighbors\n",
            "[17:35:38] WARNING: not removing hydrogen atom without neighbors\n",
            "[17:35:39] WARNING: not removing hydrogen atom without neighbors\n",
            "[17:35:39] WARNING: not removing hydrogen atom without neighbors\n",
            "[17:35:40] WARNING: not removing hydrogen atom without neighbors\n",
            "[17:35:41] WARNING: not removing hydrogen atom without neighbors\n"
          ]
        },
        {
          "output_type": "stream",
          "name": "stdout",
          "text": [
            "Epoch [390/500] | D Loss: 0.002 | G Adv Loss: 6.876 | RL Loss: 3.040 | Mean Reward: 1.000\n"
          ]
        },
        {
          "output_type": "stream",
          "name": "stderr",
          "text": [
            "[17:35:42] WARNING: not removing hydrogen atom without neighbors\n",
            "[17:35:42] WARNING: not removing hydrogen atom without neighbors\n",
            "[17:35:43] WARNING: not removing hydrogen atom without neighbors\n",
            "[17:35:43] WARNING: not removing hydrogen atom without neighbors\n",
            "[17:35:44] WARNING: not removing hydrogen atom without neighbors\n",
            "[17:35:45] WARNING: not removing hydrogen atom without neighbors\n"
          ]
        },
        {
          "output_type": "stream",
          "name": "stdout",
          "text": [
            "Epoch [395/500] | D Loss: 0.002 | G Adv Loss: 6.812 | RL Loss: 2.231 | Mean Reward: 1.000\n"
          ]
        },
        {
          "output_type": "stream",
          "name": "stderr",
          "text": [
            "[17:35:46] WARNING: not removing hydrogen atom without neighbors\n",
            "[17:35:46] WARNING: not removing hydrogen atom without neighbors\n",
            "[17:35:46] WARNING: not removing hydrogen atom without neighbors\n",
            "[17:35:48] WARNING: not removing hydrogen atom without neighbors\n",
            "[17:35:50] WARNING: not removing hydrogen atom without neighbors\n"
          ]
        },
        {
          "output_type": "stream",
          "name": "stdout",
          "text": [
            "Epoch [400/500] | D Loss: 0.002 | G Adv Loss: 6.836 | RL Loss: 2.439 | Mean Reward: 1.000\n"
          ]
        },
        {
          "output_type": "stream",
          "name": "stderr",
          "text": [
            "[17:35:53] WARNING: not removing hydrogen atom without neighbors\n",
            "[17:35:53] WARNING: not removing hydrogen atom without neighbors\n",
            "[17:35:55] WARNING: not removing hydrogen atom without neighbors\n",
            "[17:35:55] WARNING: not removing hydrogen atom without neighbors\n"
          ]
        },
        {
          "output_type": "stream",
          "name": "stdout",
          "text": [
            "Epoch [405/500] | D Loss: 0.002 | G Adv Loss: 6.817 | RL Loss: 3.306 | Mean Reward: 1.000\n"
          ]
        },
        {
          "output_type": "stream",
          "name": "stderr",
          "text": [
            "[17:35:56] WARNING: not removing hydrogen atom without neighbors\n",
            "[17:36:01] WARNING: not removing hydrogen atom without neighbors\n"
          ]
        },
        {
          "output_type": "stream",
          "name": "stdout",
          "text": [
            "Epoch [410/500] | D Loss: 0.002 | G Adv Loss: 6.730 | RL Loss: 2.624 | Mean Reward: 1.000\n"
          ]
        },
        {
          "output_type": "stream",
          "name": "stderr",
          "text": [
            "[17:36:02] WARNING: not removing hydrogen atom without neighbors\n",
            "[17:36:02] WARNING: not removing hydrogen atom without neighbors\n",
            "[17:36:03] WARNING: not removing hydrogen atom without neighbors\n",
            "[17:36:04] WARNING: not removing hydrogen atom without neighbors\n",
            "[17:36:04] WARNING: not removing hydrogen atom without neighbors\n"
          ]
        },
        {
          "output_type": "stream",
          "name": "stdout",
          "text": [
            "Epoch [415/500] | D Loss: 0.213 | G Adv Loss: 6.647 | RL Loss: 2.058 | Mean Reward: 1.000\n"
          ]
        },
        {
          "output_type": "stream",
          "name": "stderr",
          "text": [
            "[17:36:08] WARNING: not removing hydrogen atom without neighbors\n",
            "[17:36:08] WARNING: not removing hydrogen atom without neighbors\n",
            "[17:36:10] WARNING: not removing hydrogen atom without neighbors\n"
          ]
        },
        {
          "output_type": "stream",
          "name": "stdout",
          "text": [
            "Epoch [420/500] | D Loss: 0.003 | G Adv Loss: 6.450 | RL Loss: 2.147 | Mean Reward: 1.000\n"
          ]
        },
        {
          "output_type": "stream",
          "name": "stderr",
          "text": [
            "[17:36:11] WARNING: not removing hydrogen atom without neighbors\n",
            "[17:36:11] WARNING: not removing hydrogen atom without neighbors\n",
            "[17:36:12] WARNING: not removing hydrogen atom without neighbors\n",
            "[17:36:15] WARNING: not removing hydrogen atom without neighbors\n"
          ]
        },
        {
          "output_type": "stream",
          "name": "stdout",
          "text": [
            "Epoch [425/500] | D Loss: 0.003 | G Adv Loss: 6.337 | RL Loss: 2.430 | Mean Reward: 1.000\n"
          ]
        },
        {
          "output_type": "stream",
          "name": "stderr",
          "text": [
            "[17:36:17] WARNING: not removing hydrogen atom without neighbors\n",
            "[17:36:18] WARNING: not removing hydrogen atom without neighbors\n",
            "[17:36:20] WARNING: not removing hydrogen atom without neighbors\n"
          ]
        },
        {
          "output_type": "stream",
          "name": "stdout",
          "text": [
            "Epoch [430/500] | D Loss: 0.003 | G Adv Loss: 6.280 | RL Loss: 2.359 | Mean Reward: 1.000\n"
          ]
        },
        {
          "output_type": "stream",
          "name": "stderr",
          "text": [
            "[17:36:21] WARNING: not removing hydrogen atom without neighbors\n",
            "[17:36:22] WARNING: not removing hydrogen atom without neighbors\n",
            "[17:36:23] WARNING: not removing hydrogen atom without neighbors\n",
            "[17:36:23] WARNING: not removing hydrogen atom without neighbors\n"
          ]
        },
        {
          "output_type": "stream",
          "name": "stdout",
          "text": [
            "Epoch [435/500] | D Loss: 0.003 | G Adv Loss: 6.247 | RL Loss: 6.246 | Mean Reward: 1.000\n"
          ]
        },
        {
          "output_type": "stream",
          "name": "stderr",
          "text": [
            "[17:36:27] WARNING: not removing hydrogen atom without neighbors\n",
            "[17:36:27] WARNING: not removing hydrogen atom without neighbors\n",
            "[17:36:29] WARNING: not removing hydrogen atom without neighbors\n"
          ]
        },
        {
          "output_type": "stream",
          "name": "stdout",
          "text": [
            "Epoch [440/500] | D Loss: 0.003 | G Adv Loss: 6.234 | RL Loss: 5.852 | Mean Reward: 1.000\n"
          ]
        },
        {
          "output_type": "stream",
          "name": "stderr",
          "text": [
            "[17:36:30] WARNING: not removing hydrogen atom without neighbors\n",
            "[17:36:31] WARNING: not removing hydrogen atom without neighbors\n",
            "[17:36:32] WARNING: not removing hydrogen atom without neighbors\n",
            "[17:36:34] WARNING: not removing hydrogen atom without neighbors\n"
          ]
        },
        {
          "output_type": "stream",
          "name": "stdout",
          "text": [
            "Epoch [445/500] | D Loss: 0.003 | G Adv Loss: 6.218 | RL Loss: 3.871 | Mean Reward: 1.000\n"
          ]
        },
        {
          "output_type": "stream",
          "name": "stderr",
          "text": [
            "[17:36:35] WARNING: not removing hydrogen atom without neighbors\n",
            "[17:36:36] WARNING: not removing hydrogen atom without neighbors\n",
            "[17:36:37] WARNING: not removing hydrogen atom without neighbors\n",
            "[17:36:37] WARNING: not removing hydrogen atom without neighbors\n",
            "[17:36:39] WARNING: not removing hydrogen atom without neighbors\n",
            "[17:36:39] WARNING: not removing hydrogen atom without neighbors\n",
            "[17:36:39] WARNING: not removing hydrogen atom without neighbors\n",
            "[17:36:39] WARNING: not removing hydrogen atom without neighbors\n"
          ]
        },
        {
          "output_type": "stream",
          "name": "stdout",
          "text": [
            "Epoch [450/500] | D Loss: 0.198 | G Adv Loss: 6.234 | RL Loss: 4.195 | Mean Reward: 1.000\n"
          ]
        },
        {
          "output_type": "stream",
          "name": "stderr",
          "text": [
            "[17:36:43] WARNING: not removing hydrogen atom without neighbors\n",
            "[17:36:43] WARNING: not removing hydrogen atom without neighbors\n",
            "[17:36:44] WARNING: not removing hydrogen atom without neighbors\n"
          ]
        },
        {
          "output_type": "stream",
          "name": "stdout",
          "text": [
            "Epoch [455/500] | D Loss: 0.191 | G Adv Loss: 6.197 | RL Loss: 3.391 | Mean Reward: 1.000\n"
          ]
        },
        {
          "output_type": "stream",
          "name": "stderr",
          "text": [
            "[17:36:45] WARNING: not removing hydrogen atom without neighbors\n",
            "[17:36:46] WARNING: not removing hydrogen atom without neighbors\n",
            "[17:36:46] WARNING: not removing hydrogen atom without neighbors\n",
            "[17:36:46] WARNING: not removing hydrogen atom without neighbors\n",
            "[17:36:47] WARNING: not removing hydrogen atom without neighbors\n",
            "[17:36:48] WARNING: not removing hydrogen atom without neighbors\n"
          ]
        },
        {
          "output_type": "stream",
          "name": "stdout",
          "text": [
            "Epoch [460/500] | D Loss: 0.004 | G Adv Loss: 5.923 | RL Loss: 4.252 | Mean Reward: 1.000\n"
          ]
        },
        {
          "output_type": "stream",
          "name": "stderr",
          "text": [
            "[17:36:50] WARNING: not removing hydrogen atom without neighbors\n",
            "[17:36:50] WARNING: not removing hydrogen atom without neighbors\n",
            "[17:36:51] WARNING: not removing hydrogen atom without neighbors\n",
            "[17:36:53] WARNING: not removing hydrogen atom without neighbors\n",
            "[17:36:53] WARNING: not removing hydrogen atom without neighbors\n",
            "[17:36:54] WARNING: not removing hydrogen atom without neighbors\n",
            "[17:36:54] WARNING: not removing hydrogen atom without neighbors\n"
          ]
        },
        {
          "output_type": "stream",
          "name": "stdout",
          "text": [
            "Epoch [465/500] | D Loss: 0.167 | G Adv Loss: 5.825 | RL Loss: 8.315 | Mean Reward: 1.000\n"
          ]
        },
        {
          "output_type": "stream",
          "name": "stderr",
          "text": [
            "[17:36:55] WARNING: not removing hydrogen atom without neighbors\n",
            "[17:36:56] WARNING: not removing hydrogen atom without neighbors\n",
            "[17:36:57] WARNING: not removing hydrogen atom without neighbors\n",
            "[17:36:57] WARNING: not removing hydrogen atom without neighbors\n",
            "[17:36:57] WARNING: not removing hydrogen atom without neighbors\n",
            "[17:36:58] WARNING: not removing hydrogen atom without neighbors\n"
          ]
        },
        {
          "output_type": "stream",
          "name": "stdout",
          "text": [
            "Epoch [470/500] | D Loss: 0.008 | G Adv Loss: 5.877 | RL Loss: 7.808 | Mean Reward: 1.000\n"
          ]
        },
        {
          "output_type": "stream",
          "name": "stderr",
          "text": [
            "[17:37:00] WARNING: not removing hydrogen atom without neighbors\n",
            "[17:37:01] WARNING: not removing hydrogen atom without neighbors\n",
            "[17:37:02] WARNING: not removing hydrogen atom without neighbors\n",
            "[17:37:04] WARNING: not removing hydrogen atom without neighbors\n",
            "[17:37:05] WARNING: not removing hydrogen atom without neighbors\n"
          ]
        },
        {
          "output_type": "stream",
          "name": "stdout",
          "text": [
            "Epoch [475/500] | D Loss: 0.275 | G Adv Loss: 5.783 | RL Loss: 6.391 | Mean Reward: 1.000\n"
          ]
        },
        {
          "output_type": "stream",
          "name": "stderr",
          "text": [
            "[17:37:05] WARNING: not removing hydrogen atom without neighbors\n",
            "[17:37:05] WARNING: not removing hydrogen atom without neighbors\n",
            "[17:37:05] WARNING: not removing hydrogen atom without neighbors\n",
            "[17:37:06] WARNING: not removing hydrogen atom without neighbors\n",
            "[17:37:06] WARNING: not removing hydrogen atom without neighbors\n",
            "[17:37:07] WARNING: not removing hydrogen atom without neighbors\n",
            "[17:37:07] WARNING: not removing hydrogen atom without neighbors\n",
            "[17:37:08] WARNING: not removing hydrogen atom without neighbors\n",
            "[17:37:08] WARNING: not removing hydrogen atom without neighbors\n",
            "[17:37:08] WARNING: not removing hydrogen atom without neighbors\n",
            "[17:37:09] WARNING: not removing hydrogen atom without neighbors\n"
          ]
        },
        {
          "output_type": "stream",
          "name": "stdout",
          "text": [
            "Epoch [480/500] | D Loss: 0.264 | G Adv Loss: 5.711 | RL Loss: 3.527 | Mean Reward: 1.000\n"
          ]
        },
        {
          "output_type": "stream",
          "name": "stderr",
          "text": [
            "[17:37:10] WARNING: not removing hydrogen atom without neighbors\n",
            "[17:37:11] WARNING: not removing hydrogen atom without neighbors\n",
            "[17:37:11] WARNING: not removing hydrogen atom without neighbors\n",
            "[17:37:12] WARNING: not removing hydrogen atom without neighbors\n",
            "[17:37:13] WARNING: not removing hydrogen atom without neighbors\n",
            "[17:37:13] WARNING: not removing hydrogen atom without neighbors\n",
            "[17:37:13] WARNING: not removing hydrogen atom without neighbors\n"
          ]
        },
        {
          "output_type": "stream",
          "name": "stdout",
          "text": [
            "Epoch [485/500] | D Loss: 0.240 | G Adv Loss: 5.605 | RL Loss: 5.373 | Mean Reward: 1.000\n"
          ]
        },
        {
          "output_type": "stream",
          "name": "stderr",
          "text": [
            "[17:37:14] WARNING: not removing hydrogen atom without neighbors\n",
            "[17:37:14] WARNING: not removing hydrogen atom without neighbors\n",
            "[17:37:15] WARNING: not removing hydrogen atom without neighbors\n",
            "[17:37:16] WARNING: not removing hydrogen atom without neighbors\n",
            "[17:37:16] WARNING: not removing hydrogen atom without neighbors\n",
            "[17:37:16] Explicit valence for atom # 2 Na, 2, is greater than permitted\n"
          ]
        },
        {
          "output_type": "stream",
          "name": "stdout",
          "text": [
            "Epoch [490/500] | D Loss: 0.021 | G Adv Loss: 5.631 | RL Loss: 4.377 | Mean Reward: 1.000\n"
          ]
        },
        {
          "output_type": "stream",
          "name": "stderr",
          "text": [
            "[17:37:20] WARNING: not removing hydrogen atom without neighbors\n",
            "[17:37:21] WARNING: not removing hydrogen atom without neighbors\n",
            "[17:37:21] WARNING: not removing hydrogen atom without neighbors\n",
            "[17:37:22] WARNING: not removing hydrogen atom without neighbors\n",
            "[17:37:23] WARNING: not removing hydrogen atom without neighbors\n",
            "[17:37:24] WARNING: not removing hydrogen atom without neighbors\n"
          ]
        },
        {
          "output_type": "stream",
          "name": "stdout",
          "text": [
            "Epoch [495/500] | D Loss: 0.020 | G Adv Loss: 5.304 | RL Loss: 3.585 | Mean Reward: 1.000\n"
          ]
        },
        {
          "output_type": "stream",
          "name": "stderr",
          "text": [
            "[17:37:26] WARNING: not removing hydrogen atom without neighbors\n",
            "[17:37:26] WARNING: not removing hydrogen atom without neighbors\n",
            "[17:37:27] WARNING: not removing hydrogen atom without neighbors\n",
            "[17:37:29] WARNING: not removing hydrogen atom without neighbors\n"
          ]
        },
        {
          "output_type": "stream",
          "name": "stdout",
          "text": [
            "Epoch [500/500] | D Loss: 0.020 | G Adv Loss: 5.345 | RL Loss: 2.785 | Mean Reward: 1.000\n",
            "\n",
            "Training complete!\n",
            "\n",
            "Generating 1000 molecules...\n"
          ]
        },
        {
          "output_type": "stream",
          "name": "stderr",
          "text": [
            "[17:37:30] WARNING: not removing hydrogen atom without neighbors\n",
            "[17:37:30] WARNING: not removing hydrogen atom without neighbors\n",
            "[17:37:30] WARNING: not removing hydrogen atom without neighbors\n",
            "[17:37:30] WARNING: not removing hydrogen atom without neighbors\n"
          ]
        },
        {
          "output_type": "stream",
          "name": "stdout",
          "text": [
            "\n",
            "Evaluation of generated molecules:\n",
            "  Validity:   1.00\n",
            "  Uniqueness: 0.14\n",
            "  Diversity:  0.39\n",
            "\n",
            "Sample of generated SELFIES:\n",
            "SELFIES: [Branch2]  -->  SMILES: \n",
            "SELFIES: [Branch2][CH0]  -->  SMILES: [CH0]\n",
            "SELFIES: [Branch2]  -->  SMILES: \n",
            "SELFIES: [Branch2]  -->  SMILES: \n",
            "SELFIES: [Sn]  -->  SMILES: [Sn]\n",
            "SELFIES: [Branch2]  -->  SMILES: \n",
            "SELFIES: [Branch2]  -->  SMILES: \n",
            "SELFIES: [Fe]  -->  SMILES: [Fe]\n",
            "SELFIES: [Branch2]  -->  SMILES: \n",
            "SELFIES:   -->  SMILES: \n"
          ]
        },
        {
          "output_type": "display_data",
          "data": {
            "text/plain": [
              "<Figure size 1200x800 with 4 Axes>"
            ],
            "image/png": "[encoded data removed]"
          },
          "metadata": {}
        },
        {
          "output_type": "display_data",
          "data": {
            "text/plain": [
              "<Figure size 600x400 with 1 Axes>"
            ],
            "image/png": "[encoded data removed]"
          },
          "metadata": {}
        },
        {
          "output_type": "display_data",
          "data": {
            "text/plain": [
              "<Figure size 600x400 with 1 Axes>"
            ],
            "image/png": "[encoded data removed]"
          },
          "metadata": {}
        }
      ],
      "source": [
        "import torch\n",
        "import torch.nn as nn\n",
        "import torch.optim as optim\n",
        "import random\n",
        "import numpy as np\n",
        "import pandas as pd\n",
        "from rdkit import Chem\n",
        "from rdkit.Chem import AllChem, DataStructs\n",
        "import selfies  # pip install selfies\n",
        "import matplotlib.pyplot as plt\n",
        "\n",
        "###############################################################################\n",
        "#                               HYPERPARAMETERS                               #\n",
        "###############################################################################\n",
        "CSV_FILE = \"filtered_dataset.csv\"       # Path to your CSV with a column named \"selfies\"\n",
        "SELFIES_COLUMN = \"selfies\"              # Column name in your CSV\n",
        "BATCH_SIZE = 32\n",
        "MAX_LEN = 40                          # Maximum sequence length (including <START> and <END>)\n",
        "EMBED_DIM = 64\n",
        "HIDDEN_DIM = 128\n",
        "LR = 1e-3\n",
        "NUM_EPOCHS = 500\n",
        "RL_EPOCHS = 5                         # Number of RL training epochs after each GAN round\n",
        "ADVERSARIAL_EPOCHS = 1\n",
        "DEVICE = torch.device(\"cuda\" if torch.cuda.is_available() else \"cpu\")\n",
        "\n",
        "###############################################################################\n",
        "#                            VOCAB & TOKENIZATION                             #\n",
        "###############################################################################\n",
        "# We will build the vocabulary from the training SELFIES.\n",
        "# Special tokens:\n",
        "SPECIAL_TOKENS = [\"<PAD>\", \"<START>\", \"<END>\"]\n",
        "\n",
        "def load_selfies_from_csv(csv_file, selfies_column):\n",
        "    \"\"\"\n",
        "    Load SELFIES strings from a CSV and tokenize them.\n",
        "    \"\"\"\n",
        "    df = pd.read_csv(csv_file)\n",
        "    df = df.dropna(subset=[selfies_column])\n",
        "    all_selfies = df[selfies_column].astype(str).tolist()\n",
        "    tokenized_selfies = []\n",
        "    for s in all_selfies:\n",
        "        s = s.strip()\n",
        "        if len(s) == 0:\n",
        "            continue\n",
        "        # Use selfies library to split the SELFIES string into tokens.\n",
        "        # Convert the generator to a list using list()\n",
        "        tokens = list(selfies.split_selfies(s))\n",
        "        tokenized_selfies.append(tokens)\n",
        "    return tokenized_selfies\n",
        "\n",
        "def build_vocab(tokenized_selfies):\n",
        "    \"\"\"\n",
        "    Build a vocabulary from tokenized SELFIES data.\n",
        "    \"\"\"\n",
        "    all_tokens = set(token for tokens in tokenized_selfies for token in tokens)\n",
        "    # Remove any special tokens that might appear in the data\n",
        "    all_tokens = all_tokens - set(SPECIAL_TOKENS)\n",
        "    # Place special tokens at the beginning\n",
        "    vocab = SPECIAL_TOKENS + sorted(list(all_tokens))\n",
        "    return vocab\n",
        "\n",
        "# Global variables to be set later once we build the vocabulary.\n",
        "token_to_idx = None\n",
        "idx_to_token = None\n",
        "VOCAB_SIZE = None\n",
        "\n",
        "def selfies_to_tensor(selfies_list, max_len=MAX_LEN):\n",
        "    \"\"\"\n",
        "    Convert a list of tokenized SELFIES (list of tokens) into a padded tensor of indices.\n",
        "    \"\"\"\n",
        "    batch_size = len(selfies_list)\n",
        "    tensor = torch.full((batch_size, max_len), token_to_idx[\"<PAD>\"], dtype=torch.long)\n",
        "    for i, tokens in enumerate(selfies_list):\n",
        "        # Insert <START> and <END> tokens\n",
        "        tokens = [\"<START>\"] + tokens + [\"<END>\"]\n",
        "        tokens = tokens[:max_len]  # truncate if needed\n",
        "        for j, tok in enumerate(tokens):\n",
        "            tensor[i, j] = token_to_idx.get(tok, token_to_idx[\"<PAD>\"])\n",
        "    return tensor\n",
        "\n",
        "def tensor_to_selfies(tensor):\n",
        "    \"\"\"\n",
        "    Convert a batch of indices back into SELFIES strings.\n",
        "    Any tokens after <END> are ignored.\n",
        "    \"\"\"\n",
        "    selfies_list = []\n",
        "    for row in tensor:\n",
        "        tokens = []\n",
        "        for idx in row:\n",
        "            token = idx_to_token[int(idx)]\n",
        "            if token == \"<END>\":\n",
        "                break\n",
        "            if token in [\"<START>\", \"<PAD>\"]:\n",
        "                continue\n",
        "            tokens.append(token)\n",
        "        # Join tokens into a SELFIES string.\n",
        "        selfies_str = \"\".join(tokens)\n",
        "        selfies_list.append(selfies_str)\n",
        "    return selfies_list\n",
        "\n",
        "###############################################################################\n",
        "#                               MODEL: GENERATOR                              #\n",
        "###############################################################################\n",
        "class Generator(nn.Module):\n",
        "    def __init__(self, vocab_size, embed_dim, hidden_dim):\n",
        "        super(Generator, self).__init__()\n",
        "        self.embedding = nn.Embedding(vocab_size, embed_dim)\n",
        "        self.lstm = nn.LSTM(embed_dim, hidden_dim, batch_first=True)\n",
        "        self.linear = nn.Linear(hidden_dim, vocab_size)\n",
        "\n",
        "    def forward(self, x, hidden=None):\n",
        "        emb = self.embedding(x)\n",
        "        output, hidden = self.lstm(emb, hidden)\n",
        "        logits = self.linear(output)  # (batch_size, seq_len, vocab_size)\n",
        "        return logits, hidden\n",
        "\n",
        "    def sample(self, batch_size, max_len=MAX_LEN):\n",
        "        \"\"\"\n",
        "        Sample SELFIES tokens from the model in an auto-regressive manner.\n",
        "        \"\"\"\n",
        "        start_token_idx = token_to_idx[\"<START>\"]\n",
        "        end_token_idx = token_to_idx[\"<END>\"]\n",
        "\n",
        "        current_input = torch.tensor([[start_token_idx]] * batch_size,\n",
        "                                     dtype=torch.long, device=DEVICE)\n",
        "        generated = []\n",
        "        hidden = None\n",
        "\n",
        "        for _ in range(max_len):\n",
        "            logits, hidden = self.forward(current_input, hidden)\n",
        "            logits = logits[:, -1, :]  # (batch_size, vocab_size)\n",
        "            probs = torch.softmax(logits, dim=-1)\n",
        "            next_token = torch.multinomial(probs, num_samples=1)  # sample next token\n",
        "            generated.append(next_token)\n",
        "            current_input = next_token\n",
        "\n",
        "        # Concatenate tokens along sequence dimension: (batch_size, max_len)\n",
        "        generated = torch.cat(generated, dim=1)\n",
        "\n",
        "        # Replace tokens after the first <END> with <PAD>\n",
        "        final_sequences = []\n",
        "        for row in generated:\n",
        "            seq = []\n",
        "            ended = False\n",
        "            for idx in row:\n",
        "                if idx.item() == end_token_idx:\n",
        "                    ended = True\n",
        "                    seq.append(idx.item())\n",
        "                elif not ended:\n",
        "                    seq.append(idx.item())\n",
        "                else:\n",
        "                    seq.append(token_to_idx[\"<PAD>\"])\n",
        "            final_sequences.append(seq)\n",
        "\n",
        "        final_sequences = torch.tensor(final_sequences, dtype=torch.long, device=DEVICE)\n",
        "        return final_sequences\n",
        "\n",
        "###############################################################################\n",
        "#                             MODEL: DISCRIMINATOR                            #\n",
        "###############################################################################\n",
        "class Discriminator(nn.Module):\n",
        "    def __init__(self, vocab_size, embed_dim, hidden_dim):\n",
        "        super(Discriminator, self).__init__()\n",
        "        self.embedding = nn.Embedding(vocab_size, embed_dim)\n",
        "        self.lstm = nn.LSTM(embed_dim, hidden_dim, batch_first=True)\n",
        "        self.linear = nn.Linear(hidden_dim, 1)\n",
        "\n",
        "    def forward(self, x):\n",
        "        emb = self.embedding(x)\n",
        "        _, (h, _) = self.lstm(emb)\n",
        "        h = h.squeeze(0)  # (batch_size, hidden_dim)\n",
        "        out = self.linear(h)\n",
        "        return out  # (batch_size, 1)\n",
        "\n",
        "###############################################################################\n",
        "#                                REWARD FUNCTION                              #\n",
        "###############################################################################\n",
        "def compute_reward(selfies_list):\n",
        "    \"\"\"\n",
        "    Reward = 1 if the decoded SELFIES (to SMILES) is valid; else 0.\n",
        "    In practice, you may use more informative rewards (e.g. QED, logP, etc.)\n",
        "    \"\"\"\n",
        "    rewards = []\n",
        "    for s in selfies_list:\n",
        "        try:\n",
        "            # Decode SELFIES to SMILES using selfies.decoder\n",
        "            smiles = selfies.decoder(s)\n",
        "            mol = Chem.MolFromSmiles(smiles)\n",
        "            rewards.append(1.0 if mol is not None else 0.0)\n",
        "        except Exception:\n",
        "            rewards.append(0.0)\n",
        "    return torch.tensor(rewards, dtype=torch.float, device=DEVICE)\n",
        "\n",
        "###############################################################################\n",
        "#                          TRAINING UTILITY FUNCTIONS                         #\n",
        "###############################################################################\n",
        "def train_discriminator(discriminator, optimizer, real_batch, fake_batch):\n",
        "    discriminator.train()\n",
        "    optimizer.zero_grad()\n",
        "\n",
        "    real_labels = torch.ones(real_batch.size(0), 1, device=DEVICE)\n",
        "    fake_labels = torch.zeros(fake_batch.size(0), 1, device=DEVICE)\n",
        "\n",
        "    # Real\n",
        "    real_preds = discriminator(real_batch)\n",
        "    real_loss = nn.BCEWithLogitsLoss()(real_preds, real_labels)\n",
        "\n",
        "    # Fake\n",
        "    fake_preds = discriminator(fake_batch)\n",
        "    fake_loss = nn.BCEWithLogitsLoss()(fake_preds, fake_labels)\n",
        "\n",
        "    loss = real_loss + fake_loss\n",
        "    loss.backward()\n",
        "    optimizer.step()\n",
        "    return loss.item()\n",
        "\n",
        "def train_generator_adversarial(generator, discriminator, optimizer):\n",
        "    \"\"\"\n",
        "    Adversarial objective: fool the discriminator (maximize log(D(fake))).\n",
        "    \"\"\"\n",
        "    generator.train()\n",
        "    optimizer.zero_grad()\n",
        "\n",
        "    fake_batch = generator.sample(BATCH_SIZE)\n",
        "    fake_preds = discriminator(fake_batch)\n",
        "    real_labels = torch.ones(BATCH_SIZE, 1, device=DEVICE)\n",
        "    loss = nn.BCEWithLogitsLoss()(fake_preds, real_labels)\n",
        "    loss.backward()\n",
        "    optimizer.step()\n",
        "    return loss.item()\n",
        "\n",
        "def train_generator_rl(generator, optimizer, baseline=0.0):\n",
        "    \"\"\"\n",
        "    Simple policy gradient update using the validity reward.\n",
        "    \"\"\"\n",
        "    generator.train()\n",
        "    optimizer.zero_grad()\n",
        "\n",
        "    # Sample from generator\n",
        "    fake_batch = generator.sample(BATCH_SIZE)\n",
        "    selfies_list = tensor_to_selfies(fake_batch)\n",
        "    rewards = compute_reward(selfies_list)  # shape: (batch_size,)\n",
        "\n",
        "    # Re-run forward pass to capture log probabilities\n",
        "    log_probs = []\n",
        "    hidden = None\n",
        "    start_token = torch.tensor([token_to_idx[\"<START>\"]] * BATCH_SIZE,\n",
        "                               dtype=torch.long, device=DEVICE).unsqueeze(1)\n",
        "    input_seq = start_token\n",
        "\n",
        "    for t in range(MAX_LEN):\n",
        "        logits, hidden = generator.forward(input_seq, hidden)\n",
        "        logits = logits[:, -1, :]  # (batch_size, vocab_size)\n",
        "        probs = torch.softmax(logits, dim=-1)\n",
        "        chosen_tokens = fake_batch[:, t].unsqueeze(1)\n",
        "        chosen_log_probs = torch.gather(torch.log(probs + 1e-8), 1, chosen_tokens)\n",
        "        log_probs.append(chosen_log_probs.squeeze(1))\n",
        "        input_seq = chosen_tokens\n",
        "\n",
        "    log_probs = torch.stack(log_probs, dim=1)  # (batch_size, max_len)\n",
        "    advantage = rewards - baseline\n",
        "    advantage = advantage.unsqueeze(1).repeat(1, MAX_LEN)\n",
        "    loss = -torch.mean(torch.sum(log_probs * advantage, dim=1))\n",
        "\n",
        "    loss.backward()\n",
        "    optimizer.step()\n",
        "    return loss.item(), rewards.mean().item()\n",
        "\n",
        "###############################################################################\n",
        "#                     EVALUATION: VALIDITY, UNIQUENESS, DIVERSITY            #\n",
        "###############################################################################\n",
        "def evaluate_molecules(selfies_list):\n",
        "    \"\"\"\n",
        "    Evaluate generated molecules by:\n",
        "      - Validity: fraction of SELFIES that decode to valid SMILES.\n",
        "      - Uniqueness: fraction of unique SELFIES strings.\n",
        "      - Diversity: average pairwise 1 - Tanimoto similarity (using Morgan fingerprints).\n",
        "    \"\"\"\n",
        "    valid_mols = []\n",
        "    for s in selfies_list:\n",
        "        try:\n",
        "            smiles = selfies.decoder(s)\n",
        "            mol = Chem.MolFromSmiles(smiles)\n",
        "            if mol is not None:\n",
        "                valid_mols.append(mol)\n",
        "        except Exception:\n",
        "            continue\n",
        "\n",
        "    validity = len(valid_mols) / len(selfies_list) if len(selfies_list) > 0 else 0.0\n",
        "    uniqueness = len(set(selfies_list)) / len(selfies_list) if len(selfies_list) > 0 else 0.0\n",
        "\n",
        "    if len(valid_mols) < 2:\n",
        "        diversity = 0.0\n",
        "    else:\n",
        "        fps = [AllChem.GetMorganFingerprintAsBitVect(m, 2, nBits=1024) for m in valid_mols]\n",
        "        total_dist = 0.0\n",
        "        count = 0\n",
        "        for i in range(len(fps)):\n",
        "            for j in range(i + 1, len(fps)):\n",
        "                sim = DataStructs.TanimotoSimilarity(fps[i], fps[j])\n",
        "                total_dist += (1.0 - sim)\n",
        "                count += 1\n",
        "        diversity = total_dist / count if count > 0 else 0.0\n",
        "\n",
        "    return validity, uniqueness, diversity\n",
        "\n",
        "###############################################################################\n",
        "#                                  MAIN LOOP                                  #\n",
        "###############################################################################\n",
        "def main():\n",
        "    global token_to_idx, idx_to_token, VOCAB_SIZE\n",
        "\n",
        "    print(\"Loading SELFIES from CSV...\")\n",
        "    tokenized_selfies = load_selfies_from_csv(CSV_FILE, SELFIES_COLUMN)\n",
        "    if len(tokenized_selfies) == 0:\n",
        "        print(\"No SELFIES found in the CSV. Exiting.\")\n",
        "        return\n",
        "\n",
        "    print(f\"Loaded {len(tokenized_selfies)} SELFIES from {CSV_FILE}.\")\n",
        "    # Build vocabulary from the tokenized SELFIES\n",
        "    vocab = build_vocab(tokenized_selfies)\n",
        "    token_to_idx = {token: i for i, token in enumerate(vocab)}\n",
        "    idx_to_token = {i: token for i, token in enumerate(vocab)}\n",
        "    VOCAB_SIZE = len(vocab)\n",
        "    print(f\"Vocabulary size: {VOCAB_SIZE}\")\n",
        "\n",
        "    # Convert real SELFIES to tensor for training\n",
        "    real_data_tensor = selfies_to_tensor(tokenized_selfies, MAX_LEN)\n",
        "    real_data_tensor = real_data_tensor.to(DEVICE)\n",
        "\n",
        "    # Initialize models\n",
        "    generator = Generator(VOCAB_SIZE, EMBED_DIM, HIDDEN_DIM).to(DEVICE)\n",
        "    discriminator = Discriminator(VOCAB_SIZE, EMBED_DIM, HIDDEN_DIM).to(DEVICE)\n",
        "\n",
        "    # Optimizers\n",
        "    gen_optimizer = optim.Adam(generator.parameters(), lr=LR)\n",
        "    disc_optimizer = optim.Adam(discriminator.parameters(), lr=LR)\n",
        "\n",
        "    # Utility function to get a random real batch\n",
        "    def get_real_batch(batch_size):\n",
        "        idxs = np.random.choice(real_data_tensor.size(0), batch_size, replace=True)\n",
        "        return real_data_tensor[idxs]\n",
        "\n",
        "    # For tracking losses and rewards\n",
        "    disc_losses, gen_losses, rl_losses, mean_rewards = [], [], [], []\n",
        "\n",
        "    print(\"Starting training...\")\n",
        "    for epoch in range(NUM_EPOCHS):\n",
        "        # --- 1) Adversarial Training ---\n",
        "        for _ in range(ADVERSARIAL_EPOCHS):\n",
        "            real_batch = get_real_batch(BATCH_SIZE)\n",
        "            fake_batch = generator.sample(BATCH_SIZE)\n",
        "            d_loss = train_discriminator(discriminator, disc_optimizer, real_batch, fake_batch)\n",
        "            g_loss = train_generator_adversarial(generator, discriminator, gen_optimizer)\n",
        "\n",
        "        # --- 2) Reinforcement Learning Training ---\n",
        "        for _ in range(RL_EPOCHS):\n",
        "            rl_loss, avg_reward = train_generator_rl(generator, gen_optimizer, baseline=0.0)\n",
        "\n",
        "        disc_losses.append(d_loss)\n",
        "        gen_losses.append(g_loss)\n",
        "        rl_losses.append(rl_loss)\n",
        "        mean_rewards.append(avg_reward)\n",
        "\n",
        "        if (epoch + 1) % 5 == 0:\n",
        "            print(f\"Epoch [{epoch+1}/{NUM_EPOCHS}] | D Loss: {d_loss:.3f} | \"\n",
        "                  f\"G Adv Loss: {g_loss:.3f} | RL Loss: {rl_loss:.3f} | Mean Reward: {avg_reward:.3f}\")\n",
        "\n",
        "    print(\"\\nTraining complete!\")\n",
        "\n",
        "    # Final evaluation: generate molecules\n",
        "    generator.eval()\n",
        "    num_samples = 1000\n",
        "    print(f\"\\nGenerating {num_samples} molecules...\")\n",
        "    samples = generator.sample(num_samples)\n",
        "    generated_selfies = tensor_to_selfies(samples)\n",
        "\n",
        "    validity, uniqueness, diversity = evaluate_molecules(generated_selfies)\n",
        "\n",
        "    print(\"\\nEvaluation of generated molecules:\")\n",
        "    print(f\"  Validity:   {validity:.2f}\")\n",
        "    print(f\"  Uniqueness: {uniqueness:.2f}\")\n",
        "    print(f\"  Diversity:  {diversity:.2f}\")\n",
        "\n",
        "    print(\"\\nSample of generated SELFIES:\")\n",
        "    for s in generated_selfies[:10]:\n",
        "        try:\n",
        "            # Optionally decode to SMILES for display\n",
        "            decoded_smiles = selfies.decoder(s)\n",
        "        except Exception:\n",
        "            decoded_smiles = \"Decoding error\"\n",
        "        print(f\"SELFIES: {s}  -->  SMILES: {decoded_smiles}\")\n",
        "\n",
        "    ############################################################################\n",
        "    #                             PLOTTING RESULTS                             #\n",
        "    ############################################################################\n",
        "    # 1. Plot training curves\n",
        "    epochs = np.arange(1, NUM_EPOCHS + 1)\n",
        "    plt.figure(figsize=(12, 8))\n",
        "    plt.subplot(2, 2, 1)\n",
        "    plt.plot(epochs, disc_losses, 'r-', label='Discriminator Loss')\n",
        "    plt.xlabel(\"Epoch\")\n",
        "    plt.ylabel(\"Loss\")\n",
        "    plt.title(\"Discriminator Loss\")\n",
        "    plt.legend()\n",
        "\n",
        "    plt.subplot(2, 2, 2)\n",
        "    plt.plot(epochs, gen_losses, 'b-', label='Generator Adversarial Loss')\n",
        "    plt.xlabel(\"Epoch\")\n",
        "    plt.ylabel(\"Loss\")\n",
        "    plt.title(\"Generator Adversarial Loss\")\n",
        "    plt.legend()\n",
        "\n",
        "    plt.subplot(2, 2, 3)\n",
        "    plt.plot(epochs, rl_losses, 'g-', label='Generator RL Loss')\n",
        "    plt.xlabel(\"Epoch\")\n",
        "    plt.ylabel(\"Loss\")\n",
        "    plt.title(\"Generator RL Loss\")\n",
        "    plt.legend()\n",
        "\n",
        "    plt.subplot(2, 2, 4)\n",
        "    plt.plot(epochs, mean_rewards, 'm-', label='Mean Reward')\n",
        "    plt.xlabel(\"Epoch\")\n",
        "    plt.ylabel(\"Reward\")\n",
        "    plt.title(\"Mean Reward per Epoch\")\n",
        "    plt.legend()\n",
        "    plt.tight_layout()\n",
        "    plt.show()\n",
        "\n",
        "    # 2. Bar plot for final evaluation metrics\n",
        "    metrics = [validity, uniqueness, diversity]\n",
        "    metric_names = [\"Validity\", \"Uniqueness\", \"Diversity\"]\n",
        "    plt.figure(figsize=(6, 4))\n",
        "    plt.bar(metric_names, metrics, color=['skyblue', 'lightgreen', 'salmon'])\n",
        "    plt.ylim(0, 1)\n",
        "    plt.title(\"Final Evaluation Metrics of Generated Molecules\")\n",
        "    for i, v in enumerate(metrics):\n",
        "        plt.text(i, v + 0.02, f\"{v:.2f}\", ha='center', fontweight='bold')\n",
        "    plt.show()\n",
        "\n",
        "    # 3. Histogram of generated SELFIES lengths (number of tokens)\n",
        "    lengths = []\n",
        "    for s in generated_selfies:\n",
        "        # Count tokens using the selfies split function\n",
        "        tokens = list(selfies.split_selfies(s))\n",
        "        lengths.append(len(tokens))\n",
        "    plt.figure(figsize=(6, 4))\n",
        "    plt.hist(lengths, bins=range(1, MAX_LEN+1), color='violet', edgecolor='black', align='left')\n",
        "    plt.xlabel(\"Number of Tokens\")\n",
        "    plt.ylabel(\"Frequency\")\n",
        "    plt.title(\"Distribution of Generated SELFIES Lengths\")\n",
        "    plt.show()\n",
        "\n",
        "if __name__ == \"__main__\":\n",
        "    main()\n"
      ]
    }
  ]
}