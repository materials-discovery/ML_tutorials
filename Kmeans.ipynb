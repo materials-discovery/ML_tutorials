{
  "cells": [
    {
      "cell_type": "code",
      "source": [
        "#First, we'll import the necessary libraries and load the Iris dataset:\n",
        "\n",
        "import numpy as np\n",
        "import pandas as pd\n",
        "import matplotlib.pyplot as plt\n",
        "from sklearn.datasets import load_iris\n",
        "from sklearn.cluster import KMeans\n",
        "from sklearn.metrics import silhouette_score\n",
        "\n",
        "iris = load_iris()\n",
        "X = iris.data\n",
        "y = iris.target\n"
      ],
      "metadata": {
        "id": "bjpMdGsGEx-D"
      },
      "execution_count": null,
      "outputs": []
    },
    {
      "cell_type": "code",
      "source": [
        "\n",
        "#Next, we'll apply the k-means algorithm with different values of k and evaluate the clustering results using the silhouette score:\n",
        "\n",
        "\n",
        "k_values = [2, 3, 4, 5, 6, 7, 8, 9, 10]\n",
        "scores = []\n",
        "\n",
        "for k in k_values:\n",
        "    model = KMeans(n_clusters=k)\n",
        "    labels = model.fit_predict(X)\n",
        "    score = silhouette_score(X, labels)\n",
        "    scores.append(score)\n",
        "\n",
        "plt.plot(k_values, scores)\n",
        "plt.xlabel('Number of clusters')\n",
        "plt.ylabel('Silhouette score')\n",
        "plt.show()\n",
        "\n"
      ],
      "metadata": {
        "id": "Sej9-UK2Ex5X"
      },
      "execution_count": null,
      "outputs": []
    },
    {
      "cell_type": "code",
      "source": [
        "#This code will plot the silhouette score for different values of k, which can help us determine the optimal number of clusters for the dataset.The silhouette score ranges from -1 to 1, with higher values indicating better clustering results.\n",
        "#Next, we'll visualize the clustering results for the optimal number of clusters:\n",
        "\n",
        "k = 3\n",
        "model = KMeans(n_clusters=k)\n",
        "labels = model.fit_predict(X)\n",
        "\n",
        "plt.scatter(X[:, 0], X[:, 1], c=labels)\n",
        "plt.xlabel('Sepal length')\n",
        "plt.ylabel('Sepal width')\n",
        "plt.show()\n"
      ],
      "metadata": {
        "id": "zbYeO57uExkb"
      },
      "execution_count": null,
      "outputs": []
    },
    {
      "cell_type": "code",
      "source": [],
      "metadata": {
        "id": "A6YXpoHeExff"
      },
      "execution_count": null,
      "outputs": []
    },
    {
      "cell_type": "code",
      "source": [],
      "metadata": {
        "id": "eYE5d2vkExaf"
      },
      "execution_count": null,
      "outputs": []
    },
    {
      "cell_type": "code",
      "source": [],
      "metadata": {
        "id": "aWovRZZSExVG"
      },
      "execution_count": null,
      "outputs": []
    },
    {
      "cell_type": "code",
      "source": [],
      "metadata": {
        "id": "5AcWzCypExQd"
      },
      "execution_count": null,
      "outputs": []
    }
  ],
  "metadata": {
    "colab": {
      "name": "Welcome to Colaboratory",
      "toc_visible": true,
      "provenance": []
    },
    "kernelspec": {
      "display_name": "Python 3",
      "name": "python3"
    }
  },
  "nbformat": 4,
  "nbformat_minor": 0
}