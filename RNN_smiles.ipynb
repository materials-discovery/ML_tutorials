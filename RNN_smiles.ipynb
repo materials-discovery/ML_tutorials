{
  "nbformat": 4,
  "nbformat_minor": 0,
  "metadata": {
    "colab": {
      "provenance": []
    },
    "kernelspec": {
      "name": "python3",
      "display_name": "Python 3"
    },
    "language_info": {
      "name": "python"
    }
  },
  "cells": [
    {
      "cell_type": "code",
      "source": [
        "!pip install rdkit"
      ],
      "metadata": {
        "colab": {
          "base_uri": "https://localhost:8080/"
        },
        "id": "LN2zinyBzusy",
        "outputId": "824c954a-60fa-4477-e5be-bb5e3fa01242"
      },
      "execution_count": 5,
      "outputs": [
        {
          "output_type": "stream",
          "name": "stdout",
          "text": [
            "Requirement already satisfied: rdkit in /usr/local/lib/python3.10/dist-packages (2023.9.5)\n",
            "Requirement already satisfied: numpy in /usr/local/lib/python3.10/dist-packages (from rdkit) (1.25.2)\n",
            "Requirement already satisfied: Pillow in /usr/local/lib/python3.10/dist-packages (from rdkit) (9.4.0)\n"
          ]
        }
      ]
    },
    {
      "cell_type": "code",
      "execution_count": 28,
      "metadata": {
        "id": "cjFUJN_qzFnL"
      },
      "outputs": [],
      "source": [
        "import numpy as np\n",
        "import tensorflow as tf\n",
        "from tensorflow.keras.models import Sequential\n",
        "from tensorflow.keras.layers import LSTM, Dense, Embedding\n",
        "from tensorflow.keras.preprocessing.text import Tokenizer\n",
        "from tensorflow.keras.preprocessing.sequence import pad_sequences\n",
        "from rdkit import Chem\n",
        "from tensorflow.keras.callbacks import EarlyStopping"
      ]
    },
    {
      "cell_type": "code",
      "source": [
        "# Load SMILES from a text file\n",
        "with open('/content/100k_rndm_zinc_drugs_clean.txt', 'r') as file:\n",
        "    smiles_list = file.read().splitlines()"
      ],
      "metadata": {
        "id": "ybEqVgFV1kUe"
      },
      "execution_count": 13,
      "outputs": []
    },
    {
      "cell_type": "code",
      "source": [
        "# Basic preprocessing\n",
        "tokenizer = Tokenizer(char_level=True)\n",
        "tokenizer.fit_on_texts(smiles_list)\n",
        "total_chars = len(tokenizer.word_index) + 1\n",
        "max_length = max([len(s) for s in smiles_list])\n",
        "sequences = tokenizer.texts_to_sequences(smiles_list)\n",
        "X = pad_sequences(sequences, maxlen=max_length, padding='post')\n",
        "y = tf.keras.utils.to_categorical(X, num_classes=total_chars)"
      ],
      "metadata": {
        "id": "Pr41wf6z1mkN"
      },
      "execution_count": 27,
      "outputs": []
    },
    {
      "cell_type": "code",
      "source": [
        "model = Sequential([\n",
        "    Embedding(input_dim=total_chars, output_dim=128, input_length=max_length),\n",
        "    LSTM(256, return_sequences=True),\n",
        "    LSTM(256, return_sequences=True),\n",
        "    Dense(total_chars, activation='softmax')\n",
        "])"
      ],
      "metadata": {
        "id": "T1iuV6hl1okW"
      },
      "execution_count": 29,
      "outputs": []
    },
    {
      "cell_type": "code",
      "source": [
        "model.compile(optimizer='adam', loss='categorical_crossentropy', metrics=['accuracy'])"
      ],
      "metadata": {
        "id": "houunENKLOf9"
      },
      "execution_count": 30,
      "outputs": []
    },
    {
      "cell_type": "code",
      "source": [
        "# Train the model\n",
        "\n",
        "# Implementing early stopping\n",
        "early_stopping = EarlyStopping(monitor='val_loss', patience=5, restore_best_weights=True)\n",
        "\n",
        "model.fit(X, y, epochs=3, batch_size=64, validation_split=0.1, callbacks=[early_stopping])"
      ],
      "metadata": {
        "colab": {
          "base_uri": "https://localhost:8080/"
        },
        "id": "pR7ryKbM1qi8",
        "outputId": "1c3dd7e3-7aa0-40d5-d80a-1701735e53c3"
      },
      "execution_count": null,
      "outputs": [
        {
          "output_type": "stream",
          "name": "stdout",
          "text": [
            "Epoch 1/3\n",
            "1407/1407 [==============================] - 1752s 1s/step - loss: 0.0107 - accuracy: 0.9981 - val_loss: 4.9781e-04 - val_accuracy: 1.0000\n",
            "Epoch 2/3\n",
            "1407/1407 [==============================] - 1749s 1s/step - loss: 2.4133e-04 - accuracy: 1.0000 - val_loss: 8.8966e-05 - val_accuracy: 1.0000\n",
            "Epoch 3/3\n",
            " 272/1407 [====>.........................] - ETA: 22:18 - loss: 8.1150e-05 - accuracy: 1.0000"
          ]
        }
      ]
    },
    {
      "cell_type": "code",
      "source": [
        "def generate_molecule(seed_text, tokenizer, model, max_length, generation_length=100):\n",
        "    \"\"\"\n",
        "    Generate a molecule given a seed text.\n",
        "\n",
        "    Parameters:\n",
        "    - seed_text: The initial text to start generating from.\n",
        "    - tokenizer: The tokenizer used for encoding and decoding texts.\n",
        "    - model: The trained RNN model.\n",
        "    - max_length: The maximum length of sequences used during training.\n",
        "    - generation_length: The maximum length of the molecule to generate.\n",
        "\n",
        "    Returns:\n",
        "    A string representing the generated molecule.\n",
        "    \"\"\"\n",
        "\n",
        "    generated_sequence = seed_text\n",
        "    for _ in range(generation_length - len(seed_text)):\n",
        "        sequence = tokenizer.texts_to_sequences([generated_sequence])[0]\n",
        "        padded_sequence = pad_sequences([sequence], maxlen=max_length, padding='post')\n",
        "        prediction = model.predict(padded_sequence, verbose=0)\n",
        "        # Ensure we're getting a single integer index for the next character\n",
        "        next_index = np.argmax(prediction[0, -1, :])  # Adjusted indexing here\n",
        "        next_char = tokenizer.index_word.get(next_index + 1, '')  # Adjust index to match tokenizer's indexing\n",
        "        if not next_char:\n",
        "            break\n",
        "        generated_sequence += next_char\n",
        "    return generated_sequence\n",
        "\n"
      ],
      "metadata": {
        "id": "OBPaOb411srm"
      },
      "execution_count": 23,
      "outputs": []
    },
    {
      "cell_type": "code",
      "source": [
        "# Example of generating a molecule\n",
        "\n",
        "generated_smiles = generate_molecule('CC', tokenizer, model, max_length,generation_length=10)\n",
        "print(generated_smiles)\n",
        "molecule = Chem.MolFromSmiles(generated_smiles)\n",
        "if molecule:\n",
        "    print(f\"Valid molecule generated: {generated_smiles}\")\n",
        "else:\n",
        "    print(\"Generated SMILES is not a valid molecule.\")\n",
        "\n"
      ],
      "metadata": {
        "colab": {
          "base_uri": "https://localhost:8080/"
        },
        "id": "bZ781lp71uo7",
        "outputId": "43be0c66-bea4-4745-bdd4-407159ebf926"
      },
      "execution_count": 26,
      "outputs": [
        {
          "output_type": "stream",
          "name": "stdout",
          "text": [
            "CCcccccccc\n",
            "Generated SMILES is not a valid molecule.\n"
          ]
        },
        {
          "output_type": "stream",
          "name": "stderr",
          "text": [
            "[23:36:36] non-ring atom 2 marked aromatic\n"
          ]
        }
      ]
    }
  ]
}