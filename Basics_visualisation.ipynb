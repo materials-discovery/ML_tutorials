{
  "metadata": {
    "language_info": {
      "codemirror_mode": {
        "name": "python",
        "version": 3
      },
      "file_extension": ".py",
      "mimetype": "text/x-python",
      "name": "python",
      "nbconvert_exporter": "python",
      "pygments_lexer": "ipython3",
      "version": "3.8"
    },
    "kernelspec": {
      "name": "python",
      "display_name": "Python (Pyodide)",
      "language": "python"
    }
  },
  "nbformat_minor": 4,
  "nbformat": 4,
  "cells": [
    {
      "cell_type": "code",
      "source": "#1.\tImporting and plotting a simple line chart using matplotlib:\nimport matplotlib.pyplot as plt\n\nx = [1, 2, 3, 4, 5]\ny = [5, 7, 3, 9, 2]\n\nplt.plot(x, y)\nplt.show()",
      "metadata": {},
      "execution_count": null,
      "outputs": []
    },
    {
      "cell_type": "code",
      "source": "#2.\tCreating a scatter plot using matplotlib:\nimport matplotlib.pyplot as plt\n\nx = [1, 2, 3, 4, 5]\ny = [5, 7, 3, 9, 2]\n\nplt.scatter(x, y)\nplt.show()",
      "metadata": {},
      "execution_count": null,
      "outputs": []
    },
    {
      "cell_type": "code",
      "source": "#3.\tCreating a bar chart using matplotlib:\nimport matplotlib.pyplot as plt\n\nx = ['A', 'B', 'C', 'D', 'E']\ny = [5, 7, 3, 9, 2]\n\nplt.bar(x, y)\nplt.show()",
      "metadata": {},
      "execution_count": null,
      "outputs": []
    },
    {
      "cell_type": "code",
      "source": "#4.\tCreating a histogram using matplotlib:\nimport matplotlib.pyplot as plt\n\ndata = [5, 7, 3, 9, 2, 4, 6, 8, 1, 10]\n\nplt.hist(data)\nplt.show()",
      "metadata": {},
      "execution_count": null,
      "outputs": []
    },
    {
      "cell_type": "code",
      "source": "#5.\tCreating a box plot using matplotlib:\nimport matplotlib.pyplot as plt\n\ndata = [5, 7, 3, 9, 2, 4, 6, 8, 1, 10]\n\nplt.boxplot(data)\nplt.show()",
      "metadata": {},
      "execution_count": null,
      "outputs": []
    },
    {
      "cell_type": "code",
      "source": "#6.\tCreating a line chart with multiple lines using matplotlib:\nimport matplotlib.pyplot as plt\n\nx = [1, 2, 3, 4, 5]\ny1 = [5, 7, 3, 9, 2]\ny2 = [7, 4, 8, 2, 9]\n\nplt.plot(x, y1, label='Line 1')\nplt.plot(x, y2, label='Line 2')\nplt.legend()\nplt.show()",
      "metadata": {},
      "execution_count": null,
      "outputs": []
    },
    {
      "cell_type": "code",
      "source": "#7.\tCreating a heatmap using seaborn:\nimport seaborn as sns\nimport matplotlib.pyplot as plt\n\ndata = [[1, 2, 3], [4, 5, 6], [7, 8, 9]]\n\nsns.heatmap(data)\nplt.show()",
      "metadata": {},
      "execution_count": null,
      "outputs": []
    },
    {
      "cell_type": "code",
      "source": "#8.\tCreating a pairplot using seaborn:\nimport seaborn as sns\nimport matplotlib.pyplot as plt\n\ndata = sns.load_dataset('iris')\n\nsns.pairplot(data)\nplt.show()",
      "metadata": {},
      "execution_count": null,
      "outputs": []
    },
    {
      "cell_type": "code",
      "source": "#9.\tCreating a violin plot using seaborn:\nimport seaborn as sns\nimport matplotlib.pyplot as plt\n\ndata = sns.load_dataset('tips')\n\nsns.violinplot(x=\"day\", y=\"total_bill\", data=data)\nplt.show()",
      "metadata": {},
      "execution_count": null,
      "outputs": []
    }
  ]
}