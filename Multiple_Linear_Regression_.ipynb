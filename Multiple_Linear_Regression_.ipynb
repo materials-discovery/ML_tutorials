{
  "metadata": {
    "language_info": {
      "codemirror_mode": {
        "name": "python",
        "version": 3
      },
      "file_extension": ".py",
      "mimetype": "text/x-python",
      "name": "python",
      "nbconvert_exporter": "python",
      "pygments_lexer": "ipython3",
      "version": "3.8"
    },
    "kernelspec": {
      "name": "python",
      "display_name": "Python (Pyodide)",
      "language": "python"
    },
    "colab": {
      "provenance": []
    }
  },
  "nbformat_minor": 0,
  "nbformat": 4,
  "cells": [
    {
      "cell_type": "code",
      "source": [],
      "metadata": {
        "id": "1Id79eCyYjsG"
      },
      "execution_count": null,
      "outputs": []
    },
    {
      "cell_type": "code",
      "source": [
        "#Here is an example of building a predictive model for multiple linear regression in Python using the scikit-learn library and a public dataset:"
      ],
      "metadata": {
        "trusted": true,
        "id": "2Mqxuy_0YjsJ"
      },
      "execution_count": null,
      "outputs": []
    },
    {
      "cell_type": "code",
      "source": [],
      "metadata": {
        "id": "ydKd0wG5YjsN"
      },
      "execution_count": null,
      "outputs": []
    },
    {
      "cell_type": "code",
      "source": [
        "import numpy as np\n",
        "import pandas as pd\n",
        "from sklearn.linear_model import LinearRegression\n",
        "from sklearn.model_selection import train_test_split\n",
        "from sklearn.metrics import mean_squared_error, r2_score\n",
        "import matplotlib.pyplot as plt"
      ],
      "metadata": {
        "trusted": true,
        "id": "Vjiy8BC4YjsP"
      },
      "execution_count": null,
      "outputs": []
    },
    {
      "cell_type": "code",
      "source": [
        "# Load the dataset\n",
        "data = pd.read_csv(\"https://archive.ics.uci.edu/ml/machine-learning-databases/housing/housing.data\", header=None, delim_whitespace=True)"
      ],
      "metadata": {
        "trusted": true,
        "id": "PIg_nPBsYjsS"
      },
      "execution_count": null,
      "outputs": []
    },
    {
      "cell_type": "code",
      "source": [
        "#Preprocessing: Assign the columns names\n",
        "data.columns = [\"CRIM\", \"ZN\", \"INDUS\", \"CHAS\", \"NOX\", \"RM\", \"AGE\", \"DIS\", \"RAD\", \"TAX\", \"PTRATIO\", \"B\", \"LSTAT\", \"MEDV\"]"
      ],
      "metadata": {
        "trusted": true,
        "id": "N7wCc6NSYjsU"
      },
      "execution_count": null,
      "outputs": []
    },
    {
      "cell_type": "code",
      "source": [
        "# Assign the features and target variables\n",
        "X = data.iloc[:, :-1]\n",
        "y = data[\"MEDV\"]"
      ],
      "metadata": {
        "trusted": true,
        "id": "vWmzaSMXYjsV"
      },
      "execution_count": null,
      "outputs": []
    },
    {
      "cell_type": "code",
      "source": [
        "# Split the dataset into train and test sets\n",
        "X_train, X_test, y_train, y_test = train_test_split(\n",
        "X, y, test_size=0.3, random_state=42)"
      ],
      "metadata": {
        "trusted": true,
        "id": "07Z8wfTuYjsX"
      },
      "execution_count": null,
      "outputs": []
    },
    {
      "cell_type": "code",
      "source": [
        "#Create a linear regression model\n",
        "model = LinearRegression()"
      ],
      "metadata": {
        "trusted": true,
        "id": "i9hjZIpuYjsZ"
      },
      "execution_count": null,
      "outputs": []
    },
    {
      "cell_type": "code",
      "source": [
        "#Fit the model on the training data\n",
        "model.fit(X_train, y_train)"
      ],
      "metadata": {
        "trusted": true,
        "id": "I_Ynz0nXYjse"
      },
      "execution_count": null,
      "outputs": []
    },
    {
      "cell_type": "code",
      "source": [
        "#Make predictions on the test data\n",
        "y_pred = model.predict(X_test)"
      ],
      "metadata": {
        "trusted": true,
        "id": "SiszucmwYjsg"
      },
      "execution_count": null,
      "outputs": []
    },
    {
      "cell_type": "code",
      "source": [
        "#Evaluate the model's performance\n",
        "mse = mean_squared_error(y_test, y_pred) \n",
        "r2 = r2_score(y_test, y_pred)\n",
        "print(\"Mean Squared Error: \", mse) \n",
        "print(\"R-squared: \", r2)"
      ],
      "metadata": {
        "trusted": true,
        "id": "XX6JPF6DYjsi"
      },
      "execution_count": null,
      "outputs": []
    },
    {
      "cell_type": "code",
      "source": [
        "#Visualize the model's performance by plotting the actual vs predicted values\n",
        "plt.scatter(y_test, y_pred) \n",
        "plt.xlabel(\"Actual Values\") \n",
        "plt.ylabel(\"Predicted Values\") \n",
        "plt.show()"
      ],
      "metadata": {
        "trusted": true,
        "id": "eakJejOkYjsj"
      },
      "execution_count": null,
      "outputs": []
    },
    {
      "cell_type": "code",
      "source": [
        "#The above code uses the Boston Housing dataset, which is a public dataset that is widely used for regression problems. The dataset can be loaded using the pandas library and the link 'https://archive.ics.uci.edu/ml/machine-learning-databases/housing/housing.data' . The preprocessing step includes assigning the columns names and then splitting the dataset into train and test sets, using sklearn library. Then a multiple linear regression model is created and fit on the training data, predictions are made on the test data and then performance of the model is evaluated using Mean Squared Error and R-squared values. Finally, the model's performance is visualized by plotting the actual vs predicted values.\n",
        "#Reference: \"The Elements of Statistical Learning: Data Mining, Inference, and Prediction\" by T. Hastie, R. Tibshirani, J. Friedman.\n",
        "  "
      ],
      "metadata": {
        "trusted": true,
        "id": "42rAolmcYjsm"
      },
      "execution_count": null,
      "outputs": []
    }
  ]
}