{
  "cells": [
    {
      "cell_type": "code",
      "source": [
        "import numpy as np\n",
        "from sklearn.ensemble import RandomForestRegressor\n",
        "from sklearn.model_selection import train_test_split\n",
        "\n",
        "# Generate synthetic dataset\n",
        "np.random.seed(42)\n",
        "n_samples = 1000\n",
        "X = np.linspace(0, 10, n_samples).reshape(-1, 1)\n",
        "y = np.sin(X) + 0.1*np.random.randn(n_samples, 1)\n",
        "\n",
        "# Split dataset into training and calibration sets\n",
        "X_train, X_calib, y_train, y_calib = train_test_split(X, y, test_size=0.2, random_state=42)\n",
        "\n",
        "# Train model using Random Forest regressor\n",
        "model = RandomForestRegressor(n_estimators=100, random_state=42)\n",
        "model.fit(X_train, y_train)\n",
        "\n",
        "# Define conformal predictor function\n",
        "def conformal_predict(model, X_train, y_train, X_test, eps):\n",
        "    n_train = X_train.shape[0]\n",
        "    n_test = X_test.shape[0]\n",
        "    y_pred = model.predict(X_test)\n",
        "    pred_interval = np.zeros((n_test, 2))\n",
        "    for i in range(n_test):\n",
        "        # Compute residuals for training set\n",
        "        res_train = np.abs(y_train - model.predict(X_train))\n",
        "        # Compute conformity scores for training set\n",
        "        scores_train = np.sum(res_train <= res_train[i]) / n_train\n",
        "        # Compute prediction interval for test point\n",
        "        quantile = eps / (n_train + 1)\n",
        "        lower = np.percentile(y_train, 100 * quantile / 2)\n",
        "        upper = np.percentile(y_train, 100 * (1 - quantile / 2))\n",
        "        width = upper - lower\n",
        "        pred_interval[i, 0] = y_pred[i] - width/2\n",
        "        pred_interval[i, 1] = y_pred[i] + width/2\n",
        "    return pred_interval\n",
        "\n",
        "# Compute prediction intervals for calibration set\n",
        "y_calib_pred = conformal_predict(model, X_train, y_train, X_calib, eps=0.1)\n",
        "\n",
        "# Compute calibration error rate\n",
        "n_calib = y_calib.shape[0]\n",
        "error_rate = np.mean((y_calib < y_calib_pred[:, 0]) | (y_calib > y_calib_pred[:, 1]))\n",
        "\n",
        "print(\"Calibration error rate:\", error_rate)\n",
        "\n",
        "# Visualize prediction intervals for test set\n",
        "X_test = np.linspace(0, 10, 100).reshape(-1, 1)\n",
        "y_test = np.sin(X_test)\n",
        "y_test_pred = conformal_predict(model, X_train, y_train, X_test, eps=0.1)\n",
        "\n",
        "import matplotlib\n",
        "import matplotlib.pyplot as plt\n",
        "matplotlib.use('TkAgg')\n",
        "plt.plot(X_test, y_test, 'r-', label='True function')\n",
        "plt.plot(X_test, y_test_pred[:, 0], 'b--', label='Lower bound')\n",
        "plt.plot(X_test, y_test_pred[:, 1], 'g--', label='Upper bound')\n",
        "plt.fill_between(X_test.ravel(), y_test_pred[:, 0], y_test_pred[:, 1], alpha=0.2)\n",
        "plt.legend()\n",
        "plt.show()\n"
      ],
      "metadata": {
        "id": "AXfQooEHu7iZ"
      },
      "execution_count": null,
      "outputs": []
    }
  ],
  "metadata": {
    "colab": {
      "name": "Welcome to Colaboratory",
      "toc_visible": true,
      "provenance": []
    },
    "kernelspec": {
      "display_name": "Python 3",
      "name": "python3"
    }
  },
  "nbformat": 4,
  "nbformat_minor": 0
}