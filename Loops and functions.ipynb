{
  "metadata": {
    "language_info": {
      "codemirror_mode": {
        "name": "python",
        "version": 3
      },
      "file_extension": ".py",
      "mimetype": "text/x-python",
      "name": "python",
      "nbconvert_exporter": "python",
      "pygments_lexer": "ipython3",
      "version": "3.8"
    },
    "kernelspec": {
      "name": "python",
      "display_name": "Python (Pyodide)",
      "language": "python"
    }
  },
  "nbformat_minor": 4,
  "nbformat": 4,
  "cells": [
    {
      "cell_type": "code",
      "source": "#Here are a few examples in Python to introduce functions, types of variables, and loops:",
      "metadata": {},
      "execution_count": null,
      "outputs": []
    },
    {
      "cell_type": "code",
      "source": "#1. Defining and calling a function:\n\ndef add_numbers(a, b):\n    return a + b\n\nresult = add_numbers(3, 5)\nprint(result)  # prints 8\n\n#In this example, add_numbers is a function that takes two arguments (a and b) and returns the sum of those numbers. \n# The function is called with the values 3 and 5 and the result is stored in the variable result.",
      "metadata": {},
      "execution_count": null,
      "outputs": []
    },
    {
      "cell_type": "code",
      "source": "#2. Types of variables:\n# Integer variable\nage = 25\n\n# Floating-point variable\nweight = 68.5\n\n# String variable\nname = \"John\"\n\n# Boolean variable\nis_student = True\n\n#In this example, four different types of variables are defined: age is an integer, weight is a floating-point number, name is a string, and is_student is a Boolean.",
      "metadata": {},
      "execution_count": null,
      "outputs": []
    },
    {
      "cell_type": "code",
      "source": "#3.\tFor loop:\n# Iterating over a range of numbers\nfor i in range(5):\n    print(i)\n\n# Output:\n# 0\n# 1\n# 2\n# 3\n# 4\n#In this example, the for loop is used to iterate over the numbers from 0 to 4 (inclusive). \n# The variable i is used to keep track of the current number in the loop.",
      "metadata": {},
      "execution_count": null,
      "outputs": []
    },
    {
      "cell_type": "code",
      "source": "#4.\tWhile loop:\n# Counting down from 5\ncount = 5\nwhile count > 0:\n    print(count)\n    count -= 1\n\n# Output:\n# 5\n# 4\n# 3\n# 2\n# 1\n\n#In this example, the while loop is used to repeatedly execute a block of code as long as the condition (count > 0) is true. \n# The variable count is used to keep track of how many iterations are left.",
      "metadata": {},
      "execution_count": null,
      "outputs": []
    },
    {
      "cell_type": "code",
      "source": "#5.\tIterating over a list\n# Iterating over a list of numbers\nnumbers = [1, 2, 3, 4, 5]\nfor number in numbers:\n    print(number)\n\n# Output:\n# 1\n# 2\n# 3\n# 4\n# 5\n#In this example, the for loop is used to iterate over the elements of a list of numbers. \n# The variable number is used to keep track of the current element in the loop.",
      "metadata": {},
      "execution_count": null,
      "outputs": []
    },
    {
      "cell_type": "code",
      "source": "#Here are a few examples of using nested loops and calling functions in Python:",
      "metadata": {},
      "execution_count": null,
      "outputs": []
    },
    {
      "cell_type": "code",
      "source": "#1.\tUsing nested loops:\n\n# Printing multiplication table\nfor i in range(1, 11):\n    for j in range(1, 11):\n        print(i * j, end=\"\\t\")\n    print()\n\n#In this example, two nested for loops are used to print a multiplication table. \n# The outer loop iterates over the numbers from 1 to 10, and the inner loop iterates over the numbers from 1 to 10 for each value of the outer loop. \n# The end parameter of the print function is used to specify that a tab character should be printed instead of a newline after each number, so that the numbers are properly aligned in a grid.",
      "metadata": {},
      "execution_count": null,
      "outputs": []
    },
    {
      "cell_type": "code",
      "source": "#2.\tCalling a function within a loop\n\n# Calculating factorials\ndef factorial(n):\n    result = 1\n    for i in range(1, n + 1):\n        result *= i\n    return result\n\n\nfor i in range(1, 6):\n    print(factorial(i))\n\n# Output:\n# 1\n# 2\n# 6\n# 24\n# 120\n\n#In this example, a for loop is used to iterate over the numbers from 1 to 5. \n# For each number, the factorial function is called, which calculates and returns the factorial of that number. \n# The result is then printed to the console.",
      "metadata": {},
      "execution_count": null,
      "outputs": []
    },
    {
      "cell_type": "code",
      "source": "#3.\tNested loops and function calls\ndef calculate_area(length, width):\n    return length * width\n\n\nfor i in range(1, 4):\n    for j in range(1, 4):\n        area = calculate_area(i, j)\n        print(\"Area of a rectangle with length {} and width {} is {}\".format(i, j, area))\n\n# Output:\n# Area of a rectangle with length 1 and width 1 is 1\n# Area of a rectangle with length 1 and width 2 is 2\n# Area of a rectangle with length 1 and width 3 is 3\n# Area of a rectangle with length 2 and width 1 is 2\n# Area of a rectangle with length 2 and width 2 is 4\n# Area of a rectangle with length 2 and width 3 is 6\n# Area of a rectangle with length 3 and width 1 is 3\n# Area of a rectangle with length 3 and width 2 is 6\n# Area of a rectangle with length 3 and width 3 is 9\n\n#In this example, two nested loops are used to calculate the area of rectangles with different lengths and widths. \n# The calculate_area function is called for each combination of length and width, and the result is printed to the console along with the length and width used to calculate it.\n#Please note that in the above examples, the range of the loops can be adjusted to suit your needs, and the loop variables and function parameters can have different names.",
      "metadata": {},
      "execution_count": null,
      "outputs": []
    }
  ]
}