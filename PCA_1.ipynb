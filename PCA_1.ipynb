{
  "cells": [
    {
      "cell_type": "code",
      "source": [
        "# Load the dataset\n",
        "from mpl_toolkits.mplot3d import Axes3D\n",
        "import matplotlib.pyplot as plt\n",
        "from sklearn.datasets import make_swiss_roll\n",
        "\n",
        "X, color = make_swiss_roll(n_samples=1000, random_state=42)\n"
      ],
      "metadata": {
        "id": "DGqT3e8UCFO-"
      },
      "execution_count": null,
      "outputs": []
    },
    {
      "cell_type": "code",
      "source": [
        "\n",
        "# Visualize the original data in 3D\n",
        "fig = plt.figure(figsize=(8, 6))\n",
        "ax = fig.add_subplot(111, projection='3d')\n",
        "ax.scatter(X[:, 0], X[:, 1], X[:, 2], c=color, cmap=plt.cm.Spectral)\n",
        "ax.set_title('Original Swiss Roll Data')\n",
        "ax.set_xlabel('X')\n",
        "ax.set_ylabel('Y')\n",
        "ax.set_zlabel('Z')\n",
        "plt.show()\n"
      ],
      "metadata": {
        "id": "F8UTrP3ECFGQ"
      },
      "execution_count": null,
      "outputs": []
    },
    {
      "cell_type": "code",
      "source": [
        "\n",
        "# Standardize the data\n",
        "from sklearn.preprocessing import StandardScaler\n",
        "scaler = StandardScaler()\n",
        "X_std = scaler.fit_transform(X)\n"
      ],
      "metadata": {
        "id": "fatZhN8SCE_U"
      },
      "execution_count": null,
      "outputs": []
    },
    {
      "cell_type": "code",
      "source": [
        "\n",
        "# Compute the covariance matrix\n",
        "import numpy as np\n",
        "cov_mat = np.cov(X_std.T)\n",
        "\n"
      ],
      "metadata": {
        "id": "n1Z0W35fCE4t"
      },
      "execution_count": null,
      "outputs": []
    },
    {
      "cell_type": "code",
      "source": [
        "# Compute the eigenvectors and eigenvalues of the covariance matrix\n",
        "eig_vals, eig_vecs = np.linalg.eig(cov_mat)\n",
        "\n"
      ],
      "metadata": {
        "id": "sdxmXv4KCExC"
      },
      "execution_count": null,
      "outputs": []
    },
    {
      "cell_type": "code",
      "source": [
        "# Sort the eigenvectors by their corresponding eigenvalues\n",
        "eig_pairs = [(np.abs(eig_vals[i]), eig_vecs[:,i]) for i in range(len(eig_vals))]\n",
        "eig_pairs.sort(reverse=True)"
      ],
      "metadata": {
        "id": "yo-qs9bqCEq1"
      },
      "execution_count": null,
      "outputs": []
    },
    {
      "cell_type": "code",
      "source": [
        "# Choose the number of principal components\n",
        "n_components = 2\n",
        "\n",
        "# Transform the data using the selected principal components\n",
        "from sklearn.decomposition import PCA\n",
        "pca = PCA(n_components=n_components)\n",
        "X_pca = pca.fit_transform(X_std)\n"
      ],
      "metadata": {
        "id": "JnfKV8oCCEkp"
      },
      "execution_count": null,
      "outputs": []
    },
    {
      "cell_type": "code",
      "source": [
        "\n",
        "# Visualize the transformed data in 2D\n",
        "plt.figure(figsize=(8, 6))\n",
        "plt.scatter(X_pca[:, 0], X_pca[:, 1], c=color, cmap=plt.cm.Spectral)\n",
        "plt.title('Transformed Swiss Roll Data')\n",
        "plt.xlabel('Principal Component 1')\n",
        "plt.ylabel('Principal Component 2')\n",
        "plt.show()\n"
      ],
      "metadata": {
        "id": "mXpQXIxWCEdp"
      },
      "execution_count": null,
      "outputs": []
    },
    {
      "cell_type": "code",
      "source": [],
      "metadata": {
        "id": "W4udrdBGCEV9"
      },
      "execution_count": null,
      "outputs": []
    },
    {
      "cell_type": "code",
      "source": [],
      "metadata": {
        "id": "k_EObGJqCEOi"
      },
      "execution_count": null,
      "outputs": []
    },
    {
      "cell_type": "code",
      "source": [],
      "metadata": {
        "id": "pZv8jlaHCEGo"
      },
      "execution_count": null,
      "outputs": []
    },
    {
      "cell_type": "code",
      "source": [],
      "metadata": {
        "id": "fXA6m55OCD4r"
      },
      "execution_count": null,
      "outputs": []
    },
    {
      "cell_type": "code",
      "source": [],
      "metadata": {
        "id": "kBizCk_fCDoX"
      },
      "execution_count": null,
      "outputs": []
    }
  ],
  "metadata": {
    "colab": {
      "name": "Welcome to Colaboratory",
      "toc_visible": true,
      "provenance": []
    },
    "kernelspec": {
      "display_name": "Python 3",
      "name": "python3"
    }
  },
  "nbformat": 4,
  "nbformat_minor": 0
}