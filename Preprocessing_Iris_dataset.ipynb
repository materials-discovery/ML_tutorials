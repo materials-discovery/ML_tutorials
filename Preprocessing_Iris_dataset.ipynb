{
  "nbformat": 4,
  "nbformat_minor": 0,
  "metadata": {
    "colab": {
      "provenance": []
    },
    "kernelspec": {
      "name": "python3",
      "display_name": "Python 3"
    },
    "language_info": {
      "name": "python"
    }
  },
  "cells": [
    {
      "cell_type": "code",
      "execution_count": 5,
      "metadata": {
        "id": "VtDFJbjK8UG-"
      },
      "outputs": [],
      "source": [
        "import seaborn as sns\n",
        "import pandas as pd\n",
        "# load the iris dataset\n",
        "#iris = pd.read_csv(\"iris.csv\")\n",
        "# Load the iris dataset\n",
        "url = 'https://archive.ics.uci.edu/ml/machine-learning-databases/iris/iris.data'\n",
        "colnames = ['sepal_length', 'sepal_width', 'petal_length', 'petal_width', 'species']\n",
        "iris = pd.read_csv(url, header=None, names=colnames)"
      ]
    },
    {
      "cell_type": "code",
      "source": [
        "# Visualize the iris dataset using a scatter plot matrix\n",
        "sns.pairplot(iris, hue='species')\n",
        "plt.show()"
      ],
      "metadata": {
        "id": "fTz64l2o8uiz"
      },
      "execution_count": null,
      "outputs": []
    },
    {
      "cell_type": "code",
      "source": [
        "\n",
        "# check the first 5 rows of the dataset\n",
        "print(iris.head())"
      ],
      "metadata": {
        "id": "JQRwSCof8yLN"
      },
      "execution_count": null,
      "outputs": []
    },
    {
      "cell_type": "code",
      "source": [
        "\n",
        "# check for missing values\n",
        "print(iris.isnull().sum())"
      ],
      "metadata": {
        "id": "YdFpphlY8yn3"
      },
      "execution_count": null,
      "outputs": []
    },
    {
      "cell_type": "code",
      "source": [
        "\n",
        "# fill missing values with the mean of the column\n",
        "iris = iris.fillna(iris.mean())"
      ],
      "metadata": {
        "id": "LQaA3aYa8zER"
      },
      "execution_count": null,
      "outputs": []
    },
    {
      "cell_type": "code",
      "source": [
        "# check for duplicate rows\n",
        "print(iris.duplicated().sum())"
      ],
      "metadata": {
        "id": "tuKRWsOZ8zbj"
      },
      "execution_count": null,
      "outputs": []
    },
    {
      "cell_type": "code",
      "source": [
        "# remove duplicate rows\n",
        "iris = iris.drop_duplicates()"
      ],
      "metadata": {
        "id": "ApmOftr589ep"
      },
      "execution_count": null,
      "outputs": []
    },
    {
      "cell_type": "code",
      "source": [
        "# check for inconsistent data types\n",
        "print(iris.dtypes)"
      ],
      "metadata": {
        "id": "YkG8ySQW893-"
      },
      "execution_count": null,
      "outputs": []
    },
    {
      "cell_type": "code",
      "source": [
        "# convert the 'species' column to categorical\n",
        "iris['species'] = iris['species'].astype('category')"
      ],
      "metadata": {
        "id": "jN6mUPpy8-Uk"
      },
      "execution_count": null,
      "outputs": []
    },
    {
      "cell_type": "code",
      "source": [
        "# check for outliers\n",
        "print(iris.describe())"
      ],
      "metadata": {
        "id": "4ha0iA8d9EDI"
      },
      "execution_count": null,
      "outputs": []
    },
    {
      "cell_type": "code",
      "source": [
        "# remove outliers using the interquartile range method\n",
        "Q1 = iris.quantile(0.25)\n",
        "Q3 = iris.quantile(0.75)\n",
        "IQR = Q3 - Q1\n",
        "iris = iris[~((iris < (Q1 - 1.5 * IQR)) |(iris > (Q3 + 1.5 * IQR))).any(axis=1)]\n",
        "\n",
        "# check the final shape of the dataset\n",
        "print(iris.shape)"
      ],
      "metadata": {
        "id": "Uj97G5nU9Eyk"
      },
      "execution_count": null,
      "outputs": []
    },
    {
      "cell_type": "code",
      "source": [
        "# remove outliers using the interquartile range method\n",
        "Q1 = iris.quantile(0.25)\n",
        "Q3 = iris.quantile(0.75)\n",
        "IQR = Q3 - Q1\n",
        "iris = iris[~((iris < (Q1 - 1.5 * IQR)) |(iris > (Q3 + 1.5 * IQR))).any(axis=1)]\n",
        "\n",
        "# check the final shape of the dataset\n",
        "print(iris.shape)"
      ],
      "metadata": {
        "id": "votas5AW9FPQ"
      },
      "execution_count": null,
      "outputs": []
    }
  ]
}