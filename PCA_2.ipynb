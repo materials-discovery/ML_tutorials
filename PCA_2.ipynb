{
  "cells": [
    {
      "cell_type": "code",
      "source": [
        "# Load the dataset\n",
        "from sklearn.datasets import load_iris\n",
        "import matplotlib.pyplot as plt\n",
        "\n",
        "iris = load_iris()\n",
        "X = iris.data\n",
        "y = iris.target"
      ],
      "metadata": {
        "id": "KdGxL7MFAAz1"
      },
      "execution_count": null,
      "outputs": []
    },
    {
      "cell_type": "code",
      "source": [
        "\n",
        "# Visualize the original data in 3D\n",
        "from mpl_toolkits.mplot3d import Axes3D\n",
        "fig = plt.figure(figsize=(8, 6))\n",
        "ax = fig.add_subplot(111, projection='3d')\n",
        "ax.scatter(X[:, 0], X[:, 1], X[:, 2], c=y, cmap=plt.cm.Set1, edgecolor='k', s=40)\n",
        "ax.set_title('Original Iris Data')\n",
        "ax.set_xlabel('Sepal length')\n",
        "ax.set_ylabel('Sepal width')\n",
        "ax.set_zlabel('Petal length')\n",
        "plt.show()\n",
        "\n"
      ],
      "metadata": {
        "id": "XGq9rO8BADH8"
      },
      "execution_count": null,
      "outputs": []
    },
    {
      "cell_type": "code",
      "source": [
        "\n",
        "# Standardize the data\n",
        "from sklearn.preprocessing import StandardScaler\n",
        "scaler = StandardScaler()\n",
        "X_std = scaler.fit_transform(X)\n"
      ],
      "metadata": {
        "id": "awCaTEuVADzN"
      },
      "execution_count": null,
      "outputs": []
    },
    {
      "cell_type": "code",
      "source": [
        "\n",
        "# Compute the covariance matrix\n",
        "import numpy as np\n",
        "cov_mat = np.cov(X_std.T)\n",
        "\n"
      ],
      "metadata": {
        "id": "xR2QsSq4AER8"
      },
      "execution_count": null,
      "outputs": []
    },
    {
      "cell_type": "code",
      "source": [
        "# Compute the eigenvectors and eigenvalues of the covariance matrix\n",
        "eig_vals, eig_vecs = np.linalg.eig(cov_mat)\n"
      ],
      "metadata": {
        "id": "CNVnUyPMAEje"
      },
      "execution_count": null,
      "outputs": []
    },
    {
      "cell_type": "code",
      "source": [
        "\n",
        "# Sort the eigenvectors by their corresponding eigenvalues\n",
        "eig_pairs = [(np.abs(eig_vals[i]), eig_vecs[:,i]) for i in range(len(eig_vals))]\n",
        "eig_pairs.sort(reverse=True)\n"
      ],
      "metadata": {
        "id": "oZgGFu61AE0s"
      },
      "execution_count": null,
      "outputs": []
    },
    {
      "cell_type": "code",
      "source": [
        "\n",
        "# Choose the number of principal components\n",
        "n_components = 3\n",
        "\n",
        "# Calculate the total variance and the explained variance for each principal component\n",
        "total_variance = sum(eig_vals)\n",
        "explained_variance = [(i / total_variance) for i in sorted(eig_vals, reverse=True)]\n"
      ],
      "metadata": {
        "id": "bEO7idkUAFUG"
      },
      "execution_count": null,
      "outputs": []
    },
    {
      "cell_type": "code",
      "source": [
        "\n",
        "# Transform the data using the selected principal components\n",
        "from sklearn.decomposition import PCA\n",
        "pca = PCA(n_components=n_components)\n",
        "X_pca = pca.fit_transform(X_std)\n",
        "\n"
      ],
      "metadata": {
        "id": "Fk5_rc4HAFw2"
      },
      "execution_count": null,
      "outputs": []
    },
    {
      "cell_type": "code",
      "source": [
        "# Visualize the transformed data in 2D\n",
        "plt.figure(figsize=(8, 6))\n",
        "plt.scatter(X_pca[:, 0], X_pca[:, 1], c=y, cmap=plt.cm.Set1, edgecolor='k', s=40)\n",
        "plt.title('Transformed Iris Data')\n",
        "plt.xlabel('Principal Component 1')\n",
        "plt.ylabel('Principal Component 2')\n",
        "plt.show()\n"
      ],
      "metadata": {
        "id": "pbVwb5KpBvqq"
      },
      "execution_count": null,
      "outputs": []
    },
    {
      "cell_type": "code",
      "source": [
        "\n",
        "# Plot the explained variance as a function of the number of principal components\n",
        "plt.figure(figsize=(8, 6))\n",
        "plt.bar(range(1, n_components + 1), explained_variance[:n_components], align='center')\n",
        "plt.xticks(range(1, n_components + 1))\n",
        "plt.xlabel('Principal Component')\n",
        "plt.ylabel('Explained Variance Ratio')\n",
        "plt.title('Explained Variance as a Function of the Number of Principal Components')\n",
        "plt.show()"
      ],
      "metadata": {
        "id": "K3_iTBk3BwDm"
      },
      "execution_count": null,
      "outputs": []
    }
  ],
  "metadata": {
    "colab": {
      "name": "Welcome to Colaboratory",
      "toc_visible": true,
      "provenance": []
    },
    "kernelspec": {
      "display_name": "Python 3",
      "name": "python3"
    }
  },
  "nbformat": 4,
  "nbformat_minor": 0
}