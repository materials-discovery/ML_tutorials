{
  "metadata": {
    "language_info": {
      "codemirror_mode": {
        "name": "python",
        "version": 3
      },
      "file_extension": ".py",
      "mimetype": "text/x-python",
      "name": "python",
      "nbconvert_exporter": "python",
      "pygments_lexer": "ipython3",
      "version": "3.8"
    },
    "kernelspec": {
      "name": "python",
      "display_name": "Python (Pyodide)",
      "language": "python"
    },
    "colab": {
      "provenance": []
    }
  },
  "nbformat_minor": 0,
  "nbformat": 4,
  "cells": [
    {
      "cell_type": "code",
      "source": [
        "#This code uses the Wholesale Customers dataset, which is a publicly available dataset from the UCI Machine Learning Repository. \n",
        "#The dataset contains sales data for a wholesale distributor and includes the following features: 'Fresh', 'Milk', 'Grocery', 'Frozen', 'Detergents_Paper', and 'Delicatessen'. \n",
        "#The code drops the 'Region' and 'Channel' columns, and then splits the data into training and test sets. \n",
        "#The model is initialized with LinearRegression() and we use GridSearchCV to find the best hyperparameter for the model. \n",
        "#Then, we fit the grid search object to the data, make predictions on the test set and evaluate the model's performance. \n",
        "#Finally, we visualize the results.\n",
        "\n"
      ],
      "metadata": {
        "id": "OgpZIg_Qb8rx"
      },
      "execution_count": 1,
      "outputs": []
    },
    {
      "cell_type": "code",
      "source": [
        "import pandas as pd\n",
        "from sklearn.model_selection import train_test_split, GridSearchCV\n",
        "from sklearn.linear_model import LinearRegression\n",
        "from sklearn.metrics import mean_absolute_error, r2_score\n",
        "import matplotlib.pyplot as plt"
      ],
      "metadata": {
        "id": "Erq4NIICb8r4"
      },
      "execution_count": 2,
      "outputs": []
    },
    {
      "cell_type": "code",
      "source": [
        "# Load the data\n",
        "df = pd.read_csv(\"https://archive.ics.uci.edu/ml/machine-learning-databases/00292/Wholesale%20customers%20data.csv\")\n",
        "\n",
        "# Preprocessing"
      ],
      "metadata": {
        "id": "lBTFT4_Db8r6"
      },
      "execution_count": 3,
      "outputs": []
    },
    {
      "cell_type": "code",
      "source": [
        "# drop the 'Region' and 'Channel' columns\n",
        "df.drop(['Region', 'Channel'], axis=1, inplace=True)"
      ],
      "metadata": {
        "id": "pZ7dtKEHb8r9"
      },
      "execution_count": 4,
      "outputs": []
    },
    {
      "cell_type": "code",
      "source": [
        "# Split the data into training and test sets\n",
        "X = df.drop('Fresh', axis=1)\n",
        "y = df['Fresh']\n",
        "X_train, X_test, y_train, y_test = train_test_split(X, y, test_size=0.2, random_state=42)"
      ],
      "metadata": {
        "id": "ZFxJcdoqb8r-"
      },
      "execution_count": 5,
      "outputs": []
    },
    {
      "cell_type": "code",
      "source": [
        "# Initialize the model\n",
        "lm = LinearRegression()"
      ],
      "metadata": {
        "id": "L1TeWca-b8r_"
      },
      "execution_count": 6,
      "outputs": []
    },
    {
      "cell_type": "code",
      "source": [
        "# Define the parameter grid\n",
        "param_grid = {'fit_intercept':[True,False]}"
      ],
      "metadata": {
        "id": "ZEg_20qNb8sA"
      },
      "execution_count": 14,
      "outputs": []
    },
    {
      "cell_type": "code",
      "source": [
        "# Initialize the grid search object\n",
        "grid = GridSearchCV(lm, param_grid, cv=5)"
      ],
      "metadata": {
        "id": "zZvJkKpsb8sC"
      },
      "execution_count": 15,
      "outputs": []
    },
    {
      "cell_type": "code",
      "source": [
        "# Fit the grid search object to the data\n",
        "grid.fit(X_train, y_train)"
      ],
      "metadata": {
        "id": "zYCnsDv6b8sC"
      },
      "execution_count": null,
      "outputs": []
    },
    {
      "cell_type": "code",
      "source": [
        "# Make predictions on the test set\n",
        "y_pred = grid.predict(X_test)"
      ],
      "metadata": {
        "id": "5F1VNDQ2b8sF"
      },
      "execution_count": 17,
      "outputs": []
    },
    {
      "cell_type": "code",
      "source": [
        "# Evaluate the model's performance\n",
        "mae = mean_absolute_error(y_test, y_pred)\n",
        "r2 = r2_score(y_test, y_pred)\n",
        "print(\"Mean Absolute Error: \", mae)\n",
        "print(\"R-squared: \", r2)"
      ],
      "metadata": {
        "id": "wVjKhR2Qb8sG"
      },
      "execution_count": null,
      "outputs": []
    },
    {
      "cell_type": "code",
      "source": [
        "# Visualize the results\n",
        "plt.scatter(y_test, y_pred)\n",
        "plt.xlabel(\"Actual Fresh Sales\")\n",
        "plt.ylabel(\"Predicted Fresh Sales\")\n",
        "plt.show()"
      ],
      "metadata": {
        "id": "ZtW8HF-Xb8sI"
      },
      "execution_count": null,
      "outputs": []
    },
    {
      "cell_type": "code",
      "source": [
        "#References:\n",
        "#1.\tWholesale customers dataset https://archive.ics.uci.edu/ml/datasets/Wholesale+customers\n",
        "#2.\thttps://scikit-learn.org/stable/modules/generated/sklearn.linear_model.LinearRegression.html"
      ],
      "metadata": {
        "id": "i8GvE0W3b8sJ"
      },
      "execution_count": null,
      "outputs": []
    }
  ]
}