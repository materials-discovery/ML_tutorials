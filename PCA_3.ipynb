{
  "cells": [
    {
      "cell_type": "code",
      "source": [
        "# Load the iris dataset\n",
        "from sklearn.datasets import load_iris\n",
        "iris = load_iris()\n"
      ],
      "metadata": {
        "id": "v_9dNUNpDP2N"
      },
      "execution_count": null,
      "outputs": []
    },
    {
      "cell_type": "code",
      "source": [
        "\n",
        "# Standardize the data\n",
        "from sklearn.preprocessing import StandardScaler\n",
        "scaler = StandardScaler()\n",
        "X_std = scaler.fit_transform(iris.data)\n"
      ],
      "metadata": {
        "id": "iF5qEM0wDPwq"
      },
      "execution_count": null,
      "outputs": []
    },
    {
      "cell_type": "code",
      "source": [
        "\n",
        "# Compute the covariance matrix\n",
        "import numpy as np\n",
        "cov_mat = np.cov(X_std.T)\n"
      ],
      "metadata": {
        "id": "9rCSFw3ZDPq2"
      },
      "execution_count": null,
      "outputs": []
    },
    {
      "cell_type": "code",
      "source": [
        "\n",
        "# Compute the eigenvectors and eigenvalues of the covariance matrix\n",
        "eig_vals, eig_vecs = np.linalg.eig(cov_mat)\n"
      ],
      "metadata": {
        "id": "rYQSE2SqDPl3"
      },
      "execution_count": null,
      "outputs": []
    },
    {
      "cell_type": "code",
      "source": [
        "\n",
        "# Sort the eigenvectors by their corresponding eigenvalues\n",
        "eig_pairs = [(np.abs(eig_vals[i]), eig_vecs[:,i]) for i in range(len(eig_vals))]\n",
        "eig_pairs.sort(reverse=True)\n"
      ],
      "metadata": {
        "id": "w8v9feobDPgc"
      },
      "execution_count": null,
      "outputs": []
    },
    {
      "cell_type": "code",
      "source": [
        "\n",
        "# Choose the number of principal components\n",
        "n_components = 2\n",
        "\n",
        "# Transform the data using the selected principal components\n",
        "from sklearn.decomposition import PCA\n",
        "pca = PCA(n_components=n_components)\n",
        "X_pca = pca.fit_transform(X_std)\n"
      ],
      "metadata": {
        "id": "Uh-u3Ew9DPbb"
      },
      "execution_count": null,
      "outputs": []
    },
    {
      "cell_type": "code",
      "source": [
        "\n",
        "# Visualize the original data\n",
        "import matplotlib.pyplot as plt\n",
        "plt.figure(figsize=(8,6))\n",
        "plt.scatter(X_std[:,0], X_std[:,1], c=iris.target)\n",
        "plt.title('Original Iris Data')\n",
        "plt.xlabel('Sepal Length')\n",
        "plt.ylabel('Sepal Width')\n",
        "plt.show()\n"
      ],
      "metadata": {
        "id": "igy3ItzODPWI"
      },
      "execution_count": null,
      "outputs": []
    },
    {
      "cell_type": "code",
      "source": [
        "\n",
        "# Visualize the covariance matrix\n",
        "plt.figure(figsize=(8,6))\n",
        "plt.imshow(cov_mat, cmap='coolwarm', interpolation='nearest')\n",
        "plt.title('Covariance Matrix')\n",
        "plt.colorbar()\n",
        "plt.show()\n"
      ],
      "metadata": {
        "id": "88a_pEzCDPQ3"
      },
      "execution_count": null,
      "outputs": []
    },
    {
      "cell_type": "code",
      "source": [
        "\n",
        "# Visualize the explained variance ratio\n",
        "plt.figure(figsize=(8,6))\n",
        "plt.bar(range(n_components), pca.explained_variance_ratio_)\n",
        "plt.title('Explained Variance Ratio')\n",
        "plt.xlabel('Principal Components')\n",
        "plt.ylabel('Explained Variance Ratio')\n",
        "plt.show()\n",
        "\n"
      ],
      "metadata": {
        "id": "IBt7v5gqDPLq"
      },
      "execution_count": null,
      "outputs": []
    },
    {
      "cell_type": "code",
      "source": [
        "# Visualize the principal components\n",
        "plt.figure(figsize=(8,6))\n",
        "for i in range(n_components):\n",
        "    plt.arrow(0, 0, eig_pairs[i][1][0], eig_pairs[i][1][1], color='red', alpha=0.5, width=0.1, head_width=0.3)\n",
        "    plt.text(eig_pairs[i][1][0]*1.2, eig_pairs[i][1][1]*1.2, f'PC {i+1}', color='black', ha='center', va='center', fontsize=12)\n",
        "plt.xlim(-1, 1)\n",
        "plt.ylim(-1, 1)\n",
        "plt.title('Principal Components')\n",
        "plt.xlabel('Feature 1')\n",
        "plt.ylabel('Feature 2')\n",
        "plt.show()\n"
      ],
      "metadata": {
        "id": "mVcQjcP4DPGj"
      },
      "execution_count": null,
      "outputs": []
    },
    {
      "cell_type": "code",
      "source": [
        "\n",
        "# Visualize the transformed data\n",
        "plt.figure(figsize=(8,6))\n",
        "plt.scatter(X_pca[:,0], X_pca[:,1], c=iris.target)\n",
        "plt.title('Transformed Iris Data')\n",
        "plt.xlabel('Principal Component 1')\n",
        "plt.ylabel('Principal Component 2')\n",
        "plt.show()"
      ],
      "metadata": {
        "id": "pQo8zYidDPBf"
      },
      "execution_count": null,
      "outputs": []
    },
    {
      "cell_type": "code",
      "source": [],
      "metadata": {
        "id": "w5wkiUDXDO7w"
      },
      "execution_count": null,
      "outputs": []
    },
    {
      "cell_type": "code",
      "source": [],
      "metadata": {
        "id": "_9ikObXkDO21"
      },
      "execution_count": null,
      "outputs": []
    },
    {
      "cell_type": "code",
      "source": [],
      "metadata": {
        "id": "PhwO-aEADOxM"
      },
      "execution_count": null,
      "outputs": []
    },
    {
      "cell_type": "code",
      "source": [],
      "metadata": {
        "id": "RMcAw6YqDOrj"
      },
      "execution_count": null,
      "outputs": []
    }
  ],
  "metadata": {
    "colab": {
      "name": "Welcome to Colaboratory",
      "toc_visible": true,
      "provenance": []
    },
    "kernelspec": {
      "display_name": "Python 3",
      "name": "python3"
    }
  },
  "nbformat": 4,
  "nbformat_minor": 0
}