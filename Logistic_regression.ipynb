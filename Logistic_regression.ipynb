{
  "nbformat": 4,
  "nbformat_minor": 0,
  "metadata": {
    "colab": {
      "provenance": []
    },
    "kernelspec": {
      "name": "python3",
      "display_name": "Python 3"
    },
    "language_info": {
      "name": "python"
    }
  },
  "cells": [
    {
      "cell_type": "code",
      "execution_count": null,
      "metadata": {
        "id": "Z1dpQ93r5XbS"
      },
      "outputs": [],
      "source": [
        "#import the needed libraries\n",
        "\n",
        "import pandas as pd\n",
        "import numpy as np\n",
        "import matplotlib.pyplot as plt\n",
        "from sklearn.model_selection import train_test_split\n",
        "from sklearn.preprocessing import StandardScaler\n",
        "from sklearn.linear_model import LogisticRegression\n",
        "from sklearn.metrics import accuracy_score\n"
      ]
    },
    {
      "cell_type": "code",
      "source": [
        "\n",
        "# Load the dataset\n",
        "url = 'https://archive.ics.uci.edu/ml/machine-learning-databases/breast-cancer-wisconsin/wdbc.data'\n",
        "colnames = ['id', 'diagnosis', 'radius_mean', 'texture_mean', 'perimeter_mean',\n",
        "           'area_mean', 'smoothness_mean', 'compactness_mean', 'concavity_mean',\n",
        "           'concave points_mean', 'symmetry_mean', 'fractal_dimension_mean',\n",
        "           'radius_se', 'texture_se', 'perimeter_se', 'area_se', 'smoothness_se',\n",
        "           'compactness_se', 'concavity_se', 'concave points_se', 'symmetry_se',\n",
        "           'fractal_dimension_se', 'radius_worst', 'texture_worst', 'perimeter_worst',\n",
        "           'area_worst', 'smoothness_worst', 'compactness_worst', 'concavity_worst',\n",
        "           'concave points_worst', 'symmetry_worst', 'fractal_dimension_worst']\n",
        "data = pd.read_csv(url, header=None, names=colnames)\n",
        "\n"
      ],
      "metadata": {
        "id": "X3epoXn95iRR"
      },
      "execution_count": null,
      "outputs": []
    },
    {
      "cell_type": "code",
      "source": [
        "\n",
        "# Preprocess the data\n",
        "X = data.iloc[:, 2:]\n",
        "y = data.iloc[:, 1].replace({'B': 0, 'M': 1})\n",
        "\n",
        "# Split the data into training and test sets\n",
        "X_train, X_test, y_train, y_test = train_test_split(X, y, test_size=0.3, random_state=0)\n",
        "\n",
        "# Without Preprocessing\n",
        "# Fit a logistic regression model\n",
        "clf = LogisticRegression(solver='lbfgs')\n",
        "clf.fit(X_train, y_train)\n",
        "\n",
        "# Predict the test set\n",
        "y_pred_train = clf.predict(X_train)\n",
        "y_pred_test = clf.predict(X_test)\n",
        "\n",
        "# Calculate the accuracy scores\n",
        "acc_train = accuracy_score(y_train, y_pred_train)\n",
        "acc_test = accuracy_score(y_test, y_pred_test)\n",
        "\n",
        "# With Preprocessing\n",
        "# Standardize the features\n",
        "sc = StandardScaler()\n",
        "X_train_std = sc.fit_transform(X_train)\n",
        "X_test_std = sc.transform(X_test)\n"
      ],
      "metadata": {
        "id": "hGhJDdkq50w9"
      },
      "execution_count": null,
      "outputs": []
    },
    {
      "cell_type": "code",
      "source": [
        "\n",
        "# Fit a logistic regression model\n",
        "clf = LogisticRegression(solver='lbfgs')\n",
        "clf.fit(X_train_std, y_train)"
      ],
      "metadata": {
        "id": "dLoDEFNS72Yg"
      },
      "execution_count": null,
      "outputs": []
    },
    {
      "cell_type": "code",
      "source": [
        "# Predict the test set\n",
        "y_pred_train_std = clf.predict(X_train_std)\n",
        "y_pred_test_std = clf.predict(X_test_std)"
      ],
      "metadata": {
        "id": "WfD5_vbN73rc"
      },
      "execution_count": null,
      "outputs": []
    },
    {
      "cell_type": "code",
      "source": [
        "# Calculate the accuracy scores\n",
        "acc_train_std = accuracy_score(y_train, y_pred_train_std)\n",
        "acc_test_std = accuracy_score(y_test, y_pred_test_std)"
      ],
      "metadata": {
        "id": "i4UVG1ty728Q"
      },
      "execution_count": null,
      "outputs": []
    },
    {
      "cell_type": "code",
      "source": [
        "# Visualize the results\n",
        "objects = ('Without Preprocessing - Train', 'Without Preprocessing - Test',\n",
        "           'With Preprocessing - Train', 'With Preprocessing - Test')\n",
        "y_pos = np.arange(len(objects))\n",
        "performance = [acc_train, acc_test, acc_train_std, acc_test_std]\n",
        "\n",
        "plt.bar(y_pos, performance, align='center', alpha=0.5)\n",
        "plt.xticks(y_pos, objects)\n",
        "plt.ylabel('Accuracy')\n",
        "plt.title('Comparison of Logistic Regression Performance with and without Preprocessing')\n",
        "\n",
        "plt.show()"
      ],
      "metadata": {
        "id": "_OlZkDcD7-_w"
      },
      "execution_count": null,
      "outputs": []
    }
  ]
}