{
  "nbformat": 4,
  "nbformat_minor": 0,
  "metadata": {
    "colab": {
      "provenance": []
    },
    "kernelspec": {
      "name": "python3",
      "display_name": "Python 3"
    },
    "language_info": {
      "name": "python"
    }
  },
  "cells": [
    {
      "cell_type": "code",
      "execution_count": 10,
      "metadata": {
        "id": "s2Xw5BgwI_xX"
      },
      "outputs": [],
      "source": [
        "#building a predictive model using a random forest classifier with the steps of\n",
        "#preprocessing, performance evaluation, and visualization of the results:\n",
        "import pandas as pd\n",
        "from sklearn.model_selection import train_test_split, GridSearchCV\n",
        "from sklearn.ensemble import RandomForestClassifier\n",
        "from sklearn.metrics import accuracy_score, confusion_matrix\n",
        "import matplotlib.pyplot as plt\n",
        "import numpy as np"
      ]
    },
    {
      "cell_type": "code",
      "source": [
        "# Load the data\n",
        "#df = pd.read_csv(\"https://archive.ics.uci.edu/ml/machine-learning-databases/00267/data_banknote_authentication.txt\", header = None)\n",
        "#df.columns = ['variance','skewness','curtosis','entropy','class']\n",
        "#url = r\"C:\\Users\\s1107709\\Downloads\\archive\\iris.csv\"\n",
        "url = 'https://archive.ics.uci.edu/ml/machine-learning-databases/iris/iris.data'\n",
        "colnames = ['sepal_length', 'sepal_width', 'petal_length', 'petal_width', 'species']\n",
        "iris = pd.read_csv(url, header=None, names=colnames)\n",
        "#iris = pd.read_csv(url)\n",
        "\n",
        "df = iris"
      ],
      "metadata": {
        "id": "aQEgAQH8JFu6"
      },
      "execution_count": 11,
      "outputs": []
    },
    {
      "cell_type": "code",
      "source": [
        "# Preprocessing\n",
        "# Split the data into training and test sets\n",
        "X = df.drop('species', axis=1)\n",
        "y = df['species']\n",
        "X_train, X_test, y_train, y_test = train_test_split(X, y, test_size=0.2, random_state=42)\n"
      ],
      "metadata": {
        "id": "EfHbsbe5JGKa"
      },
      "execution_count": 12,
      "outputs": []
    },
    {
      "cell_type": "code",
      "source": [
        "# Initialize the model\n",
        "rf = RandomForestClassifier()\n"
      ],
      "metadata": {
        "id": "gJ_yjpC5JGe8"
      },
      "execution_count": 13,
      "outputs": []
    },
    {
      "cell_type": "code",
      "source": [
        "# Define the parameter grid\n",
        "param_grid = {'n_estimators': [50, 100, 200], 'max_depth': [5, 10, 15]}\n"
      ],
      "metadata": {
        "id": "wBouhIDaJGuY"
      },
      "execution_count": 14,
      "outputs": []
    },
    {
      "cell_type": "code",
      "source": [
        "# Initialize the grid search object\n",
        "grid = GridSearchCV(rf, param_grid, cv=5)"
      ],
      "metadata": {
        "id": "a3olTtrBJHIA"
      },
      "execution_count": 15,
      "outputs": []
    },
    {
      "cell_type": "code",
      "source": [
        "# Fit the grid search object to the data\n",
        "grid.fit(X_train, y_train)"
      ],
      "metadata": {
        "colab": {
          "base_uri": "https://localhost:8080/"
        },
        "id": "m0vpJ0keJHZx",
        "outputId": "279158d8-7b9f-4661-a9d6-66217961552c"
      },
      "execution_count": 16,
      "outputs": [
        {
          "output_type": "execute_result",
          "data": {
            "text/plain": [
              "GridSearchCV(cv=5, estimator=RandomForestClassifier(),\n",
              "             param_grid={'max_depth': [5, 10, 15],\n",
              "                         'n_estimators': [50, 100, 200]})"
            ]
          },
          "metadata": {},
          "execution_count": 16
        }
      ]
    },
    {
      "cell_type": "code",
      "source": [
        "# Make predictions on the test set\n",
        "y_pred = grid.predict(X_test)"
      ],
      "metadata": {
        "id": "hbc_KNjOJIDP"
      },
      "execution_count": 17,
      "outputs": []
    },
    {
      "cell_type": "code",
      "source": [
        "# Evaluate the model's performance\n",
        "acc = accuracy_score(y_test, y_pred)\n",
        "conf_mat = confusion_matrix(y_test, y_pred)\n",
        "print(\"Accuracy: \", acc)\n",
        "print(\"Confusion Matrix: \\n\", conf_mat)"
      ],
      "metadata": {
        "colab": {
          "base_uri": "https://localhost:8080/"
        },
        "id": "JSIQonNoJIcI",
        "outputId": "3e935fd6-2500-4793-9754-811be548f28e"
      },
      "execution_count": 18,
      "outputs": [
        {
          "output_type": "stream",
          "name": "stdout",
          "text": [
            "Accuracy:  1.0\n",
            "Confusion Matrix: \n",
            " [[10  0  0]\n",
            " [ 0  9  0]\n",
            " [ 0  0 11]]\n"
          ]
        }
      ]
    },
    {
      "cell_type": "code",
      "source": [
        "# Visualize the feature importance\n",
        "importances = grid.best_estimator_.feature_importances_\n",
        "features = X_train.columns\n",
        "indices = np.argsort(importances)\n",
        "plt.figure(figsize=(6,6))\n",
        "plt.title('Feature Importance')\n",
        "plt.barh(range(len(indices)), importances[indices], color='b', align='center')\n",
        "plt.yticks(range(len(indices)), [features[i] for i in indices])\n",
        "plt.xlabel('Relative Importance')\n",
        "plt.show()"
      ],
      "metadata": {
        "colab": {
          "base_uri": "https://localhost:8080/",
          "height": 404
        },
        "id": "N1u5L_p2JI7A",
        "outputId": "ab250966-d1fa-4299-ff88-c3a4868b720e"
      },
      "execution_count": 19,
      "outputs": [
        {
          "output_type": "display_data",
          "data": {
            "text/plain": [
              "<Figure size 432x432 with 1 Axes>"
            ],
            "image/png": "[encoded data removed]"
          },
          "metadata": {
            "needs_background": "light"
          }
        }
      ]
    },
    {
      "cell_type": "code",
      "source": [],
      "metadata": {
        "id": "gbaAv2GKJJgK"
      },
      "execution_count": 19,
      "outputs": []
    },
    {
      "cell_type": "code",
      "source": [],
      "metadata": {
        "id": "2NSlYn11JJ6B"
      },
      "execution_count": 19,
      "outputs": []
    },
    {
      "cell_type": "code",
      "source": [],
      "metadata": {
        "id": "fEmnZUl0JKTr"
      },
      "execution_count": 19,
      "outputs": []
    },
    {
      "cell_type": "code",
      "source": [],
      "metadata": {
        "id": "0T_nE9WGJKio"
      },
      "execution_count": 19,
      "outputs": []
    }
  ]
}