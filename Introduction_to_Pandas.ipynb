{
  "metadata": {
    "language_info": {
      "codemirror_mode": {
        "name": "python",
        "version": 3
      },
      "file_extension": ".py",
      "mimetype": "text/x-python",
      "name": "python",
      "nbconvert_exporter": "python",
      "pygments_lexer": "ipython3",
      "version": "3.8"
    },
    "kernelspec": {
      "name": "python",
      "display_name": "Python (Pyodide)",
      "language": "python"
    },
    "colab": {
      "provenance": []
    }
  },
  "nbformat_minor": 0,
  "nbformat": 4,
  "cells": [
    {
      "cell_type": "code",
      "source": [
        "#1.\tCreating DataFrames - This exercise introduces how to create and manipulate DataFrames using the Pandas library.\n",
        "import pandas as pd\n",
        "\n",
        "# Creating a DataFrame\n",
        "data = {\"name\": [\"John\", \"Emily\", \"Michael\"], \"age\": [25, 22, 30], \"city\": [\"New York\", \"San Francisco\", \"Los Angeles\"]}\n",
        "df = pd.DataFrame(data)\n",
        "print(df)"
      ],
      "metadata": {
        "id": "LjOo9IRuMxrk"
      },
      "execution_count": null,
      "outputs": []
    },
    {
      "cell_type": "code",
      "source": [
        "#2.\tImporting and Exporting Data - This exercise introduces how to import and export data from various file formats such as CSV, Excel, and SQL.\n",
        "import pandas as pd\n",
        "\n",
        "# Importing data from a CSV file\n",
        "url = 'https://people.sc.fsu.edu/~jburkardt/data/csv/addresses.csv'\n",
        "df = pd.read_csv(url)\n",
        "print(df)"
      ],
      "metadata": {
        "colab": {
          "base_uri": "https://localhost:8080/"
        },
        "id": "uYf2P0BvMxrq",
        "outputId": "0e0083c0-b05e-45a0-df96-3a61e8b2c4a2"
      },
      "execution_count": 10,
      "outputs": [
        {
          "output_type": "stream",
          "name": "stdout",
          "text": [
            "                    John       Doe                 120 jefferson st.  \\\n",
            "0                   Jack  McGinnis                      220 hobo Av.   \n",
            "1          John \"Da Man\"    Repici                 120 Jefferson St.   \n",
            "2                Stephen     Tyler  7452 Terrace \"At the Plaza\" road   \n",
            "3                    NaN  Blankman                               NaN   \n",
            "4  Joan \"the bone\", Anne       Jet               9th, at Terrace plc   \n",
            "\n",
            "     Riverside   NJ   08075  \n",
            "0        Phila   PA    9119  \n",
            "1    Riverside   NJ    8075  \n",
            "2     SomeTown   SD   91234  \n",
            "3     SomeTown   SD     298  \n",
            "4  Desert City   CO     123  \n"
          ]
        }
      ]
    },
    {
      "cell_type": "code",
      "source": [
        "#3.\tData Selection and Filtering - This exercise introduces how to select and filter data from a DataFrame using various techniques such as indexing, slicing, and boolean indexing.\n",
        "import pandas as pd\n",
        "\n",
        "# Creating a DataFrame\n",
        "data = {\"name\": [\"John\", \"Emily\", \"Michael\"], \"age\": [25, 22, 30], \"city\": [\"New York\", \"San Francisco\", \"Los Angeles\"]}\n",
        "df = pd.DataFrame(data)\n",
        "\n",
        "# Selecting a column\n",
        "print(df[\"name\"])\n",
        "\n",
        "# Filtering by a condition\n",
        "print(df[df[\"age\"] > 25])"
      ],
      "metadata": {
        "colab": {
          "base_uri": "https://localhost:8080/"
        },
        "id": "DTHapAeWMxrt",
        "outputId": "b1316192-bed9-4a27-ee98-17811979d825"
      },
      "execution_count": 11,
      "outputs": [
        {
          "output_type": "stream",
          "name": "stdout",
          "text": [
            "0       John\n",
            "1      Emily\n",
            "2    Michael\n",
            "Name: name, dtype: object\n",
            "      name  age         city\n",
            "2  Michael   30  Los Angeles\n"
          ]
        }
      ]
    },
    {
      "cell_type": "code",
      "source": [
        "#4.\tData Grouping and Aggregating - This exercise introduces how to group and aggregate data using various techniques such as groupby and pivot tables.\n",
        "import pandas as pd\n",
        "\n",
        "# Creating a DataFrame\n",
        "data = {\"name\": [\"John\", \"Emily\", \"Michael\", \"Emma\", \"Jacob\"], \"age\": [25, 22, 30, 27, 20],\n",
        "        \"city\": [\"New York\", \"San Francisco\", \"Los Angeles\", \"New York\", \"San Francisco\"],\n",
        "        \"salary\": [50000, 60000, 70000, 80000, 90000]}\n",
        "df = pd.DataFrame(data)\n",
        "\n",
        "# Grouping by city and calculating mean salary\n",
        "print(df.groupby(\"city\")[\"salary\"].mean())\n",
        "\n",
        "# Creating a pivot table\n",
        "print(df.pivot_table(values=\"salary\", index=\"city\", columns=\"age\"))"
      ],
      "metadata": {
        "colab": {
          "base_uri": "https://localhost:8080/"
        },
        "id": "PYphGCUbMxrv",
        "outputId": "f13a3f6a-4993-49e0-e52b-6686a9cbe779"
      },
      "execution_count": 12,
      "outputs": [
        {
          "output_type": "stream",
          "name": "stdout",
          "text": [
            "city\n",
            "Los Angeles      70000.0\n",
            "New York         65000.0\n",
            "San Francisco    75000.0\n",
            "Name: salary, dtype: float64\n",
            "age                 20       22       25       27       30\n",
            "city                                                      \n",
            "Los Angeles        NaN      NaN      NaN      NaN  70000.0\n",
            "New York           NaN      NaN  50000.0  80000.0      NaN\n",
            "San Francisco  90000.0  60000.0      NaN      NaN      NaN\n"
          ]
        }
      ]
    },
    {
      "cell_type": "code",
      "source": [
        "#5.\tData Cleaning and Preprocessing - This exercise introduces how to clean and preprocess data using various techniques such as handling missing values, renaming columns, and removing duplicates.\n",
        "import pandas as pd\n",
        "\n",
        "# Creating a DataFrame\n",
        "data = {\"name\": [\"John\", \"Emily\", \"Michael\", \"Emma\", \"Jacob\"], \"age\": [25, 22, 30, None, 20],\n",
        "        \"city\": [\"New York\", \"San Francisco\", \"Los Angeles\", \"New York\", \"San Francisco\"],\n",
        "        \"salary\": [50000, 60000, 70000, 80000, 90000]}\n",
        "df = pd.DataFrame(data)\n",
        "\n",
        "# Handling missing values\n",
        "df = df.fillna(df.mean())\n",
        "\n",
        "# Renaming columns\n",
        "df = df.rename(columns={\"name\": \"Name\", \"age\": \"Age\", \"city\": \"City\", \"salary\": \"Salary\"})\n",
        "\n",
        "# Removing duplicates\n",
        "df = df.drop_duplicates()\n",
        "print(df)\n",
        "\n",
        "#Please note that these are just simple examples, Pandas is a powerful library and have a lot of functionality, these examples just show the basic functionality of it.\n",
        "#The above mentioned examples are just a starting point and there are many more things that can be done with pandas library like joining, merging, concatenating DataFrames, handling time series data, etc."
      ],
      "metadata": {
        "colab": {
          "base_uri": "https://localhost:8080/"
        },
        "id": "1ZMjnUSNMxrx",
        "outputId": "8ce9d570-56b0-4a42-86dc-d2ab4923241b"
      },
      "execution_count": 13,
      "outputs": [
        {
          "output_type": "stream",
          "name": "stdout",
          "text": [
            "      Name    Age           City  Salary\n",
            "0     John  25.00       New York   50000\n",
            "1    Emily  22.00  San Francisco   60000\n",
            "2  Michael  30.00    Los Angeles   70000\n",
            "3     Emma  24.25       New York   80000\n",
            "4    Jacob  20.00  San Francisco   90000\n"
          ]
        },
        {
          "output_type": "stream",
          "name": "stderr",
          "text": [
            "<ipython-input-13-107dea16cb65>:11: FutureWarning: Dropping of nuisance columns in DataFrame reductions (with 'numeric_only=None') is deprecated; in a future version this will raise TypeError.  Select only valid columns before calling the reduction.\n",
            "  df = df.fillna(df.mean())\n"
          ]
        }
      ]
    }
  ]
}