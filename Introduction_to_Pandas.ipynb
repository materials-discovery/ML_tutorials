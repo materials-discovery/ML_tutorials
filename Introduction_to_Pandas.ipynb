{
  "metadata": {
    "language_info": {
      "codemirror_mode": {
        "name": "python",
        "version": 3
      },
      "file_extension": ".py",
      "mimetype": "text/x-python",
      "name": "python",
      "nbconvert_exporter": "python",
      "pygments_lexer": "ipython3",
      "version": "3.8"
    },
    "kernelspec": {
      "name": "python",
      "display_name": "Python (Pyodide)",
      "language": "python"
    }
  },
  "nbformat_minor": 4,
  "nbformat": 4,
  "cells": [
    {
      "cell_type": "code",
      "source": "#1.\tCreating DataFrames - This exercise introduces how to create and manipulate DataFrames using the Pandas library.\nimport pandas as pd\n\n# Creating a DataFrame\ndata = {\"name\": [\"John\", \"Emily\", \"Michael\"], \"age\": [25, 22, 30], \"city\": [\"New York\", \"San Francisco\", \"Los Angeles\"]}\ndf = pd.DataFrame(data)\nprint(df)",
      "metadata": {},
      "execution_count": null,
      "outputs": []
    },
    {
      "cell_type": "code",
      "source": "#2.\tImporting and Exporting Data - This exercise introduces how to import and export data from various file formats such as CSV, Excel, and SQL.\nimport pandas as pd\n\n# Importing data from a CSV file\nurl = 'https://github.com/materials-discovery/ML_tutorials/blob/main/data.csv'\ndf = pd.read_csv(url, index_col=0)\nprint(df)",
      "metadata": {},
      "execution_count": null,
      "outputs": []
    },
    {
      "cell_type": "code",
      "source": "#3.\tData Selection and Filtering - This exercise introduces how to select and filter data from a DataFrame using various techniques such as indexing, slicing, and boolean indexing.\nimport pandas as pd\n\n# Creating a DataFrame\ndata = {\"name\": [\"John\", \"Emily\", \"Michael\"], \"age\": [25, 22, 30], \"city\": [\"New York\", \"San Francisco\", \"Los Angeles\"]}\ndf = pd.DataFrame(data)\n\n# Selecting a column\nprint(df[\"name\"])\n\n# Filtering by a condition\nprint(df[df[\"age\"] > 25])",
      "metadata": {},
      "execution_count": null,
      "outputs": []
    },
    {
      "cell_type": "code",
      "source": "#4.\tData Grouping and Aggregating - This exercise introduces how to group and aggregate data using various techniques such as groupby and pivot tables.\nimport pandas as pd\n\n# Creating a DataFrame\ndata = {\"name\": [\"John\", \"Emily\", \"Michael\", \"Emma\", \"Jacob\"], \"age\": [25, 22, 30, 27, 20],\n        \"city\": [\"New York\", \"San Francisco\", \"Los Angeles\", \"New York\", \"San Francisco\"],\n        \"salary\": [50000, 60000, 70000, 80000, 90000]}\ndf = pd.DataFrame(data)\n\n# Grouping by city and calculating mean salary\nprint(df.groupby(\"city\")[\"salary\"].mean())\n\n# Creating a pivot table\nprint(df.pivot_table(values=\"salary\", index=\"city\", columns=\"age\"))",
      "metadata": {},
      "execution_count": null,
      "outputs": []
    },
    {
      "cell_type": "code",
      "source": "#5.\tData Cleaning and Preprocessing - This exercise introduces how to clean and preprocess data using various techniques such as handling missing values, renaming columns, and removing duplicates.\nimport pandas as pd\n\n# Creating a DataFrame\ndata = {\"name\": [\"John\", \"Emily\", \"Michael\", \"Emma\", \"Jacob\"], \"age\": [25, 22, 30, None, 20],\n        \"city\": [\"New York\", \"San Francisco\", \"Los Angeles\", \"New York\", \"San Francisco\"],\n        \"salary\": [50000, 60000, 70000, 80000, 90000]}\ndf = pd.DataFrame(data)\n\n# Handling missing values\ndf = df.fillna(df.mean())\n\n# Renaming columns\ndf = df.rename(columns={\"name\": \"Name\", \"age\": \"Age\", \"city\": \"City\", \"salary\": \"Salary\"})\n\n# Removing duplicates\ndf = df.drop_duplicates()\nprint(df)\n\n#Please note that these are just simple examples, Pandas is a powerful library and have a lot of functionality, these examples just show the basic functionality of it.\n#The above mentioned examples are just a starting point and there are many more things that can be done with pandas library like joining, merging, concatenating DataFrames, handling time series data, etc.",
      "metadata": {},
      "execution_count": null,
      "outputs": []
    }
  ]
}