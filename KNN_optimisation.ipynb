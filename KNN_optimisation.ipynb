{
  "nbformat": 4,
  "nbformat_minor": 0,
  "metadata": {
    "colab": {
      "provenance": []
    },
    "kernelspec": {
      "name": "python3",
      "display_name": "Python 3"
    },
    "language_info": {
      "name": "python"
    }
  },
  "cells": [
    {
      "cell_type": "code",
      "execution_count": 1,
      "metadata": {
        "id": "SIfeH5VdqLEO"
      },
      "outputs": [],
      "source": [
        "# import the necessary libraries\n",
        "import pandas as pd\n",
        "import numpy as np\n",
        "import matplotlib.pyplot as plt\n",
        "from sklearn.neighbors import KNeighborsClassifier\n",
        "from sklearn.model_selection import train_test_split\n",
        "from sklearn import metrics\n"
      ]
    },
    {
      "cell_type": "code",
      "source": [
        "\n",
        "# load the dataset\n",
        "#data = pd.read_csv('iris.csv')\n",
        "url = 'https://archive.ics.uci.edu/ml/machine-learning-databases/iris/iris.data'\n",
        "colnames = ['sepal_length', 'sepal_width', 'petal_length', 'petal_width', 'species']\n",
        "iris = pd.read_csv(url, header=None, names=colnames)\n"
      ],
      "metadata": {
        "id": "RkRQfRodqTgb"
      },
      "execution_count": 2,
      "outputs": []
    },
    {
      "cell_type": "code",
      "source": [
        "#iris = pd.read_csv(url)\n",
        "data = iris\n",
        "\n"
      ],
      "metadata": {
        "id": "15ZvzInaqT-M"
      },
      "execution_count": 3,
      "outputs": []
    },
    {
      "cell_type": "code",
      "source": [
        "# select the features and target\n",
        "X = data[['sepal_length', 'sepal_width', 'petal_length', 'petal_width']]\n",
        "y = data['species']\n"
      ],
      "metadata": {
        "id": "fRkCyPepqUZF"
      },
      "execution_count": 4,
      "outputs": []
    },
    {
      "cell_type": "code",
      "source": [
        "# split the data into train and test sets\n",
        "X_train, X_test, y_train, y_test = train_test_split(X, y, test_size=0.2, random_state=42)\n"
      ],
      "metadata": {
        "id": "qYJQJfmEqU9s"
      },
      "execution_count": 5,
      "outputs": []
    },
    {
      "cell_type": "code",
      "source": [
        "# define and fit the KNN model with different values of k\n",
        "k_values = [1, 3, 5, 7, 9]\n",
        "accuracies = []\n",
        "for k in k_values:\n",
        "  knn = KNeighborsClassifier(n_neighbors=k)\n",
        "  knn.fit(X_train, y_train)\n",
        "  predictions = knn.predict(X_test)\n",
        "  accuracy = metrics.accuracy_score(y_test, predictions)\n",
        "  accuracies.append(accuracy)"
      ],
      "metadata": {
        "id": "8B4M-4-cqVhW"
      },
      "execution_count": 6,
      "outputs": []
    },
    {
      "cell_type": "code",
      "source": [
        "# visualize the results\n",
        "plt.plot(k_values, accuracies)\n",
        "plt.xlabel('Values of K')\n",
        "plt.ylabel('Accuracies')\n",
        "plt.title('Effect of varying K on KNN Classification of Iris Dataset')\n",
        "plt.show()"
      ],
      "metadata": {
        "id": "0NPCoyB7qhq4"
      },
      "execution_count": null,
      "outputs": []
    }
  ]
}