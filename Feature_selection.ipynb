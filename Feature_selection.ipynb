{
  "nbformat": 4,
  "nbformat_minor": 0,
  "metadata": {
    "colab": {
      "provenance": []
    },
    "kernelspec": {
      "name": "python3",
      "display_name": "Python 3"
    },
    "language_info": {
      "name": "python"
    }
  },
  "cells": [
    {
      "cell_type": "code",
      "execution_count": 2,
      "metadata": {
        "id": "5J6KBtOS94NW"
      },
      "outputs": [],
      "source": [
        "\n",
        "import matplotlib.pyplot as plt\n",
        "import pandas as pd\n",
        "import numpy as np\n",
        "from sklearn.ensemble import RandomForestClassifier\n",
        "from sklearn.feature_selection import SelectKBest, f_classif\n",
        "from sklearn.model_selection import train_test_split"
      ]
    },
    {
      "cell_type": "code",
      "source": [
        "# Load the dataset\n",
        "data = pd.read_csv('https://archive.ics.uci.edu/ml/machine-learning-databases/breast-cancer-wisconsin/wdbc.data', header=None)\n",
        "X = data.iloc[:, 2:].values\n",
        "y = data.iloc[:, 1].values"
      ],
      "metadata": {
        "id": "0tQMkcGa-law"
      },
      "execution_count": 3,
      "outputs": []
    },
    {
      "cell_type": "code",
      "source": [
        "\n",
        "# Encode the labels\n",
        "y = (y == 'M').astype(int)"
      ],
      "metadata": {
        "id": "gYYOIJm7-pga"
      },
      "execution_count": 4,
      "outputs": []
    },
    {
      "cell_type": "code",
      "source": [
        "# Split the data into training and test sets\n",
        "X_train, X_test, y_train, y_test = train_test_split(X, y, test_size=0.2, random_state=0)"
      ],
      "metadata": {
        "id": "QE5LxVLy-p_5"
      },
      "execution_count": 5,
      "outputs": []
    },
    {
      "cell_type": "code",
      "source": [
        "# Initialize the list to store the accuracy of the model at each iteration\n",
        "accuracies = []"
      ],
      "metadata": {
        "id": "PvwzbdAB-qgz"
      },
      "execution_count": 6,
      "outputs": []
    },
    {
      "cell_type": "code",
      "source": [
        "# Start with all features\n",
        "current_features = X_train.shape[1]"
      ],
      "metadata": {
        "id": "smryBiDv-rBm"
      },
      "execution_count": 7,
      "outputs": []
    },
    {
      "cell_type": "code",
      "source": [
        "# Define the number of features to remove at each iteration\n",
        "n_remove = 1\n",
        "\n",
        "while current_features > 0:\n",
        "    # Select the K best features using f_classif\n",
        "    selector = SelectKBest(f_classif, k=current_features)\n",
        "    selector.fit(X_train, y_train)\n",
        "    X_train_selected = selector.transform(X_train)\n",
        "    X_test_selected = selector.transform(X_test)\n",
        "\n",
        "    # Train a Random Forest classifier on the selected features\n",
        "    clf = RandomForestClassifier(n_estimators=100, random_state=0)\n",
        "    clf.fit(X_train_selected, y_train)\n",
        "\n",
        "    # Evaluate the accuracy of the classifier on the test set\n",
        "    accuracy = clf.score(X_test_selected, y_test)\n",
        "    accuracies.append(accuracy)\n",
        "\n",
        "    # Decrement the number of features\n",
        "    current_features -= n_remove"
      ],
      "metadata": {
        "id": "mfNfSHyj-ri8"
      },
      "execution_count": 8,
      "outputs": []
    },
    {
      "cell_type": "code",
      "source": [
        "# Plot the evolution of accuracy over the iterations\n",
        "plt.plot(range(len(accuracies)), accuracies)\n",
        "plt.xlabel(\"Number of Iterations\")\n",
        "plt.ylabel(\"Accuracy\")\n",
        "plt.title(\"Accuracy over the Iterations of Forward-Backward Feature Selection\")\n",
        "plt.show()"
      ],
      "metadata": {
        "id": "0UADIxV7-r7Y"
      },
      "execution_count": null,
      "outputs": []
    }
  ]
}