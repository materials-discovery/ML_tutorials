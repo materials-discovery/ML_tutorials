{
  "metadata": {
    "language_info": {
      "codemirror_mode": {
        "name": "python",
        "version": 3
      },
      "file_extension": ".py",
      "mimetype": "text/x-python",
      "name": "python",
      "nbconvert_exporter": "python",
      "pygments_lexer": "ipython3",
      "version": "3.8"
    },
    "kernelspec": {
      "name": "python",
      "display_name": "Python (Pyodide)",
      "language": "python"
    }
  },
  "nbformat_minor": 4,
  "nbformat": 4,
  "cells": [
    {
      "cell_type": "code",
      "source": "#1.\tPrint \"Hello, World!\"\nprint(\"Hello, World!\")",
      "metadata": {},
      "execution_count": null,
      "outputs": []
    },
    {
      "cell_type": "code",
      "source": "#2.\tVariables and Data Types\n# Assigning values to variables\nname = \"John\"\nage = 25\nis_student = True\n\n# Printing the variables and their data types\nprint(\"Name: \", name, \"Type: \", type(name))\nprint(\"Age: \", age, \"Type: \", type(age))\nprint(\"Is Student: \", is_student, \"Type: \", type(is_student))",
      "metadata": {},
      "execution_count": null,
      "outputs": []
    },
    {
      "cell_type": "code",
      "source": "#3.\tBasic Arithmetic\n# Assigning values to variables\na = 10\nb = 5\n\n# Basic arithmetic operations\nc = a + b\nd = a - b\ne = a * b\nf = a / b\n\n# Printing the results\nprint(\"a + b = \", c)\nprint(\"a - b = \", d)\nprint(\"a * b = \", e)\nprint(\"a / b = \", f)",
      "metadata": {},
      "execution_count": null,
      "outputs": []
    },
    {
      "cell_type": "code",
      "source": "#4.\tIf-Else Statements\n# Assigning value to a variable\nage = 18\n\n# If-else statement\nif age >= 18:\n    print(\"You are an adult.\")\nelse:\n    print(\"You are a minor.\")",
      "metadata": {},
      "execution_count": null,
      "outputs": []
    },
    {
      "cell_type": "code",
      "source": "#5.\tFor Loops\n# List of numbers\nnumbers = [1, 2, 3, 4, 5]\n\n# For loop to iterate over the list\nfor number in numbers:\n    print(number)\n    ",
      "metadata": {},
      "execution_count": null,
      "outputs": []
    },
    {
      "cell_type": "code",
      "source": "#6.\tWhile Loops\n# Variable to keep track of iterations\ncounter = 0\n\n# While loop\nwhile counter < 5:\n    print(\"Iteration: \", counter)\n    counter += 1",
      "metadata": {},
      "execution_count": null,
      "outputs": []
    },
    {
      "cell_type": "code",
      "source": "#7.\tLists\n# Creating a list\nfruits = [\"apple\", \"banana\", \"orange\"]\n\n# Modifying an element in the list\nfruits[1] = \"mango\"\n\n# Accessing an element in the list\nprint(\"First fruit: \", fruits[0])\n\n# Printing the entire list\nprint(\"Fruits: \", fruits)",
      "metadata": {},
      "execution_count": null,
      "outputs": []
    },
    {
      "cell_type": "code",
      "source": "#8.\tFunctions\n# Defining a function\ndef greet(name):\n    print(\"Hello, \", name)\n\n# Calling the function\ngreet(\"John\")",
      "metadata": {},
      "execution_count": null,
      "outputs": []
    },
    {
      "cell_type": "code",
      "source": "#9.\tDictionaries\n# Creating a dictionary\nperson = {\"name\": \"John\", \"age\": 25, \"is_student\": True}\n\n# Modifying an element in the dictionary\nperson[\"age\"] = 30\n\n# Accessing an element in the dictionary\nprint(\"Name: \", person[\"name\"])\n\n# Printing the entire dictionary\nprint(\"Person: \", person)",
      "metadata": {},
      "execution_count": null,
      "outputs": []
    },
    {
      "cell_type": "code",
      "source": "#10.\tFile Input/Output\n# Writing to a file\nwith open(\"example.txt\", \"w\") as file:\n    file.write(\"Hello, World!\")\n\n# Reading from a file\nwith open(\"example.txt\", \"r\") as file:\n    contents = file.read()\n    print(contents)",
      "metadata": {},
      "execution_count": null,
      "outputs": []
    }
  ]
}