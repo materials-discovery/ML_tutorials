{
  "nbformat": 4,
  "nbformat_minor": 0,
  "metadata": {
    "colab": {
      "provenance": []
    },
    "kernelspec": {
      "name": "python3",
      "display_name": "Python 3"
    },
    "language_info": {
      "name": "python"
    }
  },
  "cells": [
    {
      "cell_type": "code",
      "execution_count": null,
      "metadata": {
        "id": "eYW4u_KhMo9V"
      },
      "outputs": [],
      "source": [
        "import seaborn as sns\n",
        "import matplotlib.pyplot as plt\n",
        "\n",
        "# Load the iris dataset\n",
        "iris = sns.load_dataset(\"iris\")\n"
      ]
    },
    {
      "cell_type": "code",
      "source": [
        "\n",
        "# Plot the data\n",
        "sns.boxplot(data=iris)\n",
        "plt.show()\n"
      ],
      "metadata": {
        "id": "cRqrd0hCNmQO"
      },
      "execution_count": null,
      "outputs": []
    },
    {
      "cell_type": "code",
      "source": [
        "# Calculate the quartiles\n",
        "Q1 = iris.quantile(0.25)\n",
        "Q3 = iris.quantile(0.75)\n",
        "IQR = Q3 - Q1\n"
      ],
      "metadata": {
        "id": "7Lz5NYT_No4A"
      },
      "execution_count": null,
      "outputs": []
    },
    {
      "cell_type": "code",
      "source": [
        "\n",
        "# Remove outliers\n",
        "iris = iris[~((iris < (Q1 - 1.5 * IQR)) | (iris > (Q3 + 1.5 * IQR))).any(axis=1)]\n",
        "\n"
      ],
      "metadata": {
        "id": "8erUISvONpXV"
      },
      "execution_count": null,
      "outputs": []
    },
    {
      "cell_type": "code",
      "source": [
        "# Plot the data\n",
        "sns.boxplot(data=iris)\n",
        "plt.show()"
      ],
      "metadata": {
        "id": "YTGxjjCyNsxd"
      },
      "execution_count": null,
      "outputs": []
    }
  ]
}